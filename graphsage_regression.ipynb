{
 "cells": [
  {
   "cell_type": "markdown",
   "id": "1ebc4008-116f-45d5-a022-412e35d29cec",
   "metadata": {},
   "source": [
    "# Libraries"
   ]
  },
  {
   "cell_type": "code",
   "execution_count": 1,
   "id": "cef59150-b13e-40c3-9f61-f848a2e5b214",
   "metadata": {},
   "outputs": [
    {
     "name": "stderr",
     "output_type": "stream",
     "text": [
      "/home/leffff/PycharmProjects/misis-ai-course-final-project-2023/.venv/lib/python3.10/site-packages/tqdm/auto.py:21: TqdmWarning: IProgress not found. Please update jupyter and ipywidgets. See https://ipywidgets.readthedocs.io/en/stable/user_install.html\n",
      "  from .autonotebook import tqdm as notebook_tqdm\n"
     ]
    }
   ],
   "source": [
    "import random\n",
    "\n",
    "from tqdm.auto import tqdm\n",
    "import numpy as np\n",
    "import pandas as pd\n",
    "import torch\n",
    "from torch.utils.data import Subset\n",
    "from torch.optim import AdamW\n",
    "\n",
    "from transformers.optimization import get_cosine_schedule_with_warmup\n",
    "import torch_geometric as pyg\n",
    "from torch_geometric.nn.pool import global_mean_pool\n",
    "from torch_geometric.data import Dataset, DataLoader\n",
    "from sklearn.model_selection import train_test_split\n",
    "from sklearn.metrics import r2_score"
   ]
  },
  {
   "cell_type": "markdown",
   "id": "9f7dcd04-cc86-477b-bf5c-0a863ca5a454",
   "metadata": {},
   "source": [
    "# Config"
   ]
  },
  {
   "cell_type": "code",
   "execution_count": 2,
   "id": "24fa92b6-c00c-4832-8572-023ec0476eb0",
   "metadata": {},
   "outputs": [],
   "source": [
    "def seed_everything(seed_value):\n",
    "    random.seed(seed_value)\n",
    "    np.random.seed(seed_value)\n",
    "    torch.manual_seed(seed_value)\n",
    "    if torch.cuda.is_available():\n",
    "        torch.cuda.manual_seed(seed_value)\n",
    "        torch.cuda.manual_seed_all(seed_value)\n",
    "        # torch.backends.cudnn.benchmark = True\n",
    "        torch.backends.cudnn.deterministic = False\n",
    "        \n"
   ]
  },
  {
   "cell_type": "code",
   "execution_count": 3,
   "id": "3515f89e-c9c2-42eb-830a-46ce3ae2b1a9",
   "metadata": {},
   "outputs": [],
   "source": [
    "from dataclasses import dataclass\n",
    "from typing import Tuple\n",
    "\n",
    "@dataclass\n",
    "class TrainingConfig:\n",
    "    # Training\n",
    "    batch_size = 2048\n",
    "    epochs = 50\n",
    "    learning_rate = 1e-2\n",
    "    lr_warmup_steps = 500\n",
    "\n",
    "    device = \"cuda\"\n",
    "    random_state = 42\n",
    "\n",
    "\n",
    "config = TrainingConfig()\n",
    "seed_everything(config.random_state)"
   ]
  },
  {
   "cell_type": "markdown",
   "id": "9a734c24-6592-4239-8894-df3fd58b7645",
   "metadata": {},
   "source": [
    "# Data"
   ]
  },
  {
   "cell_type": "code",
   "execution_count": 4,
   "id": "5dfec7b9-27e9-4ae2-89f5-e5f22081954e",
   "metadata": {},
   "outputs": [
    {
     "data": {
      "text/html": [
       "<div>\n",
       "<style scoped>\n",
       "    .dataframe tbody tr th:only-of-type {\n",
       "        vertical-align: middle;\n",
       "    }\n",
       "\n",
       "    .dataframe tbody tr th {\n",
       "        vertical-align: top;\n",
       "    }\n",
       "\n",
       "    .dataframe thead th {\n",
       "        text-align: right;\n",
       "    }\n",
       "</style>\n",
       "<table border=\"1\" class=\"dataframe\">\n",
       "  <thead>\n",
       "    <tr style=\"text-align: right;\">\n",
       "      <th></th>\n",
       "      <th>Title</th>\n",
       "      <th>IC50</th>\n",
       "      <th>SMILES</th>\n",
       "    </tr>\n",
       "  </thead>\n",
       "  <tbody>\n",
       "    <tr>\n",
       "      <th>0</th>\n",
       "      <td>CHEMBL2206459</td>\n",
       "      <td>0.000015</td>\n",
       "      <td>[H]\\N=C(N)\\N[C@@H](C1)[C@@H](NC(=O)C)[C@@H](C=...</td>\n",
       "    </tr>\n",
       "    <tr>\n",
       "      <th>1</th>\n",
       "      <td>CHEMBL3818159</td>\n",
       "      <td>0.000016</td>\n",
       "      <td>O=C(O)C1=C[C@H](N)[C@@H](NC(=O)C)[C@@H](C1)COC...</td>\n",
       "    </tr>\n",
       "    <tr>\n",
       "      <th>2</th>\n",
       "      <td>CHEMBL1956716</td>\n",
       "      <td>0.000033</td>\n",
       "      <td>C=CC(=O)N[C@H]([C@H](C1)N)[C@@H](C=C1C([O-])=O...</td>\n",
       "    </tr>\n",
       "    <tr>\n",
       "      <th>3</th>\n",
       "      <td>CHEMBL1956715</td>\n",
       "      <td>0.000032</td>\n",
       "      <td>CC(=O)N[C@H]([C@H](C1)N)[C@@H](C=C1C([O-])=O)O...</td>\n",
       "    </tr>\n",
       "    <tr>\n",
       "      <th>4</th>\n",
       "      <td>CHEMBL4444029</td>\n",
       "      <td>0.000041</td>\n",
       "      <td>O=C(O)c1c(O)c(=O)cc([nH]1)-c(c2C)ccc(c2)-c3noc...</td>\n",
       "    </tr>\n",
       "    <tr>\n",
       "      <th>...</th>\n",
       "      <td>...</td>\n",
       "      <td>...</td>\n",
       "      <td>...</td>\n",
       "    </tr>\n",
       "    <tr>\n",
       "      <th>36372</th>\n",
       "      <td>CHEMBL3699085</td>\n",
       "      <td>2366.790000</td>\n",
       "      <td>CC(=O)N[C@H]1CC[C@@H]([C@@H]12)[C@@H](O[Si](C)...</td>\n",
       "    </tr>\n",
       "    <tr>\n",
       "      <th>36373</th>\n",
       "      <td>CHEMBL109004</td>\n",
       "      <td>2372.100000</td>\n",
       "      <td>CC(=O)Nc(cc1)c(OC(=O)C)cc1C(=O)O</td>\n",
       "    </tr>\n",
       "    <tr>\n",
       "      <th>36374</th>\n",
       "      <td>CHEMBL2259758</td>\n",
       "      <td>2600.970000</td>\n",
       "      <td>c1cccc(c12)cccc2CNC(=O)CCCCCCO[C@]3(C(=O)O)C[C...</td>\n",
       "    </tr>\n",
       "    <tr>\n",
       "      <th>36375</th>\n",
       "      <td>CHEMBL109781</td>\n",
       "      <td>2793.000000</td>\n",
       "      <td>NCCCC(=O)Nc(c(cc1)NC(=O)C)cc1C(=O)O</td>\n",
       "    </tr>\n",
       "    <tr>\n",
       "      <th>36376</th>\n",
       "      <td>CHEMBL3699084</td>\n",
       "      <td>3183.600000</td>\n",
       "      <td>CC(=O)N[C@H]1CS(=O)(=O)[C@@H]([C@@H]12)[C@@H](...</td>\n",
       "    </tr>\n",
       "  </tbody>\n",
       "</table>\n",
       "<p>36377 rows × 3 columns</p>\n",
       "</div>"
      ],
      "text/plain": [
       "               Title         IC50  \\\n",
       "0      CHEMBL2206459     0.000015   \n",
       "1      CHEMBL3818159     0.000016   \n",
       "2      CHEMBL1956716     0.000033   \n",
       "3      CHEMBL1956715     0.000032   \n",
       "4      CHEMBL4444029     0.000041   \n",
       "...              ...          ...   \n",
       "36372  CHEMBL3699085  2366.790000   \n",
       "36373   CHEMBL109004  2372.100000   \n",
       "36374  CHEMBL2259758  2600.970000   \n",
       "36375   CHEMBL109781  2793.000000   \n",
       "36376  CHEMBL3699084  3183.600000   \n",
       "\n",
       "                                                  SMILES  \n",
       "0      [H]\\N=C(N)\\N[C@@H](C1)[C@@H](NC(=O)C)[C@@H](C=...  \n",
       "1      O=C(O)C1=C[C@H](N)[C@@H](NC(=O)C)[C@@H](C1)COC...  \n",
       "2      C=CC(=O)N[C@H]([C@H](C1)N)[C@@H](C=C1C([O-])=O...  \n",
       "3      CC(=O)N[C@H]([C@H](C1)N)[C@@H](C=C1C([O-])=O)O...  \n",
       "4      O=C(O)c1c(O)c(=O)cc([nH]1)-c(c2C)ccc(c2)-c3noc...  \n",
       "...                                                  ...  \n",
       "36372  CC(=O)N[C@H]1CC[C@@H]([C@@H]12)[C@@H](O[Si](C)...  \n",
       "36373                   CC(=O)Nc(cc1)c(OC(=O)C)cc1C(=O)O  \n",
       "36374  c1cccc(c12)cccc2CNC(=O)CCCCCCO[C@]3(C(=O)O)C[C...  \n",
       "36375                NCCCC(=O)Nc(c(cc1)NC(=O)C)cc1C(=O)O  \n",
       "36376  CC(=O)N[C@H]1CS(=O)(=O)[C@@H]([C@@H]12)[C@@H](...  \n",
       "\n",
       "[36377 rows x 3 columns]"
      ]
     },
     "execution_count": 4,
     "metadata": {},
     "output_type": "execute_result"
    }
   ],
   "source": [
    "df = pd.read_excel(\"data/19_35000.xlsx\", index_col=0).reset_index(drop=True)\n",
    "df"
   ]
  },
  {
   "cell_type": "markdown",
   "id": "460a9046-1d2e-41ed-ba06-25345776a84a",
   "metadata": {},
   "source": [
    "## Clean"
   ]
  },
  {
   "cell_type": "code",
   "execution_count": 5,
   "id": "ec1428fb-9024-4627-9c9c-a27b480d86dd",
   "metadata": {},
   "outputs": [],
   "source": [
    "perc_99 = np.percentile(df[\"IC50\"], 99)\n",
    "df = df[df[\"IC50\"] <= perc_99]"
   ]
  },
  {
   "cell_type": "code",
   "execution_count": 6,
   "id": "9217b3cd-24a3-4900-9382-fe3e42c1fe66",
   "metadata": {},
   "outputs": [
    {
     "data": {
      "image/jpeg": "[encoded data removed]",
      "image/png": "[encoded data removed]",
      "text/plain": [
       "<PIL.PngImagePlugin.PngImageFile image mode=RGB size=300x300>"
      ]
     },
     "execution_count": 6,
     "metadata": {},
     "output_type": "execute_result"
    }
   ],
   "source": [
    "from rdkit import Chem\n",
    "from rdkit.Chem import Draw\n",
    "\n",
    "m = Chem.MolFromSmiles(df[\"SMILES\"].tolist()[1])\n",
    "img = Draw.MolToImage(m)\n",
    "img"
   ]
  },
  {
   "cell_type": "code",
   "execution_count": 7,
   "id": "5f030c57-6676-4fc3-89cc-e1d9d8073835",
   "metadata": {},
   "outputs": [],
   "source": [
    "x = pyg.utils.smiles.from_smiles(df[\"SMILES\"].tolist()[1])"
   ]
  },
  {
   "cell_type": "code",
   "execution_count": 8,
   "id": "18c891e7-9ed5-42ea-827c-84e8f9b7b464",
   "metadata": {},
   "outputs": [],
   "source": [
    "class MolDataset(Dataset):\n",
    "    def __init__(self, df):\n",
    "        super(MolDataset, self).__init__()\n",
    "        self.smiles = df[\"SMILES\"].tolist()\n",
    "        self.target = df[\"IC50\"].tolist()\n",
    "        \n",
    "    def __len__(self):\n",
    "        return len(self.smiles)\n",
    "        \n",
    "        \n",
    "    def __getitem__(self, idx):\n",
    "        x = pyg.utils.smiles.from_smiles(self.smiles[idx])\n",
    "        return x, self.target[idx]"
   ]
  },
  {
   "cell_type": "code",
   "execution_count": 9,
   "id": "ffd2ada7-9338-4c18-84c6-7b52e62f8ae0",
   "metadata": {
    "scrolled": true
   },
   "outputs": [
    {
     "data": {
      "text/plain": [
       "array([14264, 22771, 18773, ..., 11284,   860, 15795])"
      ]
     },
     "execution_count": 9,
     "metadata": {},
     "output_type": "execute_result"
    }
   ],
   "source": [
    "train_inds, test_inds = train_test_split(np.arange(df.shape[0]))\n",
    "train_inds"
   ]
  },
  {
   "cell_type": "code",
   "execution_count": 10,
   "id": "98d8897b-6df0-427b-a694-ffa31df8d674",
   "metadata": {},
   "outputs": [
    {
     "name": "stderr",
     "output_type": "stream",
     "text": [
      "/home/leffff/PycharmProjects/misis-ai-course-final-project-2023/.venv/lib/python3.10/site-packages/torch_geometric/deprecation.py:26: UserWarning: 'data.DataLoader' is deprecated, use 'loader.DataLoader' instead\n",
      "  warnings.warn(out)\n"
     ]
    }
   ],
   "source": [
    "dataset = MolDataset(df)\n",
    "\n",
    "train_loader = DataLoader(\n",
    "    Subset(dataset, train_inds),\n",
    "    shuffle=True,\n",
    "    batch_size=config.batch_size\n",
    ")\n",
    "\n",
    "eval_loader = DataLoader(\n",
    "    Subset(dataset, test_inds),\n",
    "    shuffle=True,\n",
    "    batch_size=config.batch_size\n",
    ")"
   ]
  },
  {
   "cell_type": "code",
   "execution_count": 11,
   "id": "b8332d51-2ebc-41be-9e7b-098f6cec119b",
   "metadata": {},
   "outputs": [
    {
     "name": "stderr",
     "output_type": "stream",
     "text": [
      "100%|██████████████████████████████████████████████████████████████████████████████████████████████████████████████████████| 36013/36013 [00:36<00:00, 985.86it/s]\n"
     ]
    }
   ],
   "source": [
    "all_node_features = []\n",
    "all_edge_features = []\n",
    "\n",
    "for i in tqdm(range(len(dataset))):\n",
    "    all_node_features.append(dataset[i][0].x)\n",
    "    all_edge_features.append(dataset[i][0].edge_attr)\n",
    "\n",
    "all_node_features = torch.cat(all_node_features, dim=0)\n",
    "all_edge_features = torch.cat(all_edge_features, dim=0)"
   ]
  },
  {
   "cell_type": "code",
   "execution_count": 12,
   "id": "f349d02d-14cc-4170-85e4-1b6b337dbedf",
   "metadata": {},
   "outputs": [
    {
     "data": {
      "text/plain": [
       "torch.Size([905938, 9])"
      ]
     },
     "execution_count": 12,
     "metadata": {},
     "output_type": "execute_result"
    }
   ],
   "source": [
    "all_node_features.shape"
   ]
  },
  {
   "cell_type": "code",
   "execution_count": 13,
   "id": "dae0c112-2a48-42ee-9feb-bd5d18225658",
   "metadata": {},
   "outputs": [
    {
     "name": "stdout",
     "output_type": "stream",
     "text": [
      "tensor([ 1,  5,  6,  7,  8,  9, 11, 14, 15, 16, 17, 30, 34, 35, 53])\n",
      "tensor([0, 1, 2])\n",
      "tensor([0, 1, 2, 3, 4])\n",
      "tensor([4, 5, 6, 7])\n",
      "tensor([0, 1, 2, 3])\n",
      "tensor([0])\n",
      "tensor([1, 2, 3, 4])\n",
      "tensor([0, 1])\n",
      "tensor([0, 1])\n"
     ]
    },
    {
     "data": {
      "text/plain": [
       "[54, 3, 5, 8, 4, 1, 5, 2, 2]"
      ]
     },
     "execution_count": 13,
     "metadata": {},
     "output_type": "execute_result"
    }
   ],
   "source": [
    "node_vocab_sizes = []\n",
    "\n",
    "for i in range(9):\n",
    "    inds, counts = all_node_features[:, i].unique(return_counts=True)\n",
    "    print(inds)\n",
    "    node_vocab_sizes.append(inds.max().item() + 1)\n",
    "\n",
    "node_vocab_sizes"
   ]
  },
  {
   "cell_type": "code",
   "execution_count": 14,
   "id": "ba3eb88e-c645-4ad0-b9e7-f189ef242c53",
   "metadata": {},
   "outputs": [
    {
     "name": "stdout",
     "output_type": "stream",
     "text": [
      "tensor([ 1,  2,  3, 12])\n",
      "tensor([0, 2, 3])\n",
      "tensor([0, 1])\n"
     ]
    },
    {
     "data": {
      "text/plain": [
       "[13, 4, 2]"
      ]
     },
     "execution_count": 14,
     "metadata": {},
     "output_type": "execute_result"
    }
   ],
   "source": [
    "edge_vocab_sizes = []\n",
    "\n",
    "for i in range(3):\n",
    "    inds, counts = all_edge_features[:, i].unique(return_counts=True)\n",
    "    print(inds)\n",
    "    edge_vocab_sizes.append(inds.max().item() + 1)\n",
    "\n",
    "edge_vocab_sizes"
   ]
  },
  {
   "cell_type": "markdown",
   "id": "f2fec7dc-fbcf-4bc1-8b78-2ff81a3dd90f",
   "metadata": {},
   "source": [
    "# Model"
   ]
  },
  {
   "cell_type": "code",
   "execution_count": 15,
   "id": "7bd08aec-9cd3-4b23-b6ae-21826313db11",
   "metadata": {},
   "outputs": [
    {
     "data": {
      "text/plain": [
       "RegresisionGNN(\n",
       "  (node_encoders): ModuleList(\n",
       "    (0): Embedding(54, 32)\n",
       "    (1): Embedding(3, 32)\n",
       "    (2): Embedding(5, 32)\n",
       "    (3): Embedding(8, 32)\n",
       "    (4): Embedding(4, 32)\n",
       "    (5): Embedding(1, 32)\n",
       "    (6): Embedding(5, 32)\n",
       "    (7-8): 2 x Embedding(2, 32)\n",
       "  )\n",
       "  (edge_encoders): ModuleList(\n",
       "    (0): Embedding(13, 32)\n",
       "    (1): Embedding(4, 32)\n",
       "    (2): Embedding(2, 32)\n",
       "  )\n",
       "  (backbone): GraphSAGE(288, 32, num_layers=4)\n",
       "  (out): Linear(32, 1, bias=True)\n",
       ")"
      ]
     },
     "execution_count": 15,
     "metadata": {},
     "output_type": "execute_result"
    }
   ],
   "source": [
    "from torch import nn\n",
    "\n",
    "class RegresisionGNN(torch.nn.Module):\n",
    "    def __init__(self, node_vocab_sizes, edge_vocab_sizes, backbone, hidden_dim, backbone_dim, pooling_f=global_mean_pool):\n",
    "        super(RegresisionGNN, self).__init__()\n",
    "        self.node_vocab_sizes, self.edge_vocab_sizes = node_vocab_sizes, edge_vocab_sizes\n",
    "        self.node_encoders = nn.ModuleList([nn.Embedding(size, hidden_dim) for size in node_vocab_sizes])\n",
    "        self.edge_encoders = nn.ModuleList([nn.Embedding(size, hidden_dim) for size in edge_vocab_sizes])\n",
    "        \n",
    "        self.backbone = backbone\n",
    "        self.pooling = pooling_f\n",
    "        self.out = pyg.nn.Linear(backbone_dim, 1)\n",
    "\n",
    "    def forward(self, data):\n",
    "        x, edge_index, edge_attr, batch = data.x, data.edge_index, data.edge_attr, data.batch\n",
    "\n",
    "        x = torch.cat([self.node_encoders[i](x[:, i]) for i in range(x.shape[1])], dim=1)\n",
    "        edge_attr = torch.cat([self.edge_encoders[i](edge_attr[:, i]) for i in range(edge_attr.shape[1])], dim=1)\n",
    "        \n",
    "        node_features = self.backbone(\n",
    "            x=x, \n",
    "            edge_index=edge_index, \n",
    "            edge_attr=edge_attr\n",
    "        )\n",
    "\n",
    "        batch_features = self.pooling(node_features, batch)\n",
    "        \n",
    "        return self.out(batch_features)\n",
    "\n",
    "hidden_dim = 32\n",
    "backbone = pyg.nn.models.GraphSAGE(in_channels=hidden_dim * 9, hidden_channels=hidden_dim * 2, num_layers=4, out_channels=hidden_dim)\n",
    "model = RegresisionGNN(node_vocab_sizes, edge_vocab_sizes, backbone, hidden_dim=hidden_dim, backbone_dim=hidden_dim)\n",
    "model"
   ]
  },
  {
   "cell_type": "code",
   "execution_count": 16,
   "id": "d496812c-9b82-491c-91d3-204d89ab5acb",
   "metadata": {},
   "outputs": [],
   "source": [
    "optimizer = AdamW(model.parameters(), lr=config.learning_rate)\n",
    "\n",
    "scheduler = get_cosine_schedule_with_warmup(\n",
    "    optimizer=optimizer,\n",
    "    num_warmup_steps=config.lr_warmup_steps,\n",
    "    num_training_steps=(len(train_loader) * config.epochs),\n",
    ")\n",
    "\n",
    "loss_function = torch.nn.L1Loss()"
   ]
  },
  {
   "cell_type": "markdown",
   "id": "a1925f62-5f17-4f91-b3a4-aca03161d86c",
   "metadata": {},
   "source": [
    "# Let's Train"
   ]
  },
  {
   "cell_type": "code",
   "execution_count": 17,
   "id": "5e927538-9813-4dc1-9d13-8e5896095350",
   "metadata": {},
   "outputs": [],
   "source": [
    "def train_epoch(model, loader, loss_function, optimizer, scheduler, device):\n",
    "    model.train()\n",
    "    model.to(device)\n",
    "    loss_function.to(device)\n",
    "    \n",
    "    preds = []\n",
    "    targets = []\n",
    "    total_loss = 0.\n",
    "    \n",
    "    for batch in tqdm(loader):\n",
    "        data, y = batch\n",
    "        data, y = data.to(device), y.to(device)\n",
    "        output = model(data)\n",
    "        \n",
    "        loss = loss_function(output.flatten(),y.flatten())\n",
    "        \n",
    "        total_loss += loss.item()\n",
    "        \n",
    "        loss.backward()\n",
    "        torch.nn.utils.clip_grad_norm_(model.parameters(), 1.0)\n",
    "        optimizer.step()\n",
    "        scheduler.step()\n",
    "        optimizer.zero_grad()\n",
    "\n",
    "        preds.append(output.flatten())\n",
    "        targets.append(y.flatten())\n",
    "    \n",
    "    preds = torch.cat(preds, dim=0).sigmoid().detach().cpu()\n",
    "    targets = torch.cat(targets, dim=0).detach().cpu()\n",
    "    mae = loss_function(targets, preds).item()\n",
    "\n",
    "    return {\"TRAIN Loss\": {total_loss / len(loader)}, \"MAE\": {mae}, \"R2\": r2_score(targets.numpy(), preds.numpy())}\n",
    "        \n",
    "        \n",
    "def eval_epoch(model, loader, loss_function, device):\n",
    "    model.eval()\n",
    "    model.to(device)\n",
    "    loss_function.to(device)\n",
    "    \n",
    "    preds = []\n",
    "    targets = []\n",
    "    total_loss = 0.\n",
    "    \n",
    "    for batch in tqdm(loader):\n",
    "        data, y = batch\n",
    "        data, y = data.to(device), y.to(device)\n",
    "        \n",
    "        with torch.no_grad():\n",
    "            output = model(data)\n",
    "        \n",
    "        loss = loss_function(output.flatten(),y.flatten())\n",
    "        \n",
    "        total_loss += loss.item()\n",
    "        \n",
    "        preds.append(output.flatten())\n",
    "        targets.append(y.flatten())\n",
    "    \n",
    "    preds = torch.cat(preds, dim=0).sigmoid().detach().cpu()\n",
    "    targets = torch.cat(targets, dim=0).detach().cpu()\n",
    "    mae = loss_function(targets, preds).item()\n",
    "\n",
    "    return {\"EVAL Loss\": {total_loss / len(loader)}, \"MAE\": {mae}, \"R2\": r2_score(targets.numpy(), preds.numpy())}"
   ]
  },
  {
   "cell_type": "code",
   "execution_count": 18,
   "id": "567a2647-3aa4-44ad-bb5d-d5041c725608",
   "metadata": {},
   "outputs": [
    {
     "name": "stderr",
     "output_type": "stream",
     "text": [
      "100%|█████████████████████████████████████████████████████████████████████████████████████████████████████████████████████████████| 14/14 [00:15<00:00,  1.11s/it]\n",
      "100%|███████████████████████████████████████████████████████████████████████████████████████████████████████████████████████████████| 5/5 [00:04<00:00,  1.06it/s]\n"
     ]
    },
    {
     "name": "stdout",
     "output_type": "stream",
     "text": [
      "{'TRAIN Loss': {4.9811829158238}, 'MAE': {4.495075225830078}, 'R2': -0.35082873497786604} {'EVAL Loss': {4.596202945709228}, 'MAE': {4.391646862030029}, 'R2': -0.3540527368370012}\n"
     ]
    },
    {
     "name": "stderr",
     "output_type": "stream",
     "text": [
      "100%|█████████████████████████████████████████████████████████████████████████████████████████████████████████████████████████████| 14/14 [00:14<00:00,  1.02s/it]\n",
      "100%|███████████████████████████████████████████████████████████████████████████████████████████████████████████████████████████████| 5/5 [00:04<00:00,  1.05it/s]\n"
     ]
    },
    {
     "name": "stdout",
     "output_type": "stream",
     "text": [
      "{'TRAIN Loss': {3.8505178689956665}, 'MAE': {4.2664594650268555}, 'R2': -0.306120420531258} {'EVAL Loss': {3.5284852504730226}, 'MAE': {4.0899224281311035}, 'R2': -0.29032012982304645}\n"
     ]
    },
    {
     "name": "stderr",
     "output_type": "stream",
     "text": [
      "100%|█████████████████████████████████████████████████████████████████████████████████████████████████████████████████████████████| 14/14 [00:14<00:00,  1.01s/it]\n",
      "100%|███████████████████████████████████████████████████████████████████████████████████████████████████████████████████████████████| 5/5 [00:04<00:00,  1.05it/s]\n"
     ]
    },
    {
     "name": "stdout",
     "output_type": "stream",
     "text": [
      "{'TRAIN Loss': {3.3434616838182722}, 'MAE': {4.129385471343994}, 'R2': -0.27859980636331505} {'EVAL Loss': {3.195593500137329}, 'MAE': {4.1132893562316895}, 'R2': -0.2954277098064124}\n"
     ]
    },
    {
     "name": "stderr",
     "output_type": "stream",
     "text": [
      "100%|█████████████████████████████████████████████████████████████████████████████████████████████████████████████████████████████| 14/14 [00:14<00:00,  1.03s/it]\n",
      "100%|███████████████████████████████████████████████████████████████████████████████████████████████████████████████████████████████| 5/5 [00:04<00:00,  1.05it/s]\n"
     ]
    },
    {
     "name": "stdout",
     "output_type": "stream",
     "text": [
      "{'TRAIN Loss': {3.1841822181429182}, 'MAE': {4.131254196166992}, 'R2': -0.27895667793849777} {'EVAL Loss': {3.163180112838745}, 'MAE': {4.099649429321289}, 'R2': -0.2922937783505033}\n"
     ]
    },
    {
     "name": "stderr",
     "output_type": "stream",
     "text": [
      "100%|█████████████████████████████████████████████████████████████████████████████████████████████████████████████████████████████| 14/14 [00:14<00:00,  1.02s/it]\n",
      "100%|███████████████████████████████████████████████████████████████████████████████████████████████████████████████████████████████| 5/5 [00:04<00:00,  1.07it/s]\n"
     ]
    },
    {
     "name": "stdout",
     "output_type": "stream",
     "text": [
      "{'TRAIN Loss': {3.132325989859445}, 'MAE': {4.1318678855896}, 'R2': -0.2789347771402746} {'EVAL Loss': {3.122006893157959}, 'MAE': {4.102890968322754}, 'R2': -0.29288211511539086}\n"
     ]
    },
    {
     "name": "stderr",
     "output_type": "stream",
     "text": [
      "100%|█████████████████████████████████████████████████████████████████████████████████████████████████████████████████████████████| 14/14 [00:14<00:00,  1.05s/it]\n",
      "100%|███████████████████████████████████████████████████████████████████████████████████████████████████████████████████████████████| 5/5 [00:04<00:00,  1.02it/s]\n"
     ]
    },
    {
     "name": "stdout",
     "output_type": "stream",
     "text": [
      "{'TRAIN Loss': {3.1368819645472934}, 'MAE': {4.132115840911865}, 'R2': -0.27899535318296653} {'EVAL Loss': {3.130122423171997}, 'MAE': {4.103298664093018}, 'R2': -0.29303071174715867}\n"
     ]
    },
    {
     "name": "stderr",
     "output_type": "stream",
     "text": [
      "100%|█████████████████████████████████████████████████████████████████████████████████████████████████████████████████████████████| 14/14 [00:14<00:00,  1.04s/it]\n",
      "100%|███████████████████████████████████████████████████████████████████████████████████████████████████████████████████████████████| 5/5 [00:04<00:00,  1.00it/s]\n"
     ]
    },
    {
     "name": "stdout",
     "output_type": "stream",
     "text": [
      "{'TRAIN Loss': {3.165177192006792}, 'MAE': {4.13197660446167}, 'R2': -0.27902261221403224} {'EVAL Loss': {3.1302630424499513}, 'MAE': {4.103724002838135}, 'R2': -0.29311677629651545}\n"
     ]
    },
    {
     "name": "stderr",
     "output_type": "stream",
     "text": [
      "100%|█████████████████████████████████████████████████████████████████████████████████████████████████████████████████████████████| 14/14 [00:14<00:00,  1.04s/it]\n",
      "100%|███████████████████████████████████████████████████████████████████████████████████████████████████████████████████████████████| 5/5 [00:04<00:00,  1.04it/s]\n"
     ]
    },
    {
     "name": "stdout",
     "output_type": "stream",
     "text": [
      "{'TRAIN Loss': {3.145157183919634}, 'MAE': {4.131972312927246}, 'R2': -0.27903672498002896} {'EVAL Loss': {3.1070264339447022}, 'MAE': {4.105741024017334}, 'R2': -0.2934554141309502}\n"
     ]
    },
    {
     "name": "stderr",
     "output_type": "stream",
     "text": [
      "100%|█████████████████████████████████████████████████████████████████████████████████████████████████████████████████████████████| 14/14 [00:14<00:00,  1.05s/it]\n",
      "100%|███████████████████████████████████████████████████████████████████████████████████████████████████████████████████████████████| 5/5 [00:04<00:00,  1.04it/s]\n"
     ]
    },
    {
     "name": "stdout",
     "output_type": "stream",
     "text": [
      "{'TRAIN Loss': {3.1330881799970354}, 'MAE': {4.132678508758545}, 'R2': -0.27912932218331377} {'EVAL Loss': {3.1610116958618164}, 'MAE': {4.10987663269043}, 'R2': -0.29451580139297584}\n"
     ]
    },
    {
     "name": "stderr",
     "output_type": "stream",
     "text": [
      "100%|█████████████████████████████████████████████████████████████████████████████████████████████████████████████████████████████| 14/14 [00:14<00:00,  1.04s/it]\n",
      "100%|███████████████████████████████████████████████████████████████████████████████████████████████████████████████████████████████| 5/5 [00:04<00:00,  1.03it/s]\n"
     ]
    },
    {
     "name": "stdout",
     "output_type": "stream",
     "text": [
      "{'TRAIN Loss': {3.1141239745276317}, 'MAE': {4.1326680183410645}, 'R2': -0.27925762454851477} {'EVAL Loss': {3.108564519882202}, 'MAE': {4.101319313049316}, 'R2': -0.29266653816500887}\n"
     ]
    },
    {
     "name": "stderr",
     "output_type": "stream",
     "text": [
      "100%|█████████████████████████████████████████████████████████████████████████████████████████████████████████████████████████████| 14/14 [00:14<00:00,  1.04s/it]\n",
      "100%|███████████████████████████████████████████████████████████████████████████████████████████████████████████████████████████████| 5/5 [00:04<00:00,  1.02it/s]\n"
     ]
    },
    {
     "name": "stdout",
     "output_type": "stream",
     "text": [
      "{'TRAIN Loss': {3.1180669920785085}, 'MAE': {4.1323394775390625}, 'R2': -0.27922985178489634} {'EVAL Loss': {3.165471839904785}, 'MAE': {4.113894462585449}, 'R2': -0.29532825724441514}\n"
     ]
    },
    {
     "name": "stderr",
     "output_type": "stream",
     "text": [
      "100%|█████████████████████████████████████████████████████████████████████████████████████████████████████████████████████████████| 14/14 [00:14<00:00,  1.03s/it]\n",
      "100%|███████████████████████████████████████████████████████████████████████████████████████████████████████████████████████████████| 5/5 [00:04<00:00,  1.02it/s]\n"
     ]
    },
    {
     "name": "stdout",
     "output_type": "stream",
     "text": [
      "{'TRAIN Loss': {3.1622590848377774}, 'MAE': {4.13387393951416}, 'R2': -0.27948538132149414} {'EVAL Loss': {3.0788368225097655}, 'MAE': {4.103499412536621}, 'R2': -0.293099310628149}\n"
     ]
    },
    {
     "name": "stderr",
     "output_type": "stream",
     "text": [
      "100%|█████████████████████████████████████████████████████████████████████████████████████████████████████████████████████████████| 14/14 [00:14<00:00,  1.03s/it]\n",
      "100%|███████████████████████████████████████████████████████████████████████████████████████████████████████████████████████████████| 5/5 [00:04<00:00,  1.06it/s]\n"
     ]
    },
    {
     "name": "stdout",
     "output_type": "stream",
     "text": [
      "{'TRAIN Loss': {3.1207240649632046}, 'MAE': {4.1326141357421875}, 'R2': -0.2792807970830251} {'EVAL Loss': {3.1275973320007324}, 'MAE': {4.100174427032471}, 'R2': -0.29243995856112015}\n"
     ]
    },
    {
     "name": "stderr",
     "output_type": "stream",
     "text": [
      "100%|█████████████████████████████████████████████████████████████████████████████████████████████████████████████████████████████| 14/14 [00:15<00:00,  1.08s/it]\n",
      "100%|███████████████████████████████████████████████████████████████████████████████████████████████████████████████████████████████| 5/5 [00:04<00:00,  1.02it/s]\n"
     ]
    },
    {
     "name": "stdout",
     "output_type": "stream",
     "text": [
      "{'TRAIN Loss': {3.175481012889317}, 'MAE': {4.135594367980957}, 'R2': -0.28003398509723243} {'EVAL Loss': {3.1685952663421633}, 'MAE': {4.124212741851807}, 'R2': -0.29754417794348176}\n"
     ]
    },
    {
     "name": "stderr",
     "output_type": "stream",
     "text": [
      " 21%|███████████████████████████                                                                                                   | 3/14 [00:04<00:16,  1.49s/it]\n"
     ]
    },
    {
     "ename": "KeyboardInterrupt",
     "evalue": "",
     "output_type": "error",
     "traceback": [
      "\u001b[0;31m---------------------------------------------------------------------------\u001b[0m",
      "\u001b[0;31mKeyboardInterrupt\u001b[0m                         Traceback (most recent call last)",
      "Cell \u001b[0;32mIn[18], line 4\u001b[0m\n\u001b[1;32m      1\u001b[0m train_logs, eval_logs \u001b[38;5;241m=\u001b[39m [], []\n\u001b[1;32m      3\u001b[0m \u001b[38;5;28;01mfor\u001b[39;00m i \u001b[38;5;129;01min\u001b[39;00m \u001b[38;5;28mrange\u001b[39m(config\u001b[38;5;241m.\u001b[39mepochs):\n\u001b[0;32m----> 4\u001b[0m     train_log \u001b[38;5;241m=\u001b[39m \u001b[43mtrain_epoch\u001b[49m\u001b[43m(\u001b[49m\n\u001b[1;32m      5\u001b[0m \u001b[43m        \u001b[49m\u001b[43mmodel\u001b[49m\u001b[38;5;241;43m=\u001b[39;49m\u001b[43mmodel\u001b[49m\u001b[43m,\u001b[49m\u001b[43m \u001b[49m\n\u001b[1;32m      6\u001b[0m \u001b[43m        \u001b[49m\u001b[43mloader\u001b[49m\u001b[38;5;241;43m=\u001b[39;49m\u001b[43mtrain_loader\u001b[49m\u001b[43m,\u001b[49m\u001b[43m \u001b[49m\n\u001b[1;32m      7\u001b[0m \u001b[43m        \u001b[49m\u001b[43mloss_function\u001b[49m\u001b[38;5;241;43m=\u001b[39;49m\u001b[43mloss_function\u001b[49m\u001b[43m,\u001b[49m\u001b[43m \u001b[49m\n\u001b[1;32m      8\u001b[0m \u001b[43m        \u001b[49m\u001b[43moptimizer\u001b[49m\u001b[38;5;241;43m=\u001b[39;49m\u001b[43moptimizer\u001b[49m\u001b[43m,\u001b[49m\n\u001b[1;32m      9\u001b[0m \u001b[43m        \u001b[49m\u001b[43mscheduler\u001b[49m\u001b[38;5;241;43m=\u001b[39;49m\u001b[43mscheduler\u001b[49m\u001b[43m,\u001b[49m\n\u001b[1;32m     10\u001b[0m \u001b[43m        \u001b[49m\u001b[43mdevice\u001b[49m\u001b[38;5;241;43m=\u001b[39;49m\u001b[43mconfig\u001b[49m\u001b[38;5;241;43m.\u001b[39;49m\u001b[43mdevice\u001b[49m\n\u001b[1;32m     11\u001b[0m \u001b[43m    \u001b[49m\u001b[43m)\u001b[49m\n\u001b[1;32m     13\u001b[0m     eval_log \u001b[38;5;241m=\u001b[39m eval_epoch(\n\u001b[1;32m     14\u001b[0m         model\u001b[38;5;241m=\u001b[39mmodel, \n\u001b[1;32m     15\u001b[0m         loader\u001b[38;5;241m=\u001b[39meval_loader, \n\u001b[1;32m     16\u001b[0m         loss_function\u001b[38;5;241m=\u001b[39mloss_function, \n\u001b[1;32m     17\u001b[0m         device\u001b[38;5;241m=\u001b[39mconfig\u001b[38;5;241m.\u001b[39mdevice\n\u001b[1;32m     18\u001b[0m     )\n\u001b[1;32m     20\u001b[0m     \u001b[38;5;28mprint\u001b[39m(train_log, eval_log)\n",
      "Cell \u001b[0;32mIn[17], line 10\u001b[0m, in \u001b[0;36mtrain_epoch\u001b[0;34m(model, loader, loss_function, optimizer, scheduler, device)\u001b[0m\n\u001b[1;32m      7\u001b[0m targets \u001b[38;5;241m=\u001b[39m []\n\u001b[1;32m      8\u001b[0m total_loss \u001b[38;5;241m=\u001b[39m \u001b[38;5;241m0.\u001b[39m\n\u001b[0;32m---> 10\u001b[0m \u001b[38;5;28;01mfor\u001b[39;00m batch \u001b[38;5;129;01min\u001b[39;00m tqdm(loader):\n\u001b[1;32m     11\u001b[0m     data, y \u001b[38;5;241m=\u001b[39m batch\n\u001b[1;32m     12\u001b[0m     data, y \u001b[38;5;241m=\u001b[39m data\u001b[38;5;241m.\u001b[39mto(device), y\u001b[38;5;241m.\u001b[39mto(device)\n",
      "File \u001b[0;32m~/PycharmProjects/misis-ai-course-final-project-2023/.venv/lib/python3.10/site-packages/tqdm/std.py:1181\u001b[0m, in \u001b[0;36mtqdm.__iter__\u001b[0;34m(self)\u001b[0m\n\u001b[1;32m   1178\u001b[0m time \u001b[38;5;241m=\u001b[39m \u001b[38;5;28mself\u001b[39m\u001b[38;5;241m.\u001b[39m_time\n\u001b[1;32m   1180\u001b[0m \u001b[38;5;28;01mtry\u001b[39;00m:\n\u001b[0;32m-> 1181\u001b[0m     \u001b[38;5;28;01mfor\u001b[39;00m obj \u001b[38;5;129;01min\u001b[39;00m iterable:\n\u001b[1;32m   1182\u001b[0m         \u001b[38;5;28;01myield\u001b[39;00m obj\n\u001b[1;32m   1183\u001b[0m         \u001b[38;5;66;03m# Update and possibly print the progressbar.\u001b[39;00m\n\u001b[1;32m   1184\u001b[0m         \u001b[38;5;66;03m# Note: does not call self.update(1) for speed optimisation.\u001b[39;00m\n",
      "File \u001b[0;32m~/PycharmProjects/misis-ai-course-final-project-2023/.venv/lib/python3.10/site-packages/torch/utils/data/dataloader.py:631\u001b[0m, in \u001b[0;36m_BaseDataLoaderIter.__next__\u001b[0;34m(self)\u001b[0m\n\u001b[1;32m    628\u001b[0m \u001b[38;5;28;01mif\u001b[39;00m \u001b[38;5;28mself\u001b[39m\u001b[38;5;241m.\u001b[39m_sampler_iter \u001b[38;5;129;01mis\u001b[39;00m \u001b[38;5;28;01mNone\u001b[39;00m:\n\u001b[1;32m    629\u001b[0m     \u001b[38;5;66;03m# TODO(https://github.com/pytorch/pytorch/issues/76750)\u001b[39;00m\n\u001b[1;32m    630\u001b[0m     \u001b[38;5;28mself\u001b[39m\u001b[38;5;241m.\u001b[39m_reset()  \u001b[38;5;66;03m# type: ignore[call-arg]\u001b[39;00m\n\u001b[0;32m--> 631\u001b[0m data \u001b[38;5;241m=\u001b[39m \u001b[38;5;28;43mself\u001b[39;49m\u001b[38;5;241;43m.\u001b[39;49m\u001b[43m_next_data\u001b[49m\u001b[43m(\u001b[49m\u001b[43m)\u001b[49m\n\u001b[1;32m    632\u001b[0m \u001b[38;5;28mself\u001b[39m\u001b[38;5;241m.\u001b[39m_num_yielded \u001b[38;5;241m+\u001b[39m\u001b[38;5;241m=\u001b[39m \u001b[38;5;241m1\u001b[39m\n\u001b[1;32m    633\u001b[0m \u001b[38;5;28;01mif\u001b[39;00m \u001b[38;5;28mself\u001b[39m\u001b[38;5;241m.\u001b[39m_dataset_kind \u001b[38;5;241m==\u001b[39m _DatasetKind\u001b[38;5;241m.\u001b[39mIterable \u001b[38;5;129;01mand\u001b[39;00m \\\n\u001b[1;32m    634\u001b[0m         \u001b[38;5;28mself\u001b[39m\u001b[38;5;241m.\u001b[39m_IterableDataset_len_called \u001b[38;5;129;01mis\u001b[39;00m \u001b[38;5;129;01mnot\u001b[39;00m \u001b[38;5;28;01mNone\u001b[39;00m \u001b[38;5;129;01mand\u001b[39;00m \\\n\u001b[1;32m    635\u001b[0m         \u001b[38;5;28mself\u001b[39m\u001b[38;5;241m.\u001b[39m_num_yielded \u001b[38;5;241m>\u001b[39m \u001b[38;5;28mself\u001b[39m\u001b[38;5;241m.\u001b[39m_IterableDataset_len_called:\n",
      "File \u001b[0;32m~/PycharmProjects/misis-ai-course-final-project-2023/.venv/lib/python3.10/site-packages/torch/utils/data/dataloader.py:675\u001b[0m, in \u001b[0;36m_SingleProcessDataLoaderIter._next_data\u001b[0;34m(self)\u001b[0m\n\u001b[1;32m    673\u001b[0m \u001b[38;5;28;01mdef\u001b[39;00m \u001b[38;5;21m_next_data\u001b[39m(\u001b[38;5;28mself\u001b[39m):\n\u001b[1;32m    674\u001b[0m     index \u001b[38;5;241m=\u001b[39m \u001b[38;5;28mself\u001b[39m\u001b[38;5;241m.\u001b[39m_next_index()  \u001b[38;5;66;03m# may raise StopIteration\u001b[39;00m\n\u001b[0;32m--> 675\u001b[0m     data \u001b[38;5;241m=\u001b[39m \u001b[38;5;28;43mself\u001b[39;49m\u001b[38;5;241;43m.\u001b[39;49m\u001b[43m_dataset_fetcher\u001b[49m\u001b[38;5;241;43m.\u001b[39;49m\u001b[43mfetch\u001b[49m\u001b[43m(\u001b[49m\u001b[43mindex\u001b[49m\u001b[43m)\u001b[49m  \u001b[38;5;66;03m# may raise StopIteration\u001b[39;00m\n\u001b[1;32m    676\u001b[0m     \u001b[38;5;28;01mif\u001b[39;00m \u001b[38;5;28mself\u001b[39m\u001b[38;5;241m.\u001b[39m_pin_memory:\n\u001b[1;32m    677\u001b[0m         data \u001b[38;5;241m=\u001b[39m _utils\u001b[38;5;241m.\u001b[39mpin_memory\u001b[38;5;241m.\u001b[39mpin_memory(data, \u001b[38;5;28mself\u001b[39m\u001b[38;5;241m.\u001b[39m_pin_memory_device)\n",
      "File \u001b[0;32m~/PycharmProjects/misis-ai-course-final-project-2023/.venv/lib/python3.10/site-packages/torch/utils/data/_utils/fetch.py:49\u001b[0m, in \u001b[0;36m_MapDatasetFetcher.fetch\u001b[0;34m(self, possibly_batched_index)\u001b[0m\n\u001b[1;32m     47\u001b[0m \u001b[38;5;28;01mif\u001b[39;00m \u001b[38;5;28mself\u001b[39m\u001b[38;5;241m.\u001b[39mauto_collation:\n\u001b[1;32m     48\u001b[0m     \u001b[38;5;28;01mif\u001b[39;00m \u001b[38;5;28mhasattr\u001b[39m(\u001b[38;5;28mself\u001b[39m\u001b[38;5;241m.\u001b[39mdataset, \u001b[38;5;124m\"\u001b[39m\u001b[38;5;124m__getitems__\u001b[39m\u001b[38;5;124m\"\u001b[39m) \u001b[38;5;129;01mand\u001b[39;00m \u001b[38;5;28mself\u001b[39m\u001b[38;5;241m.\u001b[39mdataset\u001b[38;5;241m.\u001b[39m__getitems__:\n\u001b[0;32m---> 49\u001b[0m         data \u001b[38;5;241m=\u001b[39m \u001b[38;5;28;43mself\u001b[39;49m\u001b[38;5;241;43m.\u001b[39;49m\u001b[43mdataset\u001b[49m\u001b[38;5;241;43m.\u001b[39;49m\u001b[43m__getitems__\u001b[49m\u001b[43m(\u001b[49m\u001b[43mpossibly_batched_index\u001b[49m\u001b[43m)\u001b[49m\n\u001b[1;32m     50\u001b[0m     \u001b[38;5;28;01melse\u001b[39;00m:\n\u001b[1;32m     51\u001b[0m         data \u001b[38;5;241m=\u001b[39m [\u001b[38;5;28mself\u001b[39m\u001b[38;5;241m.\u001b[39mdataset[idx] \u001b[38;5;28;01mfor\u001b[39;00m idx \u001b[38;5;129;01min\u001b[39;00m possibly_batched_index]\n",
      "File \u001b[0;32m~/PycharmProjects/misis-ai-course-final-project-2023/.venv/lib/python3.10/site-packages/torch/utils/data/dataset.py:419\u001b[0m, in \u001b[0;36mSubset.__getitems__\u001b[0;34m(self, indices)\u001b[0m\n\u001b[1;32m    417\u001b[0m     \u001b[38;5;28;01mreturn\u001b[39;00m \u001b[38;5;28mself\u001b[39m\u001b[38;5;241m.\u001b[39mdataset\u001b[38;5;241m.\u001b[39m__getitems__([\u001b[38;5;28mself\u001b[39m\u001b[38;5;241m.\u001b[39mindices[idx] \u001b[38;5;28;01mfor\u001b[39;00m idx \u001b[38;5;129;01min\u001b[39;00m indices])  \u001b[38;5;66;03m# type: ignore[attr-defined]\u001b[39;00m\n\u001b[1;32m    418\u001b[0m \u001b[38;5;28;01melse\u001b[39;00m:\n\u001b[0;32m--> 419\u001b[0m     \u001b[38;5;28;01mreturn\u001b[39;00m [\u001b[38;5;28mself\u001b[39m\u001b[38;5;241m.\u001b[39mdataset[\u001b[38;5;28mself\u001b[39m\u001b[38;5;241m.\u001b[39mindices[idx]] \u001b[38;5;28;01mfor\u001b[39;00m idx \u001b[38;5;129;01min\u001b[39;00m indices]\n",
      "File \u001b[0;32m~/PycharmProjects/misis-ai-course-final-project-2023/.venv/lib/python3.10/site-packages/torch/utils/data/dataset.py:419\u001b[0m, in \u001b[0;36m<listcomp>\u001b[0;34m(.0)\u001b[0m\n\u001b[1;32m    417\u001b[0m     \u001b[38;5;28;01mreturn\u001b[39;00m \u001b[38;5;28mself\u001b[39m\u001b[38;5;241m.\u001b[39mdataset\u001b[38;5;241m.\u001b[39m__getitems__([\u001b[38;5;28mself\u001b[39m\u001b[38;5;241m.\u001b[39mindices[idx] \u001b[38;5;28;01mfor\u001b[39;00m idx \u001b[38;5;129;01min\u001b[39;00m indices])  \u001b[38;5;66;03m# type: ignore[attr-defined]\u001b[39;00m\n\u001b[1;32m    418\u001b[0m \u001b[38;5;28;01melse\u001b[39;00m:\n\u001b[0;32m--> 419\u001b[0m     \u001b[38;5;28;01mreturn\u001b[39;00m [\u001b[38;5;28;43mself\u001b[39;49m\u001b[38;5;241;43m.\u001b[39;49m\u001b[43mdataset\u001b[49m\u001b[43m[\u001b[49m\u001b[38;5;28;43mself\u001b[39;49m\u001b[38;5;241;43m.\u001b[39;49m\u001b[43mindices\u001b[49m\u001b[43m[\u001b[49m\u001b[43midx\u001b[49m\u001b[43m]\u001b[49m\u001b[43m]\u001b[49m \u001b[38;5;28;01mfor\u001b[39;00m idx \u001b[38;5;129;01min\u001b[39;00m indices]\n",
      "Cell \u001b[0;32mIn[8], line 12\u001b[0m, in \u001b[0;36mMolDataset.__getitem__\u001b[0;34m(self, idx)\u001b[0m\n\u001b[1;32m     11\u001b[0m \u001b[38;5;28;01mdef\u001b[39;00m \u001b[38;5;21m__getitem__\u001b[39m(\u001b[38;5;28mself\u001b[39m, idx):\n\u001b[0;32m---> 12\u001b[0m     x \u001b[38;5;241m=\u001b[39m \u001b[43mpyg\u001b[49m\u001b[38;5;241;43m.\u001b[39;49m\u001b[43mutils\u001b[49m\u001b[38;5;241;43m.\u001b[39;49m\u001b[43msmiles\u001b[49m\u001b[38;5;241;43m.\u001b[39;49m\u001b[43mfrom_smiles\u001b[49m\u001b[43m(\u001b[49m\u001b[38;5;28;43mself\u001b[39;49m\u001b[38;5;241;43m.\u001b[39;49m\u001b[43msmiles\u001b[49m\u001b[43m[\u001b[49m\u001b[43midx\u001b[49m\u001b[43m]\u001b[49m\u001b[43m)\u001b[49m\n\u001b[1;32m     13\u001b[0m     \u001b[38;5;28;01mreturn\u001b[39;00m x, \u001b[38;5;28mself\u001b[39m\u001b[38;5;241m.\u001b[39mtarget[idx]\n",
      "File \u001b[0;32m~/PycharmProjects/misis-ai-course-final-project-2023/.venv/lib/python3.10/site-packages/torch_geometric/utils/smiles.py:98\u001b[0m, in \u001b[0;36mfrom_smiles\u001b[0;34m(smiles, with_hydrogen, kekulize)\u001b[0m\n\u001b[1;32m     94\u001b[0m \u001b[38;5;28;01mfrom\u001b[39;00m \u001b[38;5;21;01mtorch_geometric\u001b[39;00m\u001b[38;5;21;01m.\u001b[39;00m\u001b[38;5;21;01mdata\u001b[39;00m \u001b[38;5;28;01mimport\u001b[39;00m Data\n\u001b[1;32m     96\u001b[0m RDLogger\u001b[38;5;241m.\u001b[39mDisableLog(\u001b[38;5;124m'\u001b[39m\u001b[38;5;124mrdApp.*\u001b[39m\u001b[38;5;124m'\u001b[39m)\n\u001b[0;32m---> 98\u001b[0m mol \u001b[38;5;241m=\u001b[39m \u001b[43mChem\u001b[49m\u001b[38;5;241;43m.\u001b[39;49m\u001b[43mMolFromSmiles\u001b[49m\u001b[43m(\u001b[49m\u001b[43msmiles\u001b[49m\u001b[43m)\u001b[49m\n\u001b[1;32m    100\u001b[0m \u001b[38;5;28;01mif\u001b[39;00m mol \u001b[38;5;129;01mis\u001b[39;00m \u001b[38;5;28;01mNone\u001b[39;00m:\n\u001b[1;32m    101\u001b[0m     mol \u001b[38;5;241m=\u001b[39m Chem\u001b[38;5;241m.\u001b[39mMolFromSmiles(\u001b[38;5;124m'\u001b[39m\u001b[38;5;124m'\u001b[39m)\n",
      "\u001b[0;31mKeyboardInterrupt\u001b[0m: "
     ]
    }
   ],
   "source": [
    "train_logs, eval_logs = [], []\n",
    "\n",
    "for i in range(config.epochs):\n",
    "    train_log = train_epoch(\n",
    "        model=model, \n",
    "        loader=train_loader, \n",
    "        loss_function=loss_function, \n",
    "        optimizer=optimizer,\n",
    "        scheduler=scheduler,\n",
    "        device=config.device\n",
    "    )\n",
    "    \n",
    "    eval_log = eval_epoch(\n",
    "        model=model, \n",
    "        loader=eval_loader, \n",
    "        loss_function=loss_function, \n",
    "        device=config.device\n",
    "    )\n",
    "\n",
    "    print(train_log, eval_log)\n",
    "    \n",
    "    train_logs.append(train_log)\n",
    "    eval_logs.append(eval_log)"
   ]
  }
 ],
 "metadata": {
  "kernelspec": {
   "display_name": "Python 3 (ipykernel)",
   "language": "python",
   "name": "python3"
  },
  "language_info": {
   "codemirror_mode": {
    "name": "ipython",
    "version": 3
   },
   "file_extension": ".py",
   "mimetype": "text/x-python",
   "name": "python",
   "nbconvert_exporter": "python",
   "pygments_lexer": "ipython3",
   "version": "3.10.12"
  }
 },
 "nbformat": 4,
 "nbformat_minor": 5
}
