{
 "cells": [
  {
   "cell_type": "markdown",
   "id": "1ebc4008-116f-45d5-a022-412e35d29cec",
   "metadata": {},
   "source": [
    "# Libraries"
   ]
  },
  {
   "cell_type": "code",
   "execution_count": 1,
   "id": "cef59150-b13e-40c3-9f61-f848a2e5b214",
   "metadata": {},
   "outputs": [
    {
     "name": "stderr",
     "output_type": "stream",
     "text": [
      "/home/leffff/PycharmProjects/misis-ai-course-final-project-2023/.venv/lib/python3.10/site-packages/tqdm/auto.py:21: TqdmWarning: IProgress not found. Please update jupyter and ipywidgets. See https://ipywidgets.readthedocs.io/en/stable/user_install.html\n",
      "  from .autonotebook import tqdm as notebook_tqdm\n"
     ]
    }
   ],
   "source": [
    "import random\n",
    "\n",
    "from tqdm.auto import tqdm\n",
    "import numpy as np\n",
    "import pandas as pd\n",
    "import torch\n",
    "from torch.utils.data import Subset\n",
    "from torch.optim import AdamW\n",
    "from transformers.optimization import get_cosine_schedule_with_warmup\n",
    "import torch_geometric as pyg\n",
    "from torch_geometric.nn.pool import global_mean_pool\n",
    "from torch_geometric.data import Dataset, DataLoader\n",
    "from sklearn.model_selection import train_test_split\n",
    "from sklearn.metrics import r2_score"
   ]
  },
  {
   "cell_type": "markdown",
   "id": "9f7dcd04-cc86-477b-bf5c-0a863ca5a454",
   "metadata": {},
   "source": [
    "# Config"
   ]
  },
  {
   "cell_type": "code",
   "execution_count": 2,
   "id": "24fa92b6-c00c-4832-8572-023ec0476eb0",
   "metadata": {},
   "outputs": [],
   "source": [
    "def seed_everything(seed_value):\n",
    "    random.seed(seed_value)\n",
    "    np.random.seed(seed_value)\n",
    "    torch.manual_seed(seed_value)\n",
    "    if torch.cuda.is_available():\n",
    "        torch.cuda.manual_seed(seed_value)\n",
    "        torch.cuda.manual_seed_all(seed_value)\n",
    "        # torch.backends.cudnn.benchmark = True\n",
    "        torch.backends.cudnn.deterministic = False\n",
    "        \n"
   ]
  },
  {
   "cell_type": "code",
   "execution_count": 3,
   "id": "3515f89e-c9c2-42eb-830a-46ce3ae2b1a9",
   "metadata": {},
   "outputs": [],
   "source": [
    "from dataclasses import dataclass\n",
    "from typing import Tuple\n",
    "\n",
    "@dataclass\n",
    "class TrainingConfig:\n",
    "    # Training\n",
    "    batch_size = 2048\n",
    "    epochs = 50\n",
    "    learning_rate = 1e-2\n",
    "    lr_warmup_steps = 500\n",
    "\n",
    "    device = \"cuda\"\n",
    "    random_state = 42\n",
    "\n",
    "\n",
    "config = TrainingConfig()\n",
    "seed_everything(config.random_state)"
   ]
  },
  {
   "cell_type": "markdown",
   "id": "9a734c24-6592-4239-8894-df3fd58b7645",
   "metadata": {},
   "source": [
    "# Data"
   ]
  },
  {
   "cell_type": "code",
   "execution_count": 4,
   "id": "5dfec7b9-27e9-4ae2-89f5-e5f22081954e",
   "metadata": {},
   "outputs": [
    {
     "data": {
      "text/html": [
       "<div>\n",
       "<style scoped>\n",
       "    .dataframe tbody tr th:only-of-type {\n",
       "        vertical-align: middle;\n",
       "    }\n",
       "\n",
       "    .dataframe tbody tr th {\n",
       "        vertical-align: top;\n",
       "    }\n",
       "\n",
       "    .dataframe thead th {\n",
       "        text-align: right;\n",
       "    }\n",
       "</style>\n",
       "<table border=\"1\" class=\"dataframe\">\n",
       "  <thead>\n",
       "    <tr style=\"text-align: right;\">\n",
       "      <th></th>\n",
       "      <th>Title</th>\n",
       "      <th>IC50</th>\n",
       "      <th>SMILES</th>\n",
       "    </tr>\n",
       "  </thead>\n",
       "  <tbody>\n",
       "    <tr>\n",
       "      <th>0</th>\n",
       "      <td>CHEMBL2206459</td>\n",
       "      <td>0.000015</td>\n",
       "      <td>[H]\\N=C(N)\\N[C@@H](C1)[C@@H](NC(=O)C)[C@@H](C=...</td>\n",
       "    </tr>\n",
       "    <tr>\n",
       "      <th>1</th>\n",
       "      <td>CHEMBL3818159</td>\n",
       "      <td>0.000016</td>\n",
       "      <td>O=C(O)C1=C[C@H](N)[C@@H](NC(=O)C)[C@@H](C1)COC...</td>\n",
       "    </tr>\n",
       "    <tr>\n",
       "      <th>2</th>\n",
       "      <td>CHEMBL1956716</td>\n",
       "      <td>0.000033</td>\n",
       "      <td>C=CC(=O)N[C@H]([C@H](C1)N)[C@@H](C=C1C([O-])=O...</td>\n",
       "    </tr>\n",
       "    <tr>\n",
       "      <th>3</th>\n",
       "      <td>CHEMBL1956715</td>\n",
       "      <td>0.000032</td>\n",
       "      <td>CC(=O)N[C@H]([C@H](C1)N)[C@@H](C=C1C([O-])=O)O...</td>\n",
       "    </tr>\n",
       "    <tr>\n",
       "      <th>4</th>\n",
       "      <td>CHEMBL4444029</td>\n",
       "      <td>0.000041</td>\n",
       "      <td>O=C(O)c1c(O)c(=O)cc([nH]1)-c(c2C)ccc(c2)-c3noc...</td>\n",
       "    </tr>\n",
       "    <tr>\n",
       "      <th>...</th>\n",
       "      <td>...</td>\n",
       "      <td>...</td>\n",
       "      <td>...</td>\n",
       "    </tr>\n",
       "    <tr>\n",
       "      <th>36372</th>\n",
       "      <td>CHEMBL3699085</td>\n",
       "      <td>2366.790000</td>\n",
       "      <td>CC(=O)N[C@H]1CC[C@@H]([C@@H]12)[C@@H](O[Si](C)...</td>\n",
       "    </tr>\n",
       "    <tr>\n",
       "      <th>36373</th>\n",
       "      <td>CHEMBL109004</td>\n",
       "      <td>2372.100000</td>\n",
       "      <td>CC(=O)Nc(cc1)c(OC(=O)C)cc1C(=O)O</td>\n",
       "    </tr>\n",
       "    <tr>\n",
       "      <th>36374</th>\n",
       "      <td>CHEMBL2259758</td>\n",
       "      <td>2600.970000</td>\n",
       "      <td>c1cccc(c12)cccc2CNC(=O)CCCCCCO[C@]3(C(=O)O)C[C...</td>\n",
       "    </tr>\n",
       "    <tr>\n",
       "      <th>36375</th>\n",
       "      <td>CHEMBL109781</td>\n",
       "      <td>2793.000000</td>\n",
       "      <td>NCCCC(=O)Nc(c(cc1)NC(=O)C)cc1C(=O)O</td>\n",
       "    </tr>\n",
       "    <tr>\n",
       "      <th>36376</th>\n",
       "      <td>CHEMBL3699084</td>\n",
       "      <td>3183.600000</td>\n",
       "      <td>CC(=O)N[C@H]1CS(=O)(=O)[C@@H]([C@@H]12)[C@@H](...</td>\n",
       "    </tr>\n",
       "  </tbody>\n",
       "</table>\n",
       "<p>36377 rows × 3 columns</p>\n",
       "</div>"
      ],
      "text/plain": [
       "               Title         IC50  \\\n",
       "0      CHEMBL2206459     0.000015   \n",
       "1      CHEMBL3818159     0.000016   \n",
       "2      CHEMBL1956716     0.000033   \n",
       "3      CHEMBL1956715     0.000032   \n",
       "4      CHEMBL4444029     0.000041   \n",
       "...              ...          ...   \n",
       "36372  CHEMBL3699085  2366.790000   \n",
       "36373   CHEMBL109004  2372.100000   \n",
       "36374  CHEMBL2259758  2600.970000   \n",
       "36375   CHEMBL109781  2793.000000   \n",
       "36376  CHEMBL3699084  3183.600000   \n",
       "\n",
       "                                                  SMILES  \n",
       "0      [H]\\N=C(N)\\N[C@@H](C1)[C@@H](NC(=O)C)[C@@H](C=...  \n",
       "1      O=C(O)C1=C[C@H](N)[C@@H](NC(=O)C)[C@@H](C1)COC...  \n",
       "2      C=CC(=O)N[C@H]([C@H](C1)N)[C@@H](C=C1C([O-])=O...  \n",
       "3      CC(=O)N[C@H]([C@H](C1)N)[C@@H](C=C1C([O-])=O)O...  \n",
       "4      O=C(O)c1c(O)c(=O)cc([nH]1)-c(c2C)ccc(c2)-c3noc...  \n",
       "...                                                  ...  \n",
       "36372  CC(=O)N[C@H]1CC[C@@H]([C@@H]12)[C@@H](O[Si](C)...  \n",
       "36373                   CC(=O)Nc(cc1)c(OC(=O)C)cc1C(=O)O  \n",
       "36374  c1cccc(c12)cccc2CNC(=O)CCCCCCO[C@]3(C(=O)O)C[C...  \n",
       "36375                NCCCC(=O)Nc(c(cc1)NC(=O)C)cc1C(=O)O  \n",
       "36376  CC(=O)N[C@H]1CS(=O)(=O)[C@@H]([C@@H]12)[C@@H](...  \n",
       "\n",
       "[36377 rows x 3 columns]"
      ]
     },
     "execution_count": 4,
     "metadata": {},
     "output_type": "execute_result"
    }
   ],
   "source": [
    "df = pd.read_excel(\"data/19_35000.xlsx\", index_col=0).reset_index(drop=True)\n",
    "df"
   ]
  },
  {
   "cell_type": "code",
   "execution_count": 5,
   "id": "dfaada92-f120-4ebd-8195-91585b798c52",
   "metadata": {},
   "outputs": [],
   "source": [
    "perc_99 = np.percentile(df[\"IC50\"], 99)\n",
    "df = df[df[\"IC50\"] <= perc_99]"
   ]
  },
  {
   "cell_type": "code",
   "execution_count": 6,
   "id": "9217b3cd-24a3-4900-9382-fe3e42c1fe66",
   "metadata": {},
   "outputs": [
    {
     "data": {
      "image/jpeg": "[encoded data removed]",
      "image/png": "[encoded data removed]",
      "text/plain": [
       "<PIL.PngImagePlugin.PngImageFile image mode=RGB size=300x300>"
      ]
     },
     "execution_count": 6,
     "metadata": {},
     "output_type": "execute_result"
    }
   ],
   "source": [
    "from rdkit import Chem\n",
    "from rdkit.Chem import Draw\n",
    "\n",
    "m = Chem.MolFromSmiles(df[\"SMILES\"].tolist()[1])\n",
    "img = Draw.MolToImage(m)\n",
    "img"
   ]
  },
  {
   "cell_type": "code",
   "execution_count": 7,
   "id": "5f030c57-6676-4fc3-89cc-e1d9d8073835",
   "metadata": {},
   "outputs": [],
   "source": [
    "x = pyg.utils.smiles.from_smiles(df[\"SMILES\"].tolist()[1])"
   ]
  },
  {
   "cell_type": "code",
   "execution_count": 8,
   "id": "18c891e7-9ed5-42ea-827c-84e8f9b7b464",
   "metadata": {},
   "outputs": [],
   "source": [
    "class MolDataset(Dataset):\n",
    "    def __init__(self, df):\n",
    "        super(MolDataset, self).__init__()\n",
    "        self.smiles = df[\"SMILES\"].tolist()\n",
    "        self.target = df[\"IC50\"].tolist()\n",
    "        \n",
    "    def __len__(self):\n",
    "        return len(self.smiles)\n",
    "        \n",
    "        \n",
    "    def __getitem__(self, idx):\n",
    "        x = pyg.utils.smiles.from_smiles(self.smiles[idx])\n",
    "        return x, self.target[idx]"
   ]
  },
  {
   "cell_type": "code",
   "execution_count": 9,
   "id": "ffd2ada7-9338-4c18-84c6-7b52e62f8ae0",
   "metadata": {
    "scrolled": true
   },
   "outputs": [
    {
     "data": {
      "text/plain": [
       "array([14264, 22771, 18773, ..., 11284,   860, 15795])"
      ]
     },
     "execution_count": 9,
     "metadata": {},
     "output_type": "execute_result"
    }
   ],
   "source": [
    "train_inds, test_inds = train_test_split(np.arange(df.shape[0]))\n",
    "train_inds"
   ]
  },
  {
   "cell_type": "code",
   "execution_count": 10,
   "id": "98d8897b-6df0-427b-a694-ffa31df8d674",
   "metadata": {},
   "outputs": [
    {
     "name": "stderr",
     "output_type": "stream",
     "text": [
      "/home/leffff/PycharmProjects/misis-ai-course-final-project-2023/.venv/lib/python3.10/site-packages/torch_geometric/deprecation.py:26: UserWarning: 'data.DataLoader' is deprecated, use 'loader.DataLoader' instead\n",
      "  warnings.warn(out)\n"
     ]
    }
   ],
   "source": [
    "dataset = MolDataset(df)\n",
    "\n",
    "train_loader = DataLoader(\n",
    "    Subset(dataset, train_inds),\n",
    "    shuffle=True,\n",
    "    batch_size=config.batch_size\n",
    ")\n",
    "\n",
    "eval_loader = DataLoader(\n",
    "    Subset(dataset, test_inds),\n",
    "    shuffle=True,\n",
    "    batch_size=config.batch_size\n",
    ")"
   ]
  },
  {
   "cell_type": "code",
   "execution_count": 11,
   "id": "b8332d51-2ebc-41be-9e7b-098f6cec119b",
   "metadata": {},
   "outputs": [],
   "source": [
    "# all_node_features = []\n",
    "# all_edge_features = []\n",
    "\n",
    "# for i in tqdm(range(len(dataset))):\n",
    "#     all_node_features.append(dataset[i][0].x)\n",
    "#     all_edge_features.append(dataset[i][0].edge_attr)\n",
    "\n",
    "# all_node_features = torch.cat(all_node_features, dim=0)\n",
    "# all_edge_features = torch.cat(all_edge_features, dim=0)"
   ]
  },
  {
   "cell_type": "code",
   "execution_count": 12,
   "id": "f349d02d-14cc-4170-85e4-1b6b337dbedf",
   "metadata": {},
   "outputs": [],
   "source": [
    "# all_node_features.shape"
   ]
  },
  {
   "cell_type": "code",
   "execution_count": 13,
   "id": "dae0c112-2a48-42ee-9feb-bd5d18225658",
   "metadata": {},
   "outputs": [],
   "source": [
    "# for i in range(9):\n",
    "#     print(all_node_features[:, i].unique(return_counts=True))"
   ]
  },
  {
   "cell_type": "markdown",
   "id": "f2fec7dc-fbcf-4bc1-8b78-2ff81a3dd90f",
   "metadata": {},
   "source": [
    "# Model"
   ]
  },
  {
   "cell_type": "code",
   "execution_count": 14,
   "id": "7bd08aec-9cd3-4b23-b6ae-21826313db11",
   "metadata": {},
   "outputs": [
    {
     "data": {
      "text/plain": [
       "RegresisionGNN(\n",
       "  (backbone): GCN(9, 32, num_layers=4)\n",
       "  (out): Linear(32, 1, bias=True)\n",
       ")"
      ]
     },
     "execution_count": 14,
     "metadata": {},
     "output_type": "execute_result"
    }
   ],
   "source": [
    "class RegresisionGNN(torch.nn.Module):\n",
    "    def __init__(self, backbone, backbone_dim, pooling_f=global_mean_pool):\n",
    "        super(RegresisionGNN, self).__init__()\n",
    "        self.backbone = backbone\n",
    "        self.pooling = pooling_f\n",
    "        self.out = pyg.nn.Linear(backbone_dim, 1)\n",
    "\n",
    "    def forward(self, data):\n",
    "        x, edge_index, edge_attr, batch = data.x.float(), data.edge_index, data.edge_attr.float(), data.batch\n",
    "        node_features = self.backbone(\n",
    "            x=x, \n",
    "            edge_index=edge_index, \n",
    "            edge_attr=edge_attr\n",
    "        )\n",
    "\n",
    "        batch_features = self.pooling(node_features, batch)\n",
    "        \n",
    "        return self.out(batch_features)\n",
    "\n",
    "\n",
    "backbone = pyg.nn.models.GCN(in_channels=9, hidden_channels=64, num_layers=4, out_channels=32)\n",
    "model = RegresisionGNN(backbone, 32)\n",
    "model"
   ]
  },
  {
   "cell_type": "code",
   "execution_count": 15,
   "id": "d496812c-9b82-491c-91d3-204d89ab5acb",
   "metadata": {},
   "outputs": [],
   "source": [
    "optimizer = AdamW(model.parameters(), lr=config.learning_rate)\n",
    "\n",
    "scheduler = get_cosine_schedule_with_warmup(\n",
    "    optimizer=optimizer,\n",
    "    num_warmup_steps=config.lr_warmup_steps,\n",
    "    num_training_steps=(len(train_loader) * config.epochs),\n",
    ")\n",
    "\n",
    "loss_function = torch.nn.L1Loss()"
   ]
  },
  {
   "cell_type": "markdown",
   "id": "a1925f62-5f17-4f91-b3a4-aca03161d86c",
   "metadata": {},
   "source": [
    "# Let's Train"
   ]
  },
  {
   "cell_type": "code",
   "execution_count": 16,
   "id": "5e927538-9813-4dc1-9d13-8e5896095350",
   "metadata": {},
   "outputs": [],
   "source": [
    "def train_epoch(model, loader, loss_function, optimizer, scheduler, device):\n",
    "    model.train()\n",
    "    model.to(device)\n",
    "    loss_function.to(device)\n",
    "    \n",
    "    preds = []\n",
    "    targets = []\n",
    "    total_loss = 0.\n",
    "    \n",
    "    for batch in tqdm(loader):\n",
    "        data, y = batch\n",
    "        data, y = data.to(device), y.to(device)\n",
    "        output = model(data)\n",
    "        \n",
    "        loss = loss_function(output.flatten(),y.flatten())\n",
    "        \n",
    "        total_loss += loss.item()\n",
    "        \n",
    "        loss.backward()\n",
    "        torch.nn.utils.clip_grad_norm_(model.parameters(), 1.0)\n",
    "        optimizer.step()\n",
    "        scheduler.step()\n",
    "        optimizer.zero_grad()\n",
    "\n",
    "        preds.append(output.flatten())\n",
    "        targets.append(y.flatten())\n",
    "    \n",
    "    preds = torch.cat(preds, dim=0).sigmoid().detach().cpu()\n",
    "    targets = torch.cat(targets, dim=0).detach().cpu()\n",
    "    mae = loss_function(targets, preds).item()\n",
    "\n",
    "    return {\"TRAIN Loss\": {total_loss / len(loader)}, \"MAE\": {mae}, \"R2\": r2_score(targets.numpy(), preds.numpy())}\n",
    "        \n",
    "        \n",
    "def eval_epoch(model, loader, loss_function, device):\n",
    "    model.eval()\n",
    "    model.to(device)\n",
    "    loss_function.to(device)\n",
    "    \n",
    "    preds = []\n",
    "    targets = []\n",
    "    total_loss = 0.\n",
    "    \n",
    "    for batch in tqdm(loader):\n",
    "        data, y = batch\n",
    "        data, y = data.to(device), y.to(device)\n",
    "        \n",
    "        with torch.no_grad():\n",
    "            output = model(data)\n",
    "        \n",
    "        loss = loss_function(output.flatten(),y.flatten())\n",
    "        \n",
    "        total_loss += loss.item()\n",
    "        \n",
    "        preds.append(output.flatten())\n",
    "        targets.append(y.flatten())\n",
    "    \n",
    "    preds = torch.cat(preds, dim=0).sigmoid().detach().cpu()\n",
    "    targets = torch.cat(targets, dim=0).detach().cpu()\n",
    "    mae = loss_function(targets, preds).item()\n",
    "\n",
    "    return {\"EVAL Loss\": {total_loss / len(loader)}, \"MAE\": {mae}, \"R2\": r2_score(targets.numpy(), preds.numpy())}"
   ]
  },
  {
   "cell_type": "code",
   "execution_count": 17,
   "id": "567a2647-3aa4-44ad-bb5d-d5041c725608",
   "metadata": {},
   "outputs": [
    {
     "name": "stderr",
     "output_type": "stream",
     "text": [
      "100%|█████████████████████████████████████████████████████████████████████████████████████████████████████████████████████████████| 14/14 [00:15<00:00,  1.14s/it]\n",
      "100%|███████████████████████████████████████████████████████████████████████████████████████████████████████████████████████████████| 5/5 [00:04<00:00,  1.00it/s]\n"
     ]
    },
    {
     "name": "stdout",
     "output_type": "stream",
     "text": [
      "{'TRAIN Loss': {5.345518384660993}, 'MAE': {4.575929641723633}, 'R2': -0.3664116670071358} {'EVAL Loss': {4.958343410491944}, 'MAE': {4.467462062835693}, 'R2': -0.3696187693059303}\n"
     ]
    },
    {
     "name": "stderr",
     "output_type": "stream",
     "text": [
      "100%|█████████████████████████████████████████████████████████████████████████████████████████████████████████████████████████████| 14/14 [00:14<00:00,  1.03s/it]\n",
      "100%|███████████████████████████████████████████████████████████████████████████████████████████████████████████████████████████████| 5/5 [00:04<00:00,  1.05it/s]\n"
     ]
    },
    {
     "name": "stdout",
     "output_type": "stream",
     "text": [
      "{'TRAIN Loss': {4.398544584001813}, 'MAE': {4.383393287658691}, 'R2': -0.32939438367897456} {'EVAL Loss': {3.790942144393921}, 'MAE': {4.2087836265563965}, 'R2': -0.3160650320128948}\n"
     ]
    },
    {
     "name": "stderr",
     "output_type": "stream",
     "text": [
      "100%|█████████████████████████████████████████████████████████████████████████████████████████████████████████████████████████████| 14/14 [00:14<00:00,  1.05s/it]\n",
      "100%|███████████████████████████████████████████████████████████████████████████████████████████████████████████████████████████████| 5/5 [00:04<00:00,  1.04it/s]\n"
     ]
    },
    {
     "name": "stdout",
     "output_type": "stream",
     "text": [
      "{'TRAIN Loss': {3.3698843206678117}, 'MAE': {4.167403221130371}, 'R2': -0.28652088433974954} {'EVAL Loss': {3.2329206466674805}, 'MAE': {4.094083309173584}, 'R2': -0.2912167500142051}\n"
     ]
    },
    {
     "name": "stderr",
     "output_type": "stream",
     "text": [
      "100%|█████████████████████████████████████████████████████████████████████████████████████████████████████████████████████████████| 14/14 [00:14<00:00,  1.02s/it]\n",
      "100%|███████████████████████████████████████████████████████████████████████████████████████████████████████████████████████████████| 5/5 [00:04<00:00,  1.02it/s]\n"
     ]
    },
    {
     "name": "stdout",
     "output_type": "stream",
     "text": [
      "{'TRAIN Loss': {3.204446962901524}, 'MAE': {4.128701686859131}, 'R2': -0.27850291139979166} {'EVAL Loss': {3.2087300300598143}, 'MAE': {4.112764835357666}, 'R2': -0.29532600352621086}\n"
     ]
    },
    {
     "name": "stderr",
     "output_type": "stream",
     "text": [
      "100%|█████████████████████████████████████████████████████████████████████████████████████████████████████████████████████████████| 14/14 [00:14<00:00,  1.04s/it]\n",
      "100%|███████████████████████████████████████████████████████████████████████████████████████████████████████████████████████████████| 5/5 [00:04<00:00,  1.02it/s]\n"
     ]
    },
    {
     "name": "stdout",
     "output_type": "stream",
     "text": [
      "{'TRAIN Loss': {3.178719231060573}, 'MAE': {4.132200717926025}, 'R2': -0.27920721887119826} {'EVAL Loss': {3.220199632644653}, 'MAE': {4.108953952789307}, 'R2': -0.29447279785319114}\n"
     ]
    },
    {
     "name": "stderr",
     "output_type": "stream",
     "text": [
      "100%|█████████████████████████████████████████████████████████████████████████████████████████████████████████████████████████████| 14/14 [00:14<00:00,  1.05s/it]\n",
      "100%|███████████████████████████████████████████████████████████████████████████████████████████████████████████████████████████████| 5/5 [00:04<00:00,  1.08it/s]\n"
     ]
    },
    {
     "name": "stdout",
     "output_type": "stream",
     "text": [
      "{'TRAIN Loss': {3.217382158551897}, 'MAE': {4.133031845092773}, 'R2': -0.2793721612168094} {'EVAL Loss': {3.1269570350646974}, 'MAE': {4.106692314147949}, 'R2': -0.29395413190714237}\n"
     ]
    },
    {
     "name": "stderr",
     "output_type": "stream",
     "text": [
      "100%|█████████████████████████████████████████████████████████████████████████████████████████████████████████████████████████████| 14/14 [00:14<00:00,  1.03s/it]\n",
      "100%|███████████████████████████████████████████████████████████████████████████████████████████████████████████████████████████████| 5/5 [00:04<00:00,  1.05it/s]\n"
     ]
    },
    {
     "name": "stdout",
     "output_type": "stream",
     "text": [
      "{'TRAIN Loss': {3.183950798852103}, 'MAE': {4.132671356201172}, 'R2': -0.27927434669906703} {'EVAL Loss': {3.1456911087036135}, 'MAE': {4.101070880889893}, 'R2': -0.2926952847744482}\n"
     ]
    },
    {
     "name": "stderr",
     "output_type": "stream",
     "text": [
      "100%|█████████████████████████████████████████████████████████████████████████████████████████████████████████████████████████████| 14/14 [00:14<00:00,  1.02s/it]\n",
      "100%|███████████████████████████████████████████████████████████████████████████████████████████████████████████████████████████████| 5/5 [00:04<00:00,  1.05it/s]\n"
     ]
    },
    {
     "name": "stdout",
     "output_type": "stream",
     "text": [
      "{'TRAIN Loss': {3.1879636560167586}, 'MAE': {4.13166618347168}, 'R2': -0.2790285789343263} {'EVAL Loss': {3.1373468399047852}, 'MAE': {4.101622581481934}, 'R2': -0.29278986510081895}\n"
     ]
    },
    {
     "name": "stderr",
     "output_type": "stream",
     "text": [
      "100%|█████████████████████████████████████████████████████████████████████████████████████████████████████████████████████████████| 14/14 [00:14<00:00,  1.02s/it]\n",
      "100%|███████████████████████████████████████████████████████████████████████████████████████████████████████████████████████████████| 5/5 [00:04<00:00,  1.06it/s]\n"
     ]
    },
    {
     "name": "stdout",
     "output_type": "stream",
     "text": [
      "{'TRAIN Loss': {3.150497078895569}, 'MAE': {4.132604598999023}, 'R2': -0.27920590506182696} {'EVAL Loss': {3.139382553100586}, 'MAE': {4.104541778564453}, 'R2': -0.29339219022314}\n"
     ]
    },
    {
     "name": "stderr",
     "output_type": "stream",
     "text": [
      "100%|█████████████████████████████████████████████████████████████████████████████████████████████████████████████████████████████| 14/14 [00:13<00:00,  1.01it/s]\n",
      "100%|███████████████████████████████████████████████████████████████████████████████████████████████████████████████████████████████| 5/5 [00:04<00:00,  1.09it/s]\n"
     ]
    },
    {
     "name": "stdout",
     "output_type": "stream",
     "text": [
      "{'TRAIN Loss': {3.1466177872249057}, 'MAE': {4.13188362121582}, 'R2': -0.27902499547355286} {'EVAL Loss': {3.102760171890259}, 'MAE': {4.108142852783203}, 'R2': -0.2941322968925826}\n"
     ]
    },
    {
     "name": "stderr",
     "output_type": "stream",
     "text": [
      "100%|█████████████████████████████████████████████████████████████████████████████████████████████████████████████████████████████| 14/14 [00:13<00:00,  1.00it/s]\n",
      "100%|███████████████████████████████████████████████████████████████████████████████████████████████████████████████████████████████| 5/5 [00:04<00:00,  1.07it/s]\n"
     ]
    },
    {
     "name": "stdout",
     "output_type": "stream",
     "text": [
      "{'TRAIN Loss': {3.1913128920963834}, 'MAE': {4.132103443145752}, 'R2': -0.27904388261692525} {'EVAL Loss': {3.16287522315979}, 'MAE': {4.1027374267578125}, 'R2': -0.29296190599648697}\n"
     ]
    },
    {
     "name": "stderr",
     "output_type": "stream",
     "text": [
      "100%|█████████████████████████████████████████████████████████████████████████████████████████████████████████████████████████████| 14/14 [00:14<00:00,  1.02s/it]\n",
      "100%|███████████████████████████████████████████████████████████████████████████████████████████████████████████████████████████████| 5/5 [00:04<00:00,  1.03it/s]\n"
     ]
    },
    {
     "name": "stdout",
     "output_type": "stream",
     "text": [
      "{'TRAIN Loss': {3.160828913961138}, 'MAE': {4.132338047027588}, 'R2': -0.2790941526036812} {'EVAL Loss': {3.1515199184417724}, 'MAE': {4.100160598754883}, 'R2': -0.29239972904739786}\n"
     ]
    },
    {
     "name": "stderr",
     "output_type": "stream",
     "text": [
      "100%|█████████████████████████████████████████████████████████████████████████████████████████████████████████████████████████████| 14/14 [00:14<00:00,  1.04s/it]\n",
      "100%|███████████████████████████████████████████████████████████████████████████████████████████████████████████████████████████████| 5/5 [00:04<00:00,  1.03it/s]\n"
     ]
    },
    {
     "name": "stdout",
     "output_type": "stream",
     "text": [
      "{'TRAIN Loss': {3.173071963446481}, 'MAE': {4.132154941558838}, 'R2': -0.27903746443844346} {'EVAL Loss': {3.1428550243377686}, 'MAE': {4.100889205932617}, 'R2': -0.2925348043253957}\n"
     ]
    },
    {
     "name": "stderr",
     "output_type": "stream",
     "text": [
      "100%|█████████████████████████████████████████████████████████████████████████████████████████████████████████████████████████████| 14/14 [00:13<00:00,  1.00it/s]\n",
      "100%|███████████████████████████████████████████████████████████████████████████████████████████████████████████████████████████████| 5/5 [00:04<00:00,  1.10it/s]\n"
     ]
    },
    {
     "name": "stdout",
     "output_type": "stream",
     "text": [
      "{'TRAIN Loss': {3.177392074040004}, 'MAE': {4.131958484649658}, 'R2': -0.2789769112037812} {'EVAL Loss': {3.094251012802124}, 'MAE': {4.105137348175049}, 'R2': -0.293402963969446}\n"
     ]
    },
    {
     "name": "stderr",
     "output_type": "stream",
     "text": [
      "100%|█████████████████████████████████████████████████████████████████████████████████████████████████████████████████████████████| 14/14 [00:13<00:00,  1.02it/s]\n",
      "100%|███████████████████████████████████████████████████████████████████████████████████████████████████████████████████████████████| 5/5 [00:04<00:00,  1.07it/s]\n"
     ]
    },
    {
     "name": "stdout",
     "output_type": "stream",
     "text": [
      "{'TRAIN Loss': {3.189871975353786}, 'MAE': {4.132364273071289}, 'R2': -0.27904033209890144} {'EVAL Loss': {3.1039751529693604}, 'MAE': {4.102993011474609}, 'R2': -0.2929248877919539}\n"
     ]
    },
    {
     "name": "stderr",
     "output_type": "stream",
     "text": [
      "100%|█████████████████████████████████████████████████████████████████████████████████████████████████████████████████████████████| 14/14 [00:13<00:00,  1.01it/s]\n",
      "100%|███████████████████████████████████████████████████████████████████████████████████████████████████████████████████████████████| 5/5 [00:04<00:00,  1.09it/s]\n"
     ]
    },
    {
     "name": "stdout",
     "output_type": "stream",
     "text": [
      "{'TRAIN Loss': {3.1530405282974243}, 'MAE': {4.132471084594727}, 'R2': -0.27904379448320227} {'EVAL Loss': {3.1771658420562745}, 'MAE': {4.1003098487854}, 'R2': -0.2923778294973951}\n"
     ]
    },
    {
     "name": "stderr",
     "output_type": "stream",
     "text": [
      "100%|█████████████████████████████████████████████████████████████████████████████████████████████████████████████████████████████| 14/14 [00:13<00:00,  1.00it/s]\n",
      "100%|███████████████████████████████████████████████████████████████████████████████████████████████████████████████████████████████| 5/5 [00:04<00:00,  1.09it/s]\n"
     ]
    },
    {
     "name": "stdout",
     "output_type": "stream",
     "text": [
      "{'TRAIN Loss': {3.1684706892286028}, 'MAE': {4.13150691986084}, 'R2': -0.278874145646657} {'EVAL Loss': {3.180552101135254}, 'MAE': {4.114372253417969}, 'R2': -0.2952632278605134}\n"
     ]
    },
    {
     "name": "stderr",
     "output_type": "stream",
     "text": [
      "100%|█████████████████████████████████████████████████████████████████████████████████████████████████████████████████████████████| 14/14 [00:13<00:00,  1.02it/s]\n",
      "100%|███████████████████████████████████████████████████████████████████████████████████████████████████████████████████████████████| 5/5 [00:04<00:00,  1.10it/s]\n"
     ]
    },
    {
     "name": "stdout",
     "output_type": "stream",
     "text": [
      "{'TRAIN Loss': {3.1882920265197754}, 'MAE': {4.13530969619751}, 'R2': -0.27958816632694106} {'EVAL Loss': {3.181294345855713}, 'MAE': {4.099318027496338}, 'R2': -0.2921859784235674}\n"
     ]
    },
    {
     "name": "stderr",
     "output_type": "stream",
     "text": [
      "100%|█████████████████████████████████████████████████████████████████████████████████████████████████████████████████████████████| 14/14 [00:13<00:00,  1.02it/s]\n",
      "100%|███████████████████████████████████████████████████████████████████████████████████████████████████████████████████████████████| 5/5 [00:04<00:00,  1.10it/s]\n"
     ]
    },
    {
     "name": "stdout",
     "output_type": "stream",
     "text": [
      "{'TRAIN Loss': {3.1572539806365967}, 'MAE': {4.131688594818115}, 'R2': -0.2789234769395059} {'EVAL Loss': {3.1836480617523195}, 'MAE': {4.108902931213379}, 'R2': -0.29416280755763546}\n"
     ]
    },
    {
     "name": "stderr",
     "output_type": "stream",
     "text": [
      "100%|█████████████████████████████████████████████████████████████████████████████████████████████████████████████████████████████| 14/14 [00:13<00:00,  1.03it/s]\n",
      "100%|███████████████████████████████████████████████████████████████████████████████████████████████████████████████████████████████| 5/5 [00:04<00:00,  1.08it/s]\n"
     ]
    },
    {
     "name": "stdout",
     "output_type": "stream",
     "text": [
      "{'TRAIN Loss': {3.1582878146852766}, 'MAE': {4.133001327514648}, 'R2': -0.2791713145407231} {'EVAL Loss': {3.1760080814361573}, 'MAE': {4.098296642303467}, 'R2': -0.2919416001126789}\n"
     ]
    },
    {
     "name": "stderr",
     "output_type": "stream",
     "text": [
      "100%|█████████████████████████████████████████████████████████████████████████████████████████████████████████████████████████████| 14/14 [00:14<00:00,  1.01s/it]\n",
      "100%|███████████████████████████████████████████████████████████████████████████████████████████████████████████████████████████████| 5/5 [00:04<00:00,  1.09it/s]\n"
     ]
    },
    {
     "name": "stdout",
     "output_type": "stream",
     "text": [
      "{'TRAIN Loss': {3.1156236614499773}, 'MAE': {4.132292747497559}, 'R2': -0.2790004198696501} {'EVAL Loss': {3.1436559200286864}, 'MAE': {4.108675956726074}, 'R2': -0.29408348396770534}\n"
     ]
    },
    {
     "name": "stderr",
     "output_type": "stream",
     "text": [
      "100%|█████████████████████████████████████████████████████████████████████████████████████████████████████████████████████████████| 14/14 [00:13<00:00,  1.01it/s]\n",
      "100%|███████████████████████████████████████████████████████████████████████████████████████████████████████████████████████████████| 5/5 [00:04<00:00,  1.09it/s]\n"
     ]
    },
    {
     "name": "stdout",
     "output_type": "stream",
     "text": [
      "{'TRAIN Loss': {3.142172932624817}, 'MAE': {4.132868766784668}, 'R2': -0.2791307121426463} {'EVAL Loss': {3.240772914886475}, 'MAE': {4.113609313964844}, 'R2': -0.2950858211075722}\n"
     ]
    },
    {
     "name": "stderr",
     "output_type": "stream",
     "text": [
      "100%|█████████████████████████████████████████████████████████████████████████████████████████████████████████████████████████████| 14/14 [00:13<00:00,  1.01it/s]\n",
      "100%|███████████████████████████████████████████████████████████████████████████████████████████████████████████████████████████████| 5/5 [00:04<00:00,  1.09it/s]\n"
     ]
    },
    {
     "name": "stdout",
     "output_type": "stream",
     "text": [
      "{'TRAIN Loss': {3.157055752617972}, 'MAE': {4.133138656616211}, 'R2': -0.2791999203039437} {'EVAL Loss': {3.1243268966674806}, 'MAE': {4.102097511291504}, 'R2': -0.29274378610797713}\n"
     ]
    },
    {
     "name": "stderr",
     "output_type": "stream",
     "text": [
      "100%|█████████████████████████████████████████████████████████████████████████████████████████████████████████████████████████████| 14/14 [00:13<00:00,  1.01it/s]\n",
      "100%|███████████████████████████████████████████████████████████████████████████████████████████████████████████████████████████████| 5/5 [00:04<00:00,  1.09it/s]\n"
     ]
    },
    {
     "name": "stdout",
     "output_type": "stream",
     "text": [
      "{'TRAIN Loss': {3.1326552288872853}, 'MAE': {4.1324310302734375}, 'R2': -0.2790457579550909} {'EVAL Loss': {3.130165433883667}, 'MAE': {4.099815845489502}, 'R2': -0.2922366444111888}\n"
     ]
    },
    {
     "name": "stderr",
     "output_type": "stream",
     "text": [
      "100%|█████████████████████████████████████████████████████████████████████████████████████████████████████████████████████████████| 14/14 [00:13<00:00,  1.01it/s]\n",
      "100%|███████████████████████████████████████████████████████████████████████████████████████████████████████████████████████████████| 5/5 [00:04<00:00,  1.08it/s]\n"
     ]
    },
    {
     "name": "stdout",
     "output_type": "stream",
     "text": [
      "{'TRAIN Loss': {3.1534312963485718}, 'MAE': {4.133085250854492}, 'R2': -0.27914232034219544} {'EVAL Loss': {3.115203285217285}, 'MAE': {4.1054487228393555}, 'R2': -0.2934179038743754}\n"
     ]
    },
    {
     "name": "stderr",
     "output_type": "stream",
     "text": [
      "100%|█████████████████████████████████████████████████████████████████████████████████████████████████████████████████████████████| 14/14 [00:13<00:00,  1.01it/s]\n",
      "100%|███████████████████████████████████████████████████████████████████████████████████████████████████████████████████████████████| 5/5 [00:04<00:00,  1.09it/s]\n"
     ]
    },
    {
     "name": "stdout",
     "output_type": "stream",
     "text": [
      "{'TRAIN Loss': {3.138723986489432}, 'MAE': {4.132355213165283}, 'R2': -0.279036030969936} {'EVAL Loss': {3.1537044048309326}, 'MAE': {4.103634834289551}, 'R2': -0.29304340882924196}\n"
     ]
    },
    {
     "name": "stderr",
     "output_type": "stream",
     "text": [
      "100%|█████████████████████████████████████████████████████████████████████████████████████████████████████████████████████████████| 14/14 [00:13<00:00,  1.00it/s]\n",
      "100%|███████████████████████████████████████████████████████████████████████████████████████████████████████████████████████████████| 5/5 [00:04<00:00,  1.08it/s]\n"
     ]
    },
    {
     "name": "stdout",
     "output_type": "stream",
     "text": [
      "{'TRAIN Loss': {3.1822036845343455}, 'MAE': {4.132179260253906}, 'R2': -0.2790024681624319} {'EVAL Loss': {3.090951681137085}, 'MAE': {4.102982044219971}, 'R2': -0.2928941158230398}\n"
     ]
    },
    {
     "name": "stderr",
     "output_type": "stream",
     "text": [
      "100%|█████████████████████████████████████████████████████████████████████████████████████████████████████████████████████████████| 14/14 [00:13<00:00,  1.00it/s]\n",
      "100%|███████████████████████████████████████████████████████████████████████████████████████████████████████████████████████████████| 5/5 [00:04<00:00,  1.08it/s]\n"
     ]
    },
    {
     "name": "stdout",
     "output_type": "stream",
     "text": [
      "{'TRAIN Loss': {3.168991037777492}, 'MAE': {4.132163047790527}, 'R2': -0.27897328860498294} {'EVAL Loss': {3.1285074234008787}, 'MAE': {4.107706546783447}, 'R2': -0.2938063735041758}\n"
     ]
    },
    {
     "name": "stderr",
     "output_type": "stream",
     "text": [
      "100%|█████████████████████████████████████████████████████████████████████████████████████████████████████████████████████████████| 14/14 [00:14<00:00,  1.00s/it]\n",
      "100%|███████████████████████████████████████████████████████████████████████████████████████████████████████████████████████████████| 5/5 [00:04<00:00,  1.08it/s]\n"
     ]
    },
    {
     "name": "stdout",
     "output_type": "stream",
     "text": [
      "{'TRAIN Loss': {3.175851379122053}, 'MAE': {4.13263463973999}, 'R2': -0.2790565238581768} {'EVAL Loss': {3.1864167213439942}, 'MAE': {4.1202802658081055}, 'R2': -0.29638244551756765}\n"
     ]
    },
    {
     "name": "stderr",
     "output_type": "stream",
     "text": [
      "100%|█████████████████████████████████████████████████████████████████████████████████████████████████████████████████████████████| 14/14 [00:13<00:00,  1.01it/s]\n",
      "100%|███████████████████████████████████████████████████████████████████████████████████████████████████████████████████████████████| 5/5 [00:04<00:00,  1.08it/s]\n"
     ]
    },
    {
     "name": "stdout",
     "output_type": "stream",
     "text": [
      "{'TRAIN Loss': {3.237938949040004}, 'MAE': {4.136296272277832}, 'R2': -0.2798843316168591} {'EVAL Loss': {3.140896511077881}, 'MAE': {4.110142707824707}, 'R2': -0.2945265710277256}\n"
     ]
    },
    {
     "name": "stderr",
     "output_type": "stream",
     "text": [
      "100%|█████████████████████████████████████████████████████████████████████████████████████████████████████████████████████████████| 14/14 [00:13<00:00,  1.00it/s]\n",
      "100%|███████████████████████████████████████████████████████████████████████████████████████████████████████████████████████████████| 5/5 [00:04<00:00,  1.10it/s]\n"
     ]
    },
    {
     "name": "stdout",
     "output_type": "stream",
     "text": [
      "{'TRAIN Loss': {3.181889125279018}, 'MAE': {4.133863925933838}, 'R2': -0.2793815762418115} {'EVAL Loss': {3.1584182739257813}, 'MAE': {4.097222328186035}, 'R2': -0.29176612658389645}\n"
     ]
    },
    {
     "name": "stderr",
     "output_type": "stream",
     "text": [
      "100%|█████████████████████████████████████████████████████████████████████████████████████████████████████████████████████████████| 14/14 [00:13<00:00,  1.02it/s]\n",
      "100%|███████████████████████████████████████████████████████████████████████████████████████████████████████████████████████████████| 5/5 [00:04<00:00,  1.08it/s]\n"
     ]
    },
    {
     "name": "stdout",
     "output_type": "stream",
     "text": [
      "{'TRAIN Loss': {3.137794954436166}, 'MAE': {4.131469249725342}, 'R2': -0.2789052201115598} {'EVAL Loss': {3.1742024421691895}, 'MAE': {4.1174092292785645}, 'R2': -0.2959148734667043}\n"
     ]
    },
    {
     "name": "stderr",
     "output_type": "stream",
     "text": [
      "100%|█████████████████████████████████████████████████████████████████████████████████████████████████████████████████████████████| 14/14 [00:14<00:00,  1.00s/it]\n",
      "100%|███████████████████████████████████████████████████████████████████████████████████████████████████████████████████████████████| 5/5 [00:04<00:00,  1.05it/s]\n"
     ]
    },
    {
     "name": "stdout",
     "output_type": "stream",
     "text": [
      "{'TRAIN Loss': {3.1867697749819075}, 'MAE': {4.135763168334961}, 'R2': -0.2796694039522767} {'EVAL Loss': {3.2280412197113035}, 'MAE': {4.096411228179932}, 'R2': -0.2916081415011924}\n"
     ]
    },
    {
     "name": "stderr",
     "output_type": "stream",
     "text": [
      "100%|█████████████████████████████████████████████████████████████████████████████████████████████████████████████████████████████| 14/14 [00:14<00:00,  1.02s/it]\n",
      "100%|███████████████████████████████████████████████████████████████████████████████████████████████████████████████████████████████| 5/5 [00:04<00:00,  1.03it/s]\n"
     ]
    },
    {
     "name": "stdout",
     "output_type": "stream",
     "text": [
      "{'TRAIN Loss': {3.2405896186828613}, 'MAE': {4.132289886474609}, 'R2': -0.27909621217757774} {'EVAL Loss': {3.0763949871063234}, 'MAE': {4.104813098907471}, 'R2': -0.29332101279382083}\n"
     ]
    },
    {
     "name": "stderr",
     "output_type": "stream",
     "text": [
      "100%|█████████████████████████████████████████████████████████████████████████████████████████████████████████████████████████████| 14/14 [00:14<00:00,  1.02s/it]\n",
      "100%|███████████████████████████████████████████████████████████████████████████████████████████████████████████████████████████████| 5/5 [00:04<00:00,  1.05it/s]\n"
     ]
    },
    {
     "name": "stdout",
     "output_type": "stream",
     "text": [
      "{'TRAIN Loss': {3.1729033844811574}, 'MAE': {4.132031440734863}, 'R2': -0.2789463048300347} {'EVAL Loss': {3.1216225147247316}, 'MAE': {4.100440502166748}, 'R2': -0.2923457200234316}\n"
     ]
    },
    {
     "name": "stderr",
     "output_type": "stream",
     "text": [
      "100%|█████████████████████████████████████████████████████████████████████████████████████████████████████████████████████████████| 14/14 [00:14<00:00,  1.02s/it]\n",
      "100%|███████████████████████████████████████████████████████████████████████████████████████████████████████████████████████████████| 5/5 [00:04<00:00,  1.04it/s]\n"
     ]
    },
    {
     "name": "stdout",
     "output_type": "stream",
     "text": [
      "{'TRAIN Loss': {3.144194483757019}, 'MAE': {4.132936954498291}, 'R2': -0.2790993075895958} {'EVAL Loss': {3.142741823196411}, 'MAE': {4.097364902496338}, 'R2': -0.2917539764197472}\n"
     ]
    },
    {
     "name": "stderr",
     "output_type": "stream",
     "text": [
      "100%|█████████████████████████████████████████████████████████████████████████████████████████████████████████████████████████████| 14/14 [00:14<00:00,  1.03s/it]\n",
      "100%|███████████████████████████████████████████████████████████████████████████████████████████████████████████████████████████████| 5/5 [00:04<00:00,  1.05it/s]\n"
     ]
    },
    {
     "name": "stdout",
     "output_type": "stream",
     "text": [
      "{'TRAIN Loss': {3.1933079787663052}, 'MAE': {4.137278079986572}, 'R2': -0.2800206275189563} {'EVAL Loss': {3.224686622619629}, 'MAE': {4.094415664672852}, 'R2': -0.2911933087221572}\n"
     ]
    },
    {
     "name": "stderr",
     "output_type": "stream",
     "text": [
      "100%|█████████████████████████████████████████████████████████████████████████████████████████████████████████████████████████████| 14/14 [00:14<00:00,  1.02s/it]\n",
      "100%|███████████████████████████████████████████████████████████████████████████████████████████████████████████████████████████████| 5/5 [00:04<00:00,  1.03it/s]\n"
     ]
    },
    {
     "name": "stdout",
     "output_type": "stream",
     "text": [
      "{'TRAIN Loss': {3.193022574697222}, 'MAE': {4.131103038787842}, 'R2': -0.27886623551188805} {'EVAL Loss': {3.1546331882476806}, 'MAE': {4.0993828773498535}, 'R2': -0.2921806516839933}\n"
     ]
    },
    {
     "name": "stderr",
     "output_type": "stream",
     "text": [
      "100%|█████████████████████████████████████████████████████████████████████████████████████████████████████████████████████████████| 14/14 [00:14<00:00,  1.03s/it]\n",
      "100%|███████████████████████████████████████████████████████████████████████████████████████████████████████████████████████████████| 5/5 [00:04<00:00,  1.05it/s]\n"
     ]
    },
    {
     "name": "stdout",
     "output_type": "stream",
     "text": [
      "{'TRAIN Loss': {3.1758927617754256}, 'MAE': {4.131484508514404}, 'R2': -0.27885505320070836} {'EVAL Loss': {3.1113385200500487}, 'MAE': {4.107718467712402}, 'R2': -0.2938198078623886}\n"
     ]
    },
    {
     "name": "stderr",
     "output_type": "stream",
     "text": [
      "100%|█████████████████████████████████████████████████████████████████████████████████████████████████████████████████████████████| 14/14 [00:14<00:00,  1.01s/it]\n",
      "100%|███████████████████████████████████████████████████████████████████████████████████████████████████████████████████████████████| 5/5 [00:04<00:00,  1.07it/s]\n"
     ]
    },
    {
     "name": "stdout",
     "output_type": "stream",
     "text": [
      "{'TRAIN Loss': {3.1336066722869873}, 'MAE': {4.132669448852539}, 'R2': -0.27906605669357143} {'EVAL Loss': {3.2032840728759764}, 'MAE': {4.123854637145996}, 'R2': -0.2971289162496178}\n"
     ]
    },
    {
     "name": "stderr",
     "output_type": "stream",
     "text": [
      "100%|█████████████████████████████████████████████████████████████████████████████████████████████████████████████████████████████| 14/14 [00:14<00:00,  1.01s/it]\n",
      "100%|███████████████████████████████████████████████████████████████████████████████████████████████████████████████████████████████| 5/5 [00:04<00:00,  1.08it/s]\n"
     ]
    },
    {
     "name": "stdout",
     "output_type": "stream",
     "text": [
      "{'TRAIN Loss': {3.1745602914265225}, 'MAE': {4.1375041007995605}, 'R2': -0.2801239883132103} {'EVAL Loss': {3.1878172397613525}, 'MAE': {4.095829486846924}, 'R2': -0.29148245477189416}\n"
     ]
    },
    {
     "name": "stderr",
     "output_type": "stream",
     "text": [
      "100%|█████████████████████████████████████████████████████████████████████████████████████████████████████████████████████████████| 14/14 [00:13<00:00,  1.00it/s]\n",
      "100%|███████████████████████████████████████████████████████████████████████████████████████████████████████████████████████████████| 5/5 [00:04<00:00,  1.07it/s]\n"
     ]
    },
    {
     "name": "stdout",
     "output_type": "stream",
     "text": [
      "{'TRAIN Loss': {3.175479139600481}, 'MAE': {4.133670330047607}, 'R2': -0.27932880267058313} {'EVAL Loss': {3.153404951095581}, 'MAE': {4.100459575653076}, 'R2': -0.2924416827852472}\n"
     ]
    },
    {
     "name": "stderr",
     "output_type": "stream",
     "text": [
      "100%|█████████████████████████████████████████████████████████████████████████████████████████████████████████████████████████████| 14/14 [00:13<00:00,  1.01it/s]\n",
      "100%|███████████████████████████████████████████████████████████████████████████████████████████████████████████████████████████████| 5/5 [00:04<00:00,  1.07it/s]\n"
     ]
    },
    {
     "name": "stdout",
     "output_type": "stream",
     "text": [
      "{'TRAIN Loss': {3.163265585899353}, 'MAE': {4.130979061126709}, 'R2': -0.2788166798325211} {'EVAL Loss': {3.114810419082642}, 'MAE': {4.10788631439209}, 'R2': -0.29401691765907856}\n"
     ]
    },
    {
     "name": "stderr",
     "output_type": "stream",
     "text": [
      "100%|█████████████████████████████████████████████████████████████████████████████████████████████████████████████████████████████| 14/14 [00:14<00:00,  1.04s/it]\n",
      "100%|███████████████████████████████████████████████████████████████████████████████████████████████████████████████████████████████| 5/5 [00:04<00:00,  1.08it/s]\n"
     ]
    },
    {
     "name": "stdout",
     "output_type": "stream",
     "text": [
      "{'TRAIN Loss': {3.1421696628843034}, 'MAE': {4.132235527038574}, 'R2': -0.27909622736011763} {'EVAL Loss': {3.1267940044403075}, 'MAE': {4.107566833496094}, 'R2': -0.29386932847938674}\n"
     ]
    },
    {
     "name": "stderr",
     "output_type": "stream",
     "text": [
      "100%|█████████████████████████████████████████████████████████████████████████████████████████████████████████████████████████████| 14/14 [00:14<00:00,  1.01s/it]\n",
      "100%|███████████████████████████████████████████████████████████████████████████████████████████████████████████████████████████████| 5/5 [00:04<00:00,  1.03it/s]\n"
     ]
    },
    {
     "name": "stdout",
     "output_type": "stream",
     "text": [
      "{'TRAIN Loss': {3.14346216406141}, 'MAE': {4.132747650146484}, 'R2': -0.27913459860079515} {'EVAL Loss': {3.1269211292266847}, 'MAE': {4.102831840515137}, 'R2': -0.2928570261735344}\n"
     ]
    },
    {
     "name": "stderr",
     "output_type": "stream",
     "text": [
      "100%|█████████████████████████████████████████████████████████████████████████████████████████████████████████████████████████████| 14/14 [00:14<00:00,  1.03s/it]\n",
      "100%|███████████████████████████████████████████████████████████████████████████████████████████████████████████████████████████████| 5/5 [00:04<00:00,  1.06it/s]\n"
     ]
    },
    {
     "name": "stdout",
     "output_type": "stream",
     "text": [
      "{'TRAIN Loss': {3.1521435294832503}, 'MAE': {4.131410598754883}, 'R2': -0.2788258049533492} {'EVAL Loss': {3.174146795272827}, 'MAE': {4.106197357177734}, 'R2': -0.2935020478349115}\n"
     ]
    },
    {
     "name": "stderr",
     "output_type": "stream",
     "text": [
      "100%|█████████████████████████████████████████████████████████████████████████████████████████████████████████████████████████████| 14/14 [00:13<00:00,  1.01it/s]\n",
      "100%|███████████████████████████████████████████████████████████████████████████████████████████████████████████████████████████████| 5/5 [00:04<00:00,  1.08it/s]\n"
     ]
    },
    {
     "name": "stdout",
     "output_type": "stream",
     "text": [
      "{'TRAIN Loss': {3.17622743334089}, 'MAE': {4.131856918334961}, 'R2': -0.2789304673130606} {'EVAL Loss': {3.104843521118164}, 'MAE': {4.102901935577393}, 'R2': -0.29286594699109725}\n"
     ]
    },
    {
     "name": "stderr",
     "output_type": "stream",
     "text": [
      "100%|█████████████████████████████████████████████████████████████████████████████████████████████████████████████████████████████| 14/14 [00:14<00:00,  1.02s/it]\n",
      "100%|███████████████████████████████████████████████████████████████████████████████████████████████████████████████████████████████| 5/5 [00:04<00:00,  1.08it/s]\n"
     ]
    },
    {
     "name": "stdout",
     "output_type": "stream",
     "text": [
      "{'TRAIN Loss': {3.1276573623929704}, 'MAE': {4.13211727142334}, 'R2': -0.27898457908347263} {'EVAL Loss': {3.1685879230499268}, 'MAE': {4.103428840637207}, 'R2': -0.2929575581806312}\n"
     ]
    },
    {
     "name": "stderr",
     "output_type": "stream",
     "text": [
      "100%|█████████████████████████████████████████████████████████████████████████████████████████████████████████████████████████████| 14/14 [00:14<00:00,  1.02s/it]\n",
      "100%|███████████████████████████████████████████████████████████████████████████████████████████████████████████████████████████████| 5/5 [00:04<00:00,  1.08it/s]\n"
     ]
    },
    {
     "name": "stdout",
     "output_type": "stream",
     "text": [
      "{'TRAIN Loss': {3.176966428756714}, 'MAE': {4.131802558898926}, 'R2': -0.27892674482038404} {'EVAL Loss': {3.1611608028411866}, 'MAE': {4.104648590087891}, 'R2': -0.29319928257967964}\n"
     ]
    },
    {
     "name": "stderr",
     "output_type": "stream",
     "text": [
      "100%|█████████████████████████████████████████████████████████████████████████████████████████████████████████████████████████████| 14/14 [00:14<00:00,  1.01s/it]\n",
      "100%|███████████████████████████████████████████████████████████████████████████████████████████████████████████████████████████████| 5/5 [00:04<00:00,  1.08it/s]"
     ]
    },
    {
     "name": "stdout",
     "output_type": "stream",
     "text": [
      "{'TRAIN Loss': {3.1185233763286044}, 'MAE': {4.132709980010986}, 'R2': -0.2791001641906048} {'EVAL Loss': {3.17292799949646}, 'MAE': {4.104213237762451}, 'R2': -0.29311168783284036}\n"
     ]
    },
    {
     "name": "stderr",
     "output_type": "stream",
     "text": [
      "\n"
     ]
    }
   ],
   "source": [
    "train_logs, eval_logs = [], []\n",
    "\n",
    "for i in range(config.epochs):\n",
    "    train_log = train_epoch(\n",
    "        model=model, \n",
    "        loader=train_loader, \n",
    "        loss_function=loss_function, \n",
    "        optimizer=optimizer,\n",
    "        scheduler=scheduler,\n",
    "        device=config.device\n",
    "    )\n",
    "    \n",
    "    eval_log = eval_epoch(\n",
    "        model=model, \n",
    "        loader=eval_loader, \n",
    "        loss_function=loss_function, \n",
    "        device=config.device\n",
    "    )\n",
    "\n",
    "    print(train_log, eval_log)\n",
    "    \n",
    "    train_logs.append(train_log)\n",
    "    eval_logs.append(eval_log)"
   ]
  },
  {
   "cell_type": "code",
   "execution_count": null,
   "id": "ade3b42f-e0b8-4be9-94d3-f4d6e17569de",
   "metadata": {},
   "outputs": [],
   "source": []
  }
 ],
 "metadata": {
  "kernelspec": {
   "display_name": "Python 3 (ipykernel)",
   "language": "python",
   "name": "python3"
  },
  "language_info": {
   "codemirror_mode": {
    "name": "ipython",
    "version": 3
   },
   "file_extension": ".py",
   "mimetype": "text/x-python",
   "name": "python",
   "nbconvert_exporter": "python",
   "pygments_lexer": "ipython3",
   "version": "3.10.12"
  }
 },
 "nbformat": 4,
 "nbformat_minor": 5
}
