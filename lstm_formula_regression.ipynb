{
 "cells": [
  {
   "cell_type": "markdown",
   "id": "1ebc4008-116f-45d5-a022-412e35d29cec",
   "metadata": {},
   "source": [
    "# Libraries"
   ]
  },
  {
   "cell_type": "code",
   "execution_count": 1,
   "id": "cef59150-b13e-40c3-9f61-f848a2e5b214",
   "metadata": {},
   "outputs": [
    {
     "name": "stderr",
     "output_type": "stream",
     "text": [
      "/home/leffff/PycharmProjects/misis-ai-course-final-project-2023/.venv/lib/python3.10/site-packages/tqdm/auto.py:21: TqdmWarning: IProgress not found. Please update jupyter and ipywidgets. See https://ipywidgets.readthedocs.io/en/stable/user_install.html\n",
      "  from .autonotebook import tqdm as notebook_tqdm\n"
     ]
    }
   ],
   "source": [
    "import random\n",
    "\n",
    "from tqdm.auto import tqdm\n",
    "import numpy as np\n",
    "import pandas as pd\n",
    "import torch\n",
    "from torch.utils.data import Subset\n",
    "from torch.optim import AdamW\n",
    "\n",
    "from transformers.optimization import get_cosine_schedule_with_warmup\n",
    "import torch_geometric as pyg\n",
    "from torch_geometric.nn.pool import global_mean_pool\n",
    "from torch_geometric.data import Dataset, DataLoader\n",
    "from sklearn.model_selection import train_test_split\n",
    "from sklearn.metrics import r2_score"
   ]
  },
  {
   "cell_type": "markdown",
   "id": "9f7dcd04-cc86-477b-bf5c-0a863ca5a454",
   "metadata": {},
   "source": [
    "# Config"
   ]
  },
  {
   "cell_type": "code",
   "execution_count": 2,
   "id": "24fa92b6-c00c-4832-8572-023ec0476eb0",
   "metadata": {},
   "outputs": [],
   "source": [
    "def seed_everything(seed_value):\n",
    "    random.seed(seed_value)\n",
    "    np.random.seed(seed_value)\n",
    "    torch.manual_seed(seed_value)\n",
    "    if torch.cuda.is_available():\n",
    "        torch.cuda.manual_seed(seed_value)\n",
    "        torch.cuda.manual_seed_all(seed_value)\n",
    "        # torch.backends.cudnn.benchmark = True\n",
    "        torch.backends.cudnn.deterministic = False\n",
    "        \n"
   ]
  },
  {
   "cell_type": "code",
   "execution_count": 3,
   "id": "3515f89e-c9c2-42eb-830a-46ce3ae2b1a9",
   "metadata": {},
   "outputs": [],
   "source": [
    "from dataclasses import dataclass\n",
    "from typing import Tuple\n",
    "\n",
    "@dataclass\n",
    "class TrainingConfig:\n",
    "    # Training\n",
    "    batch_size = 2048\n",
    "    epochs = 50\n",
    "    learning_rate = 1e-2\n",
    "    lr_warmup_steps = 500\n",
    "\n",
    "    device = \"cuda\"\n",
    "    random_state = 42\n",
    "\n",
    "\n",
    "config = TrainingConfig()\n",
    "seed_everything(config.random_state)"
   ]
  },
  {
   "cell_type": "markdown",
   "id": "9a734c24-6592-4239-8894-df3fd58b7645",
   "metadata": {},
   "source": [
    "# Data"
   ]
  },
  {
   "cell_type": "code",
   "execution_count": 4,
   "id": "5dfec7b9-27e9-4ae2-89f5-e5f22081954e",
   "metadata": {},
   "outputs": [
    {
     "data": {
      "text/html": [
       "<div>\n",
       "<style scoped>\n",
       "    .dataframe tbody tr th:only-of-type {\n",
       "        vertical-align: middle;\n",
       "    }\n",
       "\n",
       "    .dataframe tbody tr th {\n",
       "        vertical-align: top;\n",
       "    }\n",
       "\n",
       "    .dataframe thead th {\n",
       "        text-align: right;\n",
       "    }\n",
       "</style>\n",
       "<table border=\"1\" class=\"dataframe\">\n",
       "  <thead>\n",
       "    <tr style=\"text-align: right;\">\n",
       "      <th></th>\n",
       "      <th>Title</th>\n",
       "      <th>IC50</th>\n",
       "      <th>SMILES</th>\n",
       "    </tr>\n",
       "  </thead>\n",
       "  <tbody>\n",
       "    <tr>\n",
       "      <th>0</th>\n",
       "      <td>CHEMBL2206459</td>\n",
       "      <td>0.000015</td>\n",
       "      <td>[H]\\N=C(N)\\N[C@@H](C1)[C@@H](NC(=O)C)[C@@H](C=...</td>\n",
       "    </tr>\n",
       "    <tr>\n",
       "      <th>1</th>\n",
       "      <td>CHEMBL3818159</td>\n",
       "      <td>0.000016</td>\n",
       "      <td>O=C(O)C1=C[C@H](N)[C@@H](NC(=O)C)[C@@H](C1)COC...</td>\n",
       "    </tr>\n",
       "    <tr>\n",
       "      <th>2</th>\n",
       "      <td>CHEMBL1956716</td>\n",
       "      <td>0.000033</td>\n",
       "      <td>C=CC(=O)N[C@H]([C@H](C1)N)[C@@H](C=C1C([O-])=O...</td>\n",
       "    </tr>\n",
       "    <tr>\n",
       "      <th>3</th>\n",
       "      <td>CHEMBL1956715</td>\n",
       "      <td>0.000032</td>\n",
       "      <td>CC(=O)N[C@H]([C@H](C1)N)[C@@H](C=C1C([O-])=O)O...</td>\n",
       "    </tr>\n",
       "    <tr>\n",
       "      <th>4</th>\n",
       "      <td>CHEMBL4444029</td>\n",
       "      <td>0.000041</td>\n",
       "      <td>O=C(O)c1c(O)c(=O)cc([nH]1)-c(c2C)ccc(c2)-c3noc...</td>\n",
       "    </tr>\n",
       "    <tr>\n",
       "      <th>...</th>\n",
       "      <td>...</td>\n",
       "      <td>...</td>\n",
       "      <td>...</td>\n",
       "    </tr>\n",
       "    <tr>\n",
       "      <th>36372</th>\n",
       "      <td>CHEMBL3699085</td>\n",
       "      <td>2366.790000</td>\n",
       "      <td>CC(=O)N[C@H]1CC[C@@H]([C@@H]12)[C@@H](O[Si](C)...</td>\n",
       "    </tr>\n",
       "    <tr>\n",
       "      <th>36373</th>\n",
       "      <td>CHEMBL109004</td>\n",
       "      <td>2372.100000</td>\n",
       "      <td>CC(=O)Nc(cc1)c(OC(=O)C)cc1C(=O)O</td>\n",
       "    </tr>\n",
       "    <tr>\n",
       "      <th>36374</th>\n",
       "      <td>CHEMBL2259758</td>\n",
       "      <td>2600.970000</td>\n",
       "      <td>c1cccc(c12)cccc2CNC(=O)CCCCCCO[C@]3(C(=O)O)C[C...</td>\n",
       "    </tr>\n",
       "    <tr>\n",
       "      <th>36375</th>\n",
       "      <td>CHEMBL109781</td>\n",
       "      <td>2793.000000</td>\n",
       "      <td>NCCCC(=O)Nc(c(cc1)NC(=O)C)cc1C(=O)O</td>\n",
       "    </tr>\n",
       "    <tr>\n",
       "      <th>36376</th>\n",
       "      <td>CHEMBL3699084</td>\n",
       "      <td>3183.600000</td>\n",
       "      <td>CC(=O)N[C@H]1CS(=O)(=O)[C@@H]([C@@H]12)[C@@H](...</td>\n",
       "    </tr>\n",
       "  </tbody>\n",
       "</table>\n",
       "<p>36377 rows × 3 columns</p>\n",
       "</div>"
      ],
      "text/plain": [
       "               Title         IC50  \\\n",
       "0      CHEMBL2206459     0.000015   \n",
       "1      CHEMBL3818159     0.000016   \n",
       "2      CHEMBL1956716     0.000033   \n",
       "3      CHEMBL1956715     0.000032   \n",
       "4      CHEMBL4444029     0.000041   \n",
       "...              ...          ...   \n",
       "36372  CHEMBL3699085  2366.790000   \n",
       "36373   CHEMBL109004  2372.100000   \n",
       "36374  CHEMBL2259758  2600.970000   \n",
       "36375   CHEMBL109781  2793.000000   \n",
       "36376  CHEMBL3699084  3183.600000   \n",
       "\n",
       "                                                  SMILES  \n",
       "0      [H]\\N=C(N)\\N[C@@H](C1)[C@@H](NC(=O)C)[C@@H](C=...  \n",
       "1      O=C(O)C1=C[C@H](N)[C@@H](NC(=O)C)[C@@H](C1)COC...  \n",
       "2      C=CC(=O)N[C@H]([C@H](C1)N)[C@@H](C=C1C([O-])=O...  \n",
       "3      CC(=O)N[C@H]([C@H](C1)N)[C@@H](C=C1C([O-])=O)O...  \n",
       "4      O=C(O)c1c(O)c(=O)cc([nH]1)-c(c2C)ccc(c2)-c3noc...  \n",
       "...                                                  ...  \n",
       "36372  CC(=O)N[C@H]1CC[C@@H]([C@@H]12)[C@@H](O[Si](C)...  \n",
       "36373                   CC(=O)Nc(cc1)c(OC(=O)C)cc1C(=O)O  \n",
       "36374  c1cccc(c12)cccc2CNC(=O)CCCCCCO[C@]3(C(=O)O)C[C...  \n",
       "36375                NCCCC(=O)Nc(c(cc1)NC(=O)C)cc1C(=O)O  \n",
       "36376  CC(=O)N[C@H]1CS(=O)(=O)[C@@H]([C@@H]12)[C@@H](...  \n",
       "\n",
       "[36377 rows x 3 columns]"
      ]
     },
     "execution_count": 4,
     "metadata": {},
     "output_type": "execute_result"
    }
   ],
   "source": [
    "df = pd.read_excel(\"data/19_35000.xlsx\", index_col=0).reset_index(drop=True).dropna()\n",
    "df"
   ]
  },
  {
   "cell_type": "code",
   "execution_count": 5,
   "id": "ec1428fb-9024-4627-9c9c-a27b480d86dd",
   "metadata": {},
   "outputs": [],
   "source": [
    "perc_99 = np.percentile(df[\"IC50\"], 99)\n",
    "df = df[df[\"IC50\"] <= perc_99]"
   ]
  },
  {
   "cell_type": "code",
   "execution_count": 6,
   "id": "ce8e9dec-1a29-4e94-8f24-2d4ea7d5867b",
   "metadata": {},
   "outputs": [
    {
     "data": {
      "text/plain": [
       "Title      object\n",
       "IC50      float64\n",
       "SMILES     object\n",
       "dtype: object"
      ]
     },
     "execution_count": 6,
     "metadata": {},
     "output_type": "execute_result"
    }
   ],
   "source": [
    "df.dtypes"
   ]
  },
  {
   "cell_type": "code",
   "execution_count": 7,
   "id": "3cc42287-a1fa-4bab-bcb1-cc62bd2b14cb",
   "metadata": {},
   "outputs": [
    {
     "name": "stderr",
     "output_type": "stream",
     "text": [
      "/tmp/ipykernel_103546/3536902818.py:1: SettingWithCopyWarning: \n",
      "A value is trying to be set on a copy of a slice from a DataFrame.\n",
      "Try using .loc[row_indexer,col_indexer] = value instead\n",
      "\n",
      "See the caveats in the documentation: https://pandas.pydata.org/pandas-docs/stable/user_guide/indexing.html#returning-a-view-versus-a-copy\n",
      "  df[\"SMILES\"] = df[\"SMILES\"].apply(str)\n"
     ]
    }
   ],
   "source": [
    "df[\"SMILES\"] = df[\"SMILES\"].apply(str)"
   ]
  },
  {
   "cell_type": "code",
   "execution_count": 14,
   "id": "606e398d-180c-4588-a38b-1032aea23c5b",
   "metadata": {
    "scrolled": true
   },
   "outputs": [
    {
     "name": "stderr",
     "output_type": "stream",
     "text": [
      "100%|███████████████████████████████████████████████████████████████████████████████████████████████████████████████████| 36013/36013 [00:00<00:00, 889551.89it/s]\n"
     ]
    },
    {
     "data": {
      "text/plain": [
       "['<bos>',\n",
       " '<eos>',\n",
       " '<pad>',\n",
       " '@',\n",
       " 'a',\n",
       " '-',\n",
       " '2',\n",
       " 'e',\n",
       " 'Z',\n",
       " ']',\n",
       " 'o',\n",
       " 'P',\n",
       " '7',\n",
       " '+',\n",
       " 'N',\n",
       " '8',\n",
       " '(',\n",
       " 'n',\n",
       " 'i',\n",
       " 'H',\n",
       " 'l',\n",
       " '9',\n",
       " 'c',\n",
       " 'F',\n",
       " 'I',\n",
       " '[',\n",
       " 'B',\n",
       " '1',\n",
       " '5',\n",
       " '#',\n",
       " 'S',\n",
       " '6',\n",
       " 's',\n",
       " '.',\n",
       " '3',\n",
       " 'r',\n",
       " '4',\n",
       " '\\\\',\n",
       " ')',\n",
       " 'C',\n",
       " '=',\n",
       " 'O',\n",
       " '/']"
      ]
     },
     "execution_count": 14,
     "metadata": {},
     "output_type": "execute_result"
    }
   ],
   "source": [
    "unique_characters = set()\n",
    "\n",
    "for el in tqdm(df[\"SMILES\"].tolist()):\n",
    "    unique_characters.update(set(el))\n",
    "\n",
    "unique_characters = list(unique_characters)\n",
    "unique_characters.insert(0, \"<bos>\")\n",
    "unique_characters.insert(1, \"<eos>\")\n",
    "unique_characters.insert(2, \"<pad>\")\n",
    "unique_characters"
   ]
  },
  {
   "cell_type": "code",
   "execution_count": 15,
   "id": "b155255e-a505-49da-b7e4-d506f62cd5fb",
   "metadata": {
    "scrolled": true
   },
   "outputs": [
    {
     "data": {
      "text/plain": [
       "({'<bos>': 0,\n",
       "  '<eos>': 1,\n",
       "  '<pad>': 2,\n",
       "  '@': 3,\n",
       "  'a': 4,\n",
       "  '-': 5,\n",
       "  '2': 6,\n",
       "  'e': 7,\n",
       "  'Z': 8,\n",
       "  ']': 9,\n",
       "  'o': 10,\n",
       "  'P': 11,\n",
       "  '7': 12,\n",
       "  '+': 13,\n",
       "  'N': 14,\n",
       "  '8': 15,\n",
       "  '(': 16,\n",
       "  'n': 17,\n",
       "  'i': 18,\n",
       "  'H': 19,\n",
       "  'l': 20,\n",
       "  '9': 21,\n",
       "  'c': 22,\n",
       "  'F': 23,\n",
       "  'I': 24,\n",
       "  '[': 25,\n",
       "  'B': 26,\n",
       "  '1': 27,\n",
       "  '5': 28,\n",
       "  '#': 29,\n",
       "  'S': 30,\n",
       "  '6': 31,\n",
       "  's': 32,\n",
       "  '.': 33,\n",
       "  '3': 34,\n",
       "  'r': 35,\n",
       "  '4': 36,\n",
       "  '\\\\': 37,\n",
       "  ')': 38,\n",
       "  'C': 39,\n",
       "  '=': 40,\n",
       "  'O': 41,\n",
       "  '/': 42},\n",
       " {0: '<bos>',\n",
       "  1: '<eos>',\n",
       "  2: '<pad>',\n",
       "  3: '@',\n",
       "  4: 'a',\n",
       "  5: '-',\n",
       "  6: '2',\n",
       "  7: 'e',\n",
       "  8: 'Z',\n",
       "  9: ']',\n",
       "  10: 'o',\n",
       "  11: 'P',\n",
       "  12: '7',\n",
       "  13: '+',\n",
       "  14: 'N',\n",
       "  15: '8',\n",
       "  16: '(',\n",
       "  17: 'n',\n",
       "  18: 'i',\n",
       "  19: 'H',\n",
       "  20: 'l',\n",
       "  21: '9',\n",
       "  22: 'c',\n",
       "  23: 'F',\n",
       "  24: 'I',\n",
       "  25: '[',\n",
       "  26: 'B',\n",
       "  27: '1',\n",
       "  28: '5',\n",
       "  29: '#',\n",
       "  30: 'S',\n",
       "  31: '6',\n",
       "  32: 's',\n",
       "  33: '.',\n",
       "  34: '3',\n",
       "  35: 'r',\n",
       "  36: '4',\n",
       "  37: '\\\\',\n",
       "  38: ')',\n",
       "  39: 'C',\n",
       "  40: '=',\n",
       "  41: 'O',\n",
       "  42: '/'})"
      ]
     },
     "execution_count": 15,
     "metadata": {},
     "output_type": "execute_result"
    }
   ],
   "source": [
    "vocab2id = dict()\n",
    "id2vocab = dict()\n",
    "\n",
    "for i in range(len(unique_characters)):\n",
    "    vocab2id[unique_characters[i]] = i\n",
    "    id2vocab[i] = unique_characters[i]\n",
    "\n",
    "vocab2id, id2vocab"
   ]
  },
  {
   "cell_type": "code",
   "execution_count": 38,
   "id": "3e25febc-f9d5-4a52-9e9e-d0898174726f",
   "metadata": {},
   "outputs": [
    {
     "data": {
      "text/plain": [
       "43"
      ]
     },
     "execution_count": 38,
     "metadata": {},
     "output_type": "execute_result"
    }
   ],
   "source": [
    "VOCAB_SIZE = len(vocab2id)\n",
    "VOCAB_SIZE"
   ]
  },
  {
   "cell_type": "code",
   "execution_count": 16,
   "id": "3907a1f6-77ae-4a29-adfd-c6263f1febf3",
   "metadata": {},
   "outputs": [
    {
     "data": {
      "text/plain": [
       "<seaborn.axisgrid.FacetGrid at 0x79bb80376620>"
      ]
     },
     "execution_count": 16,
     "metadata": {},
     "output_type": "execute_result"
    },
    {
     "data": {
      "image/png": "[encoded data removed]",
      "text/plain": [
       "<Figure size 500x500 with 1 Axes>"
      ]
     },
     "metadata": {},
     "output_type": "display_data"
    }
   ],
   "source": [
    "import seaborn as sns\n",
    "\n",
    "lens = df[\"SMILES\"].apply(len)\n",
    "\n",
    "sns.displot(lens)"
   ]
  },
  {
   "cell_type": "code",
   "execution_count": 31,
   "id": "871e436a-3e17-4f57-84e4-68b1d3b72bc7",
   "metadata": {},
   "outputs": [
    {
     "data": {
      "text/plain": [
       "283"
      ]
     },
     "execution_count": 31,
     "metadata": {},
     "output_type": "execute_result"
    }
   ],
   "source": [
    "MAX_LEN = max(lens) + 2\n",
    "MAX_LEN"
   ]
  },
  {
   "cell_type": "markdown",
   "id": "460a9046-1d2e-41ed-ba06-25345776a84a",
   "metadata": {},
   "source": [
    "## Clean"
   ]
  },
  {
   "cell_type": "code",
   "execution_count": 18,
   "id": "9217b3cd-24a3-4900-9382-fe3e42c1fe66",
   "metadata": {},
   "outputs": [
    {
     "data": {
      "image/jpeg": "[encoded data removed]",
      "image/png": "[encoded data removed]",
      "text/plain": [
       "<PIL.PngImagePlugin.PngImageFile image mode=RGB size=300x300>"
      ]
     },
     "execution_count": 18,
     "metadata": {},
     "output_type": "execute_result"
    }
   ],
   "source": [
    "from rdkit import Chem\n",
    "from rdkit.Chem import Draw\n",
    "\n",
    "m = Chem.MolFromSmiles(df[\"SMILES\"].tolist()[1])\n",
    "img = Draw.MolToImage(m)\n",
    "img"
   ]
  },
  {
   "cell_type": "code",
   "execution_count": 19,
   "id": "18c891e7-9ed5-42ea-827c-84e8f9b7b464",
   "metadata": {},
   "outputs": [],
   "source": [
    "smiles = df[\"SMILES\"].tolist()\n",
    "target = df[\"IC50\"].tolist()"
   ]
  },
  {
   "cell_type": "code",
   "execution_count": 32,
   "id": "ee42d3ca-a3f8-4822-a681-5624714c7260",
   "metadata": {},
   "outputs": [],
   "source": [
    "def preprocess_smiles(word):\n",
    "    chars = list(word)\n",
    "    \n",
    "    ids = [0] + [vocab2id[char] for char in chars] + [1]\n",
    "    \n",
    "    attn_mask = [0 for i in range(MAX_LEN - len(ids))] + [1 for i in range(len(ids))]\n",
    "    pads = [2] * (MAX_LEN - len(ids))\n",
    "    ids = pads + ids \n",
    "\n",
    "    return torch.LongTensor(ids).unsqueeze(0), torch.LongTensor(attn_mask).unsqueeze(0)\n",
    "    "
   ]
  },
  {
   "cell_type": "code",
   "execution_count": 33,
   "id": "46dea43e-cba5-468f-9181-6f4ffde98cd4",
   "metadata": {},
   "outputs": [
    {
     "data": {
      "text/plain": [
       "(tensor([[ 2,  2,  2,  2,  2,  2,  2,  2,  2,  2,  2,  2,  2,  2,  2,  2,  2,  2,\n",
       "           2,  2,  2,  2,  2,  2,  2,  2,  2,  2,  2,  2,  2,  2,  2,  2,  2,  2,\n",
       "           2,  2,  2,  2,  2,  2,  2,  2,  2,  2,  2,  2,  2,  2,  2,  2,  2,  2,\n",
       "           2,  2,  2,  2,  2,  2,  2,  2,  2,  2,  2,  2,  2,  2,  2,  2,  2,  2,\n",
       "           2,  2,  2,  2,  2,  2,  2,  2,  2,  2,  2,  2,  2,  2,  2,  2,  2,  2,\n",
       "           2,  2,  2,  2,  2,  2,  2,  2,  2,  2,  2,  2,  2,  2,  2,  2,  2,  2,\n",
       "           2,  2,  2,  2,  2,  2,  2,  2,  2,  2,  2,  2,  2,  2,  2,  2,  2,  2,\n",
       "           2,  2,  2,  2,  2,  2,  2,  2,  2,  2,  2,  2,  2,  2,  2,  2,  2,  2,\n",
       "           2,  2,  2,  2,  2,  2,  2,  2,  2,  2,  2,  2,  2,  2,  2,  2,  2,  2,\n",
       "           2,  2,  2,  2,  2,  2,  2,  2,  2,  2,  2,  2,  2,  2,  2,  2,  2,  2,\n",
       "           2,  2,  2,  2,  2,  2,  2,  2,  2,  2,  2,  2,  2,  2,  2,  2,  2,  2,\n",
       "           2,  2,  2,  2,  2,  2,  2,  2,  2,  2,  2,  2,  2,  2,  2,  2,  2,  0,\n",
       "          25, 19,  9, 37, 14, 40, 39, 16, 14, 38, 37, 14, 25, 39,  3,  3, 19,  9,\n",
       "          16, 39, 27, 38, 25, 39,  3,  3, 19,  9, 16, 14, 39, 16, 40, 41, 38, 39,\n",
       "          38, 25, 39,  3,  3, 19,  9, 16, 39, 40, 39, 27, 11, 16, 40, 41, 38, 16,\n",
       "          41, 38, 41, 38, 41, 39, 16, 39, 39, 38, 39, 39,  1]]),\n",
       " tensor([[0, 0, 0, 0, 0, 0, 0, 0, 0, 0, 0, 0, 0, 0, 0, 0, 0, 0, 0, 0, 0, 0, 0, 0,\n",
       "          0, 0, 0, 0, 0, 0, 0, 0, 0, 0, 0, 0, 0, 0, 0, 0, 0, 0, 0, 0, 0, 0, 0, 0,\n",
       "          0, 0, 0, 0, 0, 0, 0, 0, 0, 0, 0, 0, 0, 0, 0, 0, 0, 0, 0, 0, 0, 0, 0, 0,\n",
       "          0, 0, 0, 0, 0, 0, 0, 0, 0, 0, 0, 0, 0, 0, 0, 0, 0, 0, 0, 0, 0, 0, 0, 0,\n",
       "          0, 0, 0, 0, 0, 0, 0, 0, 0, 0, 0, 0, 0, 0, 0, 0, 0, 0, 0, 0, 0, 0, 0, 0,\n",
       "          0, 0, 0, 0, 0, 0, 0, 0, 0, 0, 0, 0, 0, 0, 0, 0, 0, 0, 0, 0, 0, 0, 0, 0,\n",
       "          0, 0, 0, 0, 0, 0, 0, 0, 0, 0, 0, 0, 0, 0, 0, 0, 0, 0, 0, 0, 0, 0, 0, 0,\n",
       "          0, 0, 0, 0, 0, 0, 0, 0, 0, 0, 0, 0, 0, 0, 0, 0, 0, 0, 0, 0, 0, 0, 0, 0,\n",
       "          0, 0, 0, 0, 0, 0, 0, 0, 0, 0, 0, 0, 0, 0, 0, 0, 0, 0, 0, 0, 0, 0, 0, 1,\n",
       "          1, 1, 1, 1, 1, 1, 1, 1, 1, 1, 1, 1, 1, 1, 1, 1, 1, 1, 1, 1, 1, 1, 1, 1,\n",
       "          1, 1, 1, 1, 1, 1, 1, 1, 1, 1, 1, 1, 1, 1, 1, 1, 1, 1, 1, 1, 1, 1, 1, 1,\n",
       "          1, 1, 1, 1, 1, 1, 1, 1, 1, 1, 1, 1, 1, 1, 1, 1, 1, 1, 1]]))"
      ]
     },
     "execution_count": 33,
     "metadata": {},
     "output_type": "execute_result"
    }
   ],
   "source": [
    "preprocess_smiles(smiles[0])"
   ]
  },
  {
   "cell_type": "code",
   "execution_count": 34,
   "id": "4fdafb04-d18b-4629-b0c5-a725b5105ed6",
   "metadata": {},
   "outputs": [],
   "source": [
    "all_input_ids = []\n",
    "all_attention_masks = []\n",
    "\n",
    "for i in range(len(smiles)):\n",
    "    input_ids, attn_mask = preprocess_smiles(smiles[0])\n",
    "    all_input_ids.append(input_ids)\n",
    "    all_attention_masks.append(attn_mask)"
   ]
  },
  {
   "cell_type": "code",
   "execution_count": 35,
   "id": "bcda0e20-d6ad-4e40-8746-281d7c4c8887",
   "metadata": {},
   "outputs": [],
   "source": [
    "tensor_input_ids = torch.cat(all_input_ids, dim=0) \n",
    "tensor_attention_masks = torch.cat(all_attention_masks, dim=0) \n",
    "\n",
    "dataset = torch.utils.data.TensorDataset(tensor_input_ids, tensor_attention_masks, torch.tensor(target))"
   ]
  },
  {
   "cell_type": "code",
   "execution_count": 36,
   "id": "ffd2ada7-9338-4c18-84c6-7b52e62f8ae0",
   "metadata": {
    "scrolled": true
   },
   "outputs": [
    {
     "data": {
      "text/plain": [
       "array([ 7966, 34158, 35159, ..., 34202, 10226, 25150])"
      ]
     },
     "execution_count": 36,
     "metadata": {},
     "output_type": "execute_result"
    }
   ],
   "source": [
    "train_inds, test_inds = train_test_split(np.arange(df.shape[0]))\n",
    "train_inds"
   ]
  },
  {
   "cell_type": "code",
   "execution_count": 37,
   "id": "98d8897b-6df0-427b-a694-ffa31df8d674",
   "metadata": {},
   "outputs": [],
   "source": [
    "train_loader = DataLoader(\n",
    "    Subset(dataset, train_inds),\n",
    "    shuffle=True,\n",
    "    batch_size=config.batch_size\n",
    ")\n",
    "\n",
    "eval_loader = DataLoader(\n",
    "    Subset(dataset, test_inds),\n",
    "    shuffle=True,\n",
    "    batch_size=config.batch_size\n",
    ")"
   ]
  },
  {
   "cell_type": "code",
   "execution_count": 58,
   "id": "7bd08aec-9cd3-4b23-b6ae-21826313db11",
   "metadata": {},
   "outputs": [
    {
     "data": {
      "text/plain": [
       "SMILESLSTM(\n",
       "  (embedding): Embedding(43, 128)\n",
       "  (lstm): LSTM(128, 128, num_layers=3, batch_first=True)\n",
       "  (out): Linear(in_features=128, out_features=1, bias=True)\n",
       "  (gelu): GELU(approximate='none')\n",
       ")"
      ]
     },
     "execution_count": 58,
     "metadata": {},
     "output_type": "execute_result"
    }
   ],
   "source": [
    "from torch import nn\n",
    "\n",
    "class SMILESLSTM(nn.Module):\n",
    "    def __init__(self, embedding_dim, num_layers, bidirectional = True):\n",
    "        super().__init__()\n",
    "        self.embedding = nn.Embedding(VOCAB_SIZE, embedding_dim)\n",
    "        self.lstm = nn.LSTM(\n",
    "            input_size=embedding_dim,\n",
    "            hidden_size=embedding_dim,\n",
    "            num_layers=num_layers,\n",
    "            batch_first=True,\n",
    "            bidirectional=bidirectional,\n",
    "        )\n",
    "        self.out = nn.Linear(embedding_dim * (1 + bidirectional), 1)\n",
    "        self.gelu = nn.GELU()\n",
    "        \n",
    "    def forward(self, input_ids, attention_masks):\n",
    "        x = self.embedding(input_ids) # cfm multiply by attn mask??))?)??)?\n",
    "        B, T, E = x.shape\n",
    "\n",
    "        x = x * attention_masks.unsqueeze(dim=-1)\n",
    "        x, (h, c) = self.lstm(x)\n",
    "        \n",
    "        x = self.out(x[:, T - 1])\n",
    "        \n",
    "        return x\n",
    "\n",
    "\n",
    "model = SMILESLSTM(embedding_dim=128, num_layers=3, bidirectional=False)\n",
    "model"
   ]
  },
  {
   "cell_type": "code",
   "execution_count": 59,
   "id": "d496812c-9b82-491c-91d3-204d89ab5acb",
   "metadata": {},
   "outputs": [],
   "source": [
    "optimizer = AdamW(model.parameters(), lr=config.learning_rate)\n",
    "\n",
    "scheduler = get_cosine_schedule_with_warmup(\n",
    "    optimizer=optimizer,\n",
    "    num_warmup_steps=config.lr_warmup_steps,\n",
    "    num_training_steps=(len(train_loader) * config.epochs),\n",
    ")\n",
    "\n",
    "loss_function = torch.nn.L1Loss()"
   ]
  },
  {
   "cell_type": "markdown",
   "id": "a1925f62-5f17-4f91-b3a4-aca03161d86c",
   "metadata": {},
   "source": [
    "# Let's Train"
   ]
  },
  {
   "cell_type": "code",
   "execution_count": 60,
   "id": "5e927538-9813-4dc1-9d13-8e5896095350",
   "metadata": {},
   "outputs": [],
   "source": [
    "def train_epoch(model, loader, loss_function, optimizer, scheduler, device):\n",
    "    model.train()\n",
    "    model.to(device)\n",
    "    loss_function.to(device)\n",
    "    \n",
    "    preds = []\n",
    "    targets = []\n",
    "    total_loss = 0.\n",
    "    \n",
    "    for batch in tqdm(loader):\n",
    "        input_ids, attention_masks, y = batch\n",
    "        input_ids, attention_masks, y = input_ids.to(device), attention_masks.to(device), y.to(device)\n",
    "        output = model(input_ids, attention_masks)\n",
    "        \n",
    "        loss = loss_function(output.flatten(),y.flatten())\n",
    "        \n",
    "        total_loss += loss.item()\n",
    "        \n",
    "        loss.backward()\n",
    "        torch.nn.utils.clip_grad_norm_(model.parameters(), 1.0)\n",
    "        optimizer.step()\n",
    "        scheduler.step()\n",
    "        optimizer.zero_grad()\n",
    "\n",
    "        preds.append(output.flatten())\n",
    "        targets.append(y.flatten())\n",
    "    \n",
    "    preds = torch.cat(preds, dim=0).sigmoid().detach().cpu()\n",
    "    targets = torch.cat(targets, dim=0).detach().cpu()\n",
    "    mae = loss_function(targets, preds).item()\n",
    "\n",
    "    return {\"TRAIN Loss\": {total_loss / len(loader)}, \"MAE\": {mae}, \"R2\": r2_score(targets.numpy(), preds.numpy())}\n",
    "        \n",
    "        \n",
    "def eval_epoch(model, loader, loss_function, device):\n",
    "    model.eval()\n",
    "    model.to(device)\n",
    "    loss_function.to(device)\n",
    "    \n",
    "    preds = []\n",
    "    targets = []\n",
    "    total_loss = 0.\n",
    "    \n",
    "    for batch in tqdm(loader):\n",
    "        input_ids, attention_masks, y = batch\n",
    "        input_ids, attention_masks, y = input_ids.to(device), attention_masks.to(device), y.to(device)\n",
    "        \n",
    "        with torch.no_grad():\n",
    "            output = model(input_ids, attention_masks)\n",
    "        \n",
    "        loss = loss_function(output.flatten(),y.flatten())\n",
    "        \n",
    "        total_loss += loss.item()\n",
    "        \n",
    "        preds.append(output.flatten())\n",
    "        targets.append(y.flatten())\n",
    "    \n",
    "    preds = torch.cat(preds, dim=0).sigmoid().detach().cpu()\n",
    "    targets = torch.cat(targets, dim=0).detach().cpu()\n",
    "    mae = loss_function(targets, preds).item()\n",
    "\n",
    "    return {\"EVAL Loss\": {total_loss / len(loader)}, \"MAE\": {mae}, \"R2\": r2_score(targets.numpy(), preds.numpy())}"
   ]
  },
  {
   "cell_type": "code",
   "execution_count": 61,
   "id": "567a2647-3aa4-44ad-bb5d-d5041c725608",
   "metadata": {},
   "outputs": [
    {
     "name": "stderr",
     "output_type": "stream",
     "text": [
      "  0%|                                                                                                                                      | 0/14 [00:00<?, ?it/s]\n"
     ]
    },
    {
     "ename": "OutOfMemoryError",
     "evalue": "CUDA out of memory. Tried to allocate 5.54 GiB. GPU ",
     "output_type": "error",
     "traceback": [
      "\u001b[0;31m---------------------------------------------------------------------------\u001b[0m",
      "\u001b[0;31mOutOfMemoryError\u001b[0m                          Traceback (most recent call last)",
      "Cell \u001b[0;32mIn[61], line 4\u001b[0m\n\u001b[1;32m      1\u001b[0m train_logs, eval_logs \u001b[38;5;241m=\u001b[39m [], []\n\u001b[1;32m      3\u001b[0m \u001b[38;5;28;01mfor\u001b[39;00m i \u001b[38;5;129;01min\u001b[39;00m \u001b[38;5;28mrange\u001b[39m(config\u001b[38;5;241m.\u001b[39mepochs):\n\u001b[0;32m----> 4\u001b[0m     train_log \u001b[38;5;241m=\u001b[39m \u001b[43mtrain_epoch\u001b[49m\u001b[43m(\u001b[49m\n\u001b[1;32m      5\u001b[0m \u001b[43m        \u001b[49m\u001b[43mmodel\u001b[49m\u001b[38;5;241;43m=\u001b[39;49m\u001b[43mmodel\u001b[49m\u001b[43m,\u001b[49m\u001b[43m \u001b[49m\n\u001b[1;32m      6\u001b[0m \u001b[43m        \u001b[49m\u001b[43mloader\u001b[49m\u001b[38;5;241;43m=\u001b[39;49m\u001b[43mtrain_loader\u001b[49m\u001b[43m,\u001b[49m\u001b[43m \u001b[49m\n\u001b[1;32m      7\u001b[0m \u001b[43m        \u001b[49m\u001b[43mloss_function\u001b[49m\u001b[38;5;241;43m=\u001b[39;49m\u001b[43mloss_function\u001b[49m\u001b[43m,\u001b[49m\u001b[43m \u001b[49m\n\u001b[1;32m      8\u001b[0m \u001b[43m        \u001b[49m\u001b[43moptimizer\u001b[49m\u001b[38;5;241;43m=\u001b[39;49m\u001b[43moptimizer\u001b[49m\u001b[43m,\u001b[49m\n\u001b[1;32m      9\u001b[0m \u001b[43m        \u001b[49m\u001b[43mscheduler\u001b[49m\u001b[38;5;241;43m=\u001b[39;49m\u001b[43mscheduler\u001b[49m\u001b[43m,\u001b[49m\n\u001b[1;32m     10\u001b[0m \u001b[43m        \u001b[49m\u001b[43mdevice\u001b[49m\u001b[38;5;241;43m=\u001b[39;49m\u001b[43mconfig\u001b[49m\u001b[38;5;241;43m.\u001b[39;49m\u001b[43mdevice\u001b[49m\n\u001b[1;32m     11\u001b[0m \u001b[43m    \u001b[49m\u001b[43m)\u001b[49m\n\u001b[1;32m     13\u001b[0m     eval_log \u001b[38;5;241m=\u001b[39m eval_epoch(\n\u001b[1;32m     14\u001b[0m         model\u001b[38;5;241m=\u001b[39mmodel, \n\u001b[1;32m     15\u001b[0m         loader\u001b[38;5;241m=\u001b[39meval_loader, \n\u001b[1;32m     16\u001b[0m         loss_function\u001b[38;5;241m=\u001b[39mloss_function, \n\u001b[1;32m     17\u001b[0m         device\u001b[38;5;241m=\u001b[39mconfig\u001b[38;5;241m.\u001b[39mdevice\n\u001b[1;32m     18\u001b[0m     )\n\u001b[1;32m     20\u001b[0m     \u001b[38;5;28mprint\u001b[39m(train_log, eval_log)\n",
      "Cell \u001b[0;32mIn[60], line 19\u001b[0m, in \u001b[0;36mtrain_epoch\u001b[0;34m(model, loader, loss_function, optimizer, scheduler, device)\u001b[0m\n\u001b[1;32m     15\u001b[0m loss \u001b[38;5;241m=\u001b[39m loss_function(output\u001b[38;5;241m.\u001b[39mflatten(),y\u001b[38;5;241m.\u001b[39mflatten())\n\u001b[1;32m     17\u001b[0m total_loss \u001b[38;5;241m+\u001b[39m\u001b[38;5;241m=\u001b[39m loss\u001b[38;5;241m.\u001b[39mitem()\n\u001b[0;32m---> 19\u001b[0m \u001b[43mloss\u001b[49m\u001b[38;5;241;43m.\u001b[39;49m\u001b[43mbackward\u001b[49m\u001b[43m(\u001b[49m\u001b[43m)\u001b[49m\n\u001b[1;32m     20\u001b[0m torch\u001b[38;5;241m.\u001b[39mnn\u001b[38;5;241m.\u001b[39mutils\u001b[38;5;241m.\u001b[39mclip_grad_norm_(model\u001b[38;5;241m.\u001b[39mparameters(), \u001b[38;5;241m1.0\u001b[39m)\n\u001b[1;32m     21\u001b[0m optimizer\u001b[38;5;241m.\u001b[39mstep()\n",
      "File \u001b[0;32m~/PycharmProjects/misis-ai-course-final-project-2023/.venv/lib/python3.10/site-packages/torch/_tensor.py:525\u001b[0m, in \u001b[0;36mTensor.backward\u001b[0;34m(self, gradient, retain_graph, create_graph, inputs)\u001b[0m\n\u001b[1;32m    515\u001b[0m \u001b[38;5;28;01mif\u001b[39;00m has_torch_function_unary(\u001b[38;5;28mself\u001b[39m):\n\u001b[1;32m    516\u001b[0m     \u001b[38;5;28;01mreturn\u001b[39;00m handle_torch_function(\n\u001b[1;32m    517\u001b[0m         Tensor\u001b[38;5;241m.\u001b[39mbackward,\n\u001b[1;32m    518\u001b[0m         (\u001b[38;5;28mself\u001b[39m,),\n\u001b[0;32m   (...)\u001b[0m\n\u001b[1;32m    523\u001b[0m         inputs\u001b[38;5;241m=\u001b[39minputs,\n\u001b[1;32m    524\u001b[0m     )\n\u001b[0;32m--> 525\u001b[0m \u001b[43mtorch\u001b[49m\u001b[38;5;241;43m.\u001b[39;49m\u001b[43mautograd\u001b[49m\u001b[38;5;241;43m.\u001b[39;49m\u001b[43mbackward\u001b[49m\u001b[43m(\u001b[49m\n\u001b[1;32m    526\u001b[0m \u001b[43m    \u001b[49m\u001b[38;5;28;43mself\u001b[39;49m\u001b[43m,\u001b[49m\u001b[43m \u001b[49m\u001b[43mgradient\u001b[49m\u001b[43m,\u001b[49m\u001b[43m \u001b[49m\u001b[43mretain_graph\u001b[49m\u001b[43m,\u001b[49m\u001b[43m \u001b[49m\u001b[43mcreate_graph\u001b[49m\u001b[43m,\u001b[49m\u001b[43m \u001b[49m\u001b[43minputs\u001b[49m\u001b[38;5;241;43m=\u001b[39;49m\u001b[43minputs\u001b[49m\n\u001b[1;32m    527\u001b[0m \u001b[43m\u001b[49m\u001b[43m)\u001b[49m\n",
      "File \u001b[0;32m~/PycharmProjects/misis-ai-course-final-project-2023/.venv/lib/python3.10/site-packages/torch/autograd/__init__.py:267\u001b[0m, in \u001b[0;36mbackward\u001b[0;34m(tensors, grad_tensors, retain_graph, create_graph, grad_variables, inputs)\u001b[0m\n\u001b[1;32m    262\u001b[0m     retain_graph \u001b[38;5;241m=\u001b[39m create_graph\n\u001b[1;32m    264\u001b[0m \u001b[38;5;66;03m# The reason we repeat the same comment below is that\u001b[39;00m\n\u001b[1;32m    265\u001b[0m \u001b[38;5;66;03m# some Python versions print out the first line of a multi-line function\u001b[39;00m\n\u001b[1;32m    266\u001b[0m \u001b[38;5;66;03m# calls in the traceback and some print out the last line\u001b[39;00m\n\u001b[0;32m--> 267\u001b[0m \u001b[43m_engine_run_backward\u001b[49m\u001b[43m(\u001b[49m\n\u001b[1;32m    268\u001b[0m \u001b[43m    \u001b[49m\u001b[43mtensors\u001b[49m\u001b[43m,\u001b[49m\n\u001b[1;32m    269\u001b[0m \u001b[43m    \u001b[49m\u001b[43mgrad_tensors_\u001b[49m\u001b[43m,\u001b[49m\n\u001b[1;32m    270\u001b[0m \u001b[43m    \u001b[49m\u001b[43mretain_graph\u001b[49m\u001b[43m,\u001b[49m\n\u001b[1;32m    271\u001b[0m \u001b[43m    \u001b[49m\u001b[43mcreate_graph\u001b[49m\u001b[43m,\u001b[49m\n\u001b[1;32m    272\u001b[0m \u001b[43m    \u001b[49m\u001b[43minputs\u001b[49m\u001b[43m,\u001b[49m\n\u001b[1;32m    273\u001b[0m \u001b[43m    \u001b[49m\u001b[43mallow_unreachable\u001b[49m\u001b[38;5;241;43m=\u001b[39;49m\u001b[38;5;28;43;01mTrue\u001b[39;49;00m\u001b[43m,\u001b[49m\n\u001b[1;32m    274\u001b[0m \u001b[43m    \u001b[49m\u001b[43maccumulate_grad\u001b[49m\u001b[38;5;241;43m=\u001b[39;49m\u001b[38;5;28;43;01mTrue\u001b[39;49;00m\u001b[43m,\u001b[49m\n\u001b[1;32m    275\u001b[0m \u001b[43m\u001b[49m\u001b[43m)\u001b[49m\n",
      "File \u001b[0;32m~/PycharmProjects/misis-ai-course-final-project-2023/.venv/lib/python3.10/site-packages/torch/autograd/graph.py:744\u001b[0m, in \u001b[0;36m_engine_run_backward\u001b[0;34m(t_outputs, *args, **kwargs)\u001b[0m\n\u001b[1;32m    742\u001b[0m     unregister_hooks \u001b[38;5;241m=\u001b[39m _register_logging_hooks_on_whole_graph(t_outputs)\n\u001b[1;32m    743\u001b[0m \u001b[38;5;28;01mtry\u001b[39;00m:\n\u001b[0;32m--> 744\u001b[0m     \u001b[38;5;28;01mreturn\u001b[39;00m \u001b[43mVariable\u001b[49m\u001b[38;5;241;43m.\u001b[39;49m\u001b[43m_execution_engine\u001b[49m\u001b[38;5;241;43m.\u001b[39;49m\u001b[43mrun_backward\u001b[49m\u001b[43m(\u001b[49m\u001b[43m  \u001b[49m\u001b[38;5;66;43;03m# Calls into the C++ engine to run the backward pass\u001b[39;49;00m\n\u001b[1;32m    745\u001b[0m \u001b[43m        \u001b[49m\u001b[43mt_outputs\u001b[49m\u001b[43m,\u001b[49m\u001b[43m \u001b[49m\u001b[38;5;241;43m*\u001b[39;49m\u001b[43margs\u001b[49m\u001b[43m,\u001b[49m\u001b[43m \u001b[49m\u001b[38;5;241;43m*\u001b[39;49m\u001b[38;5;241;43m*\u001b[39;49m\u001b[43mkwargs\u001b[49m\n\u001b[1;32m    746\u001b[0m \u001b[43m    \u001b[49m\u001b[43m)\u001b[49m  \u001b[38;5;66;03m# Calls into the C++ engine to run the backward pass\u001b[39;00m\n\u001b[1;32m    747\u001b[0m \u001b[38;5;28;01mfinally\u001b[39;00m:\n\u001b[1;32m    748\u001b[0m     \u001b[38;5;28;01mif\u001b[39;00m attach_logging_hooks:\n",
      "\u001b[0;31mOutOfMemoryError\u001b[0m: CUDA out of memory. Tried to allocate 5.54 GiB. GPU "
     ]
    }
   ],
   "source": [
    "train_logs, eval_logs = [], []\n",
    "\n",
    "for i in range(config.epochs):\n",
    "    train_log = train_epoch(\n",
    "        model=model, \n",
    "        loader=train_loader, \n",
    "        loss_function=loss_function, \n",
    "        optimizer=optimizer,\n",
    "        scheduler=scheduler,\n",
    "        device=config.device\n",
    "    )\n",
    "    \n",
    "    eval_log = eval_epoch(\n",
    "        model=model, \n",
    "        loader=eval_loader, \n",
    "        loss_function=loss_function, \n",
    "        device=config.device\n",
    "    )\n",
    "\n",
    "    print(train_log, eval_log)\n",
    "    \n",
    "    train_logs.append(train_log)\n",
    "    eval_logs.append(eval_log)"
   ]
  },
  {
   "cell_type": "code",
   "execution_count": null,
   "id": "79a63b25-936b-4517-9c1e-33571353d8d4",
   "metadata": {},
   "outputs": [],
   "source": []
  }
 ],
 "metadata": {
  "kernelspec": {
   "display_name": "Python 3 (ipykernel)",
   "language": "python",
   "name": "python3"
  },
  "language_info": {
   "codemirror_mode": {
    "name": "ipython",
    "version": 3
   },
   "file_extension": ".py",
   "mimetype": "text/x-python",
   "name": "python",
   "nbconvert_exporter": "python",
   "pygments_lexer": "ipython3",
   "version": "3.10.12"
  }
 },
 "nbformat": 4,
 "nbformat_minor": 5
}
