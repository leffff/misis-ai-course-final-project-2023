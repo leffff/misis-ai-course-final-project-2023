{
 "cells": [
  {
   "cell_type": "code",
   "execution_count": null,
   "metadata": {
    "colab": {
     "base_uri": "https://localhost:8080/"
    },
    "id": "rvcP-Q5teMPH",
    "outputId": "0b73e4c6-2367-414a-9871-9c0b4f0cdffc",
    "tags": []
   },
   "outputs": [
    {
     "name": "stdout",
     "output_type": "stream",
     "text": [
      "Collecting rdkit\n",
      "  Using cached rdkit-2023.9.6-cp310-cp310-win_amd64.whl (21.0 MB)\n",
      "Requirement already satisfied: numpy in c:\\users\\fedor\\appdata\\local\\programs\\python\\python310\\lib\\site-packages (from rdkit) (1.24.3)\n",
      "Requirement already satisfied: Pillow in c:\\users\\fedor\\appdata\\local\\programs\\python\\python310\\lib\\site-packages (from rdkit) (9.5.0)\n",
      "Installing collected packages: rdkit\n",
      "Successfully installed rdkit-2023.9.6\n"
     ]
    },
    {
     "name": "stderr",
     "output_type": "stream",
     "text": [
      "\n",
      "[notice] A new release of pip is available: 23.1.2 -> 24.0\n",
      "[notice] To update, run: python.exe -m pip install --upgrade pip\n"
     ]
    }
   ],
   "source": [
    "!pip install rdkit"
   ]
  },
  {
   "cell_type": "code",
   "execution_count": 2,
   "metadata": {
    "id": "yBu1CbXdd38n",
    "tags": []
   },
   "outputs": [],
   "source": [
    "import pandas as pd\n",
    "import numpy as np\n",
    "from rdkit import Chem\n",
    "from rdkit import DataStructs\n",
    "from rdkit.Chem import AllChem, Draw, Descriptors\n",
    "from rdkit.Chem.Draw import IPythonConsole\n",
    "from sklearn.preprocessing import FunctionTransformer"
   ]
  },
  {
   "cell_type": "code",
   "execution_count": 2,
   "metadata": {
    "colab": {
     "base_uri": "https://localhost:8080/",
     "height": 310
    },
    "id": "yORSLvYlc6vH",
    "outputId": "30558329-3117-4b11-d0d7-6d059e9eab4d",
    "tags": []
   },
   "outputs": [
    {
     "data": {
      "text/html": [
       "<div>\n",
       "<style scoped>\n",
       "    .dataframe tbody tr th:only-of-type {\n",
       "        vertical-align: middle;\n",
       "    }\n",
       "\n",
       "    .dataframe tbody tr th {\n",
       "        vertical-align: top;\n",
       "    }\n",
       "\n",
       "    .dataframe thead th {\n",
       "        text-align: right;\n",
       "    }\n",
       "</style>\n",
       "<table border=\"1\" class=\"dataframe\">\n",
       "  <thead>\n",
       "    <tr style=\"text-align: right;\">\n",
       "      <th></th>\n",
       "      <th>Title</th>\n",
       "      <th>IC50</th>\n",
       "      <th>SMILES</th>\n",
       "    </tr>\n",
       "  </thead>\n",
       "  <tbody>\n",
       "    <tr>\n",
       "      <th>0</th>\n",
       "      <td>CHEMBL2206459</td>\n",
       "      <td>0.000015</td>\n",
       "      <td>[H]\\N=C(N)\\N[C@@H](C1)[C@@H](NC(=O)C)[C@@H](C=...</td>\n",
       "    </tr>\n",
       "    <tr>\n",
       "      <th>1</th>\n",
       "      <td>CHEMBL3818159</td>\n",
       "      <td>0.000016</td>\n",
       "      <td>O=C(O)C1=C[C@H](N)[C@@H](NC(=O)C)[C@@H](C1)COC...</td>\n",
       "    </tr>\n",
       "    <tr>\n",
       "      <th>2</th>\n",
       "      <td>CHEMBL1956716</td>\n",
       "      <td>0.000033</td>\n",
       "      <td>C=CC(=O)N[C@H]([C@H](C1)N)[C@@H](C=C1C([O-])=O...</td>\n",
       "    </tr>\n",
       "    <tr>\n",
       "      <th>3</th>\n",
       "      <td>CHEMBL1956715</td>\n",
       "      <td>0.000032</td>\n",
       "      <td>CC(=O)N[C@H]([C@H](C1)N)[C@@H](C=C1C([O-])=O)O...</td>\n",
       "    </tr>\n",
       "    <tr>\n",
       "      <th>4</th>\n",
       "      <td>CHEMBL4444029</td>\n",
       "      <td>0.000041</td>\n",
       "      <td>O=C(O)c1c(O)c(=O)cc([nH]1)-c(c2C)ccc(c2)-c3noc...</td>\n",
       "    </tr>\n",
       "  </tbody>\n",
       "</table>\n",
       "</div>"
      ],
      "text/plain": [
       "           Title      IC50                                             SMILES\n",
       "0  CHEMBL2206459  0.000015  [H]\\N=C(N)\\N[C@@H](C1)[C@@H](NC(=O)C)[C@@H](C=...\n",
       "1  CHEMBL3818159  0.000016  O=C(O)C1=C[C@H](N)[C@@H](NC(=O)C)[C@@H](C1)COC...\n",
       "2  CHEMBL1956716  0.000033  C=CC(=O)N[C@H]([C@H](C1)N)[C@@H](C=C1C([O-])=O...\n",
       "3  CHEMBL1956715  0.000032  CC(=O)N[C@H]([C@H](C1)N)[C@@H](C=C1C([O-])=O)O...\n",
       "4  CHEMBL4444029  0.000041  O=C(O)c1c(O)c(=O)cc([nH]1)-c(c2C)ccc(c2)-c3noc..."
      ]
     },
     "execution_count": 2,
     "metadata": {},
     "output_type": "execute_result"
    }
   ],
   "source": [
    "data = pd.read_excel('data/19_35000.xlsx', index_col=0).reset_index(drop=True)\n",
    "data.head()"
   ]
  },
  {
   "cell_type": "code",
   "execution_count": 3,
   "metadata": {
    "colab": {
     "base_uri": "https://localhost:8080/"
    },
    "id": "jHieH-GWabba",
    "outputId": "71927417-0557-415e-beba-17b2b2724bd5",
    "tags": []
   },
   "outputs": [
    {
     "data": {
      "text/plain": [
       "Index(['Title', 'IC50', 'SMILES'], dtype='object')"
      ]
     },
     "execution_count": 3,
     "metadata": {},
     "output_type": "execute_result"
    }
   ],
   "source": [
    "data.columns"
   ]
  },
  {
   "cell_type": "code",
   "execution_count": 4,
   "metadata": {
    "tags": []
   },
   "outputs": [
    {
     "data": {
      "text/plain": [
       "(36377, 3)"
      ]
     },
     "execution_count": 4,
     "metadata": {},
     "output_type": "execute_result"
    }
   ],
   "source": [
    "data.shape"
   ]
  },
  {
   "cell_type": "code",
   "execution_count": 5,
   "metadata": {
    "id": "lwDVmlb6aYFc",
    "tags": []
   },
   "outputs": [],
   "source": [
    "data = data[['Title','SMILES', 'IC50']]"
   ]
  },
  {
   "cell_type": "code",
   "execution_count": 6,
   "metadata": {
    "tags": []
   },
   "outputs": [],
   "source": [
    "import multiprocessing as mp"
   ]
  },
  {
   "cell_type": "code",
   "execution_count": 7,
   "metadata": {
    "tags": []
   },
   "outputs": [],
   "source": [
    "from tqdm.auto import tqdm"
   ]
  },
  {
   "cell_type": "code",
   "execution_count": null,
   "metadata": {
    "colab": {
     "base_uri": "https://localhost:8080/",
     "height": 226
    },
    "id": "iKWyvk4keGN3",
    "outputId": "6de52f76-4689-4827-bcad-25985b2acc69",
    "tags": []
   },
   "outputs": [],
   "source": [
    "def mol_dsc_calc(mols):\n",
    "    return pd.DataFrame({k: f(Chem.MolFromSmiles(m)) for k, f in descriptors.items()} for m in mols)\n",
    "\n",
    "# список конституционных и физико-химических дескрипторов из библиотеки RDKit\n",
    "descriptors = {\"HeavyAtomCount\": Descriptors.HeavyAtomCount,\n",
    "               \"NHOHCount\": Descriptors.NHOHCount,\n",
    "               \"NOCount\": Descriptors.NOCount,\n",
    "               \"NumHAcceptors\": Descriptors.NumHAcceptors,\n",
    "               \"NumHDonors\": Descriptors.NumHDonors,\n",
    "               \"NumHeteroatoms\": Descriptors.NumHeteroatoms,\n",
    "               \"NumRotatableBonds\": Descriptors.NumRotatableBonds,\n",
    "               \"NumValenceElectrons\": Descriptors.NumValenceElectrons,\n",
    "               \"NumAromaticRings\": Descriptors.NumAromaticRings,\n",
    "               \"NumAliphaticHeterocycles\": Descriptors.NumAliphaticHeterocycles,\n",
    "               \"RingCount\": Descriptors.RingCount,\n",
    "               \"MW\": Descriptors.MolWt,\n",
    "               \"LogP\": Descriptors.MolLogP,\n",
    "               \"MR\": Descriptors.MolMR,\n",
    "               \"TPSA\": Descriptors.TPSA}\n",
    "\n",
    "# sklearn трансформер для использования в конвейерном моделировании\n",
    "descriptors_transformer = FunctionTransformer(mol_dsc_calc)\n",
    "X = descriptors_transformer.transform(data['SMILES'])\n",
    "X.head()\n",
    "\n",
    "data_dsc = data.join(X)\n",
    "data_dsc.to_excel('data_dsc.xlsx')\n",
    "data_dsc.head()\n"
   ]
  },
  {
   "cell_type": "code",
   "execution_count": 3,
   "metadata": {
    "tags": []
   },
   "outputs": [],
   "source": [
    "data_dsc = pd.read_excel('data_dsc.xlsx', index_col=0)"
   ]
  },
  {
   "cell_type": "code",
   "execution_count": 4,
   "metadata": {
    "tags": []
   },
   "outputs": [
    {
     "data": {
      "text/html": [
       "<div>\n",
       "<style scoped>\n",
       "    .dataframe tbody tr th:only-of-type {\n",
       "        vertical-align: middle;\n",
       "    }\n",
       "\n",
       "    .dataframe tbody tr th {\n",
       "        vertical-align: top;\n",
       "    }\n",
       "\n",
       "    .dataframe thead th {\n",
       "        text-align: right;\n",
       "    }\n",
       "</style>\n",
       "<table border=\"1\" class=\"dataframe\">\n",
       "  <thead>\n",
       "    <tr style=\"text-align: right;\">\n",
       "      <th></th>\n",
       "      <th>Title</th>\n",
       "      <th>SMILES</th>\n",
       "      <th>IC50</th>\n",
       "      <th>HeavyAtomCount</th>\n",
       "      <th>NHOHCount</th>\n",
       "      <th>NOCount</th>\n",
       "      <th>NumHAcceptors</th>\n",
       "      <th>NumHDonors</th>\n",
       "      <th>NumHeteroatoms</th>\n",
       "      <th>NumRotatableBonds</th>\n",
       "      <th>NumValenceElectrons</th>\n",
       "      <th>NumAromaticRings</th>\n",
       "      <th>NumAliphaticHeterocycles</th>\n",
       "      <th>RingCount</th>\n",
       "      <th>MW</th>\n",
       "      <th>LogP</th>\n",
       "      <th>MR</th>\n",
       "      <th>TPSA</th>\n",
       "    </tr>\n",
       "  </thead>\n",
       "  <tbody>\n",
       "    <tr>\n",
       "      <th>0</th>\n",
       "      <td>CHEMBL2206459</td>\n",
       "      <td>[H]\\N=C(N)\\N[C@@H](C1)[C@@H](NC(=O)C)[C@@H](C=...</td>\n",
       "      <td>0.000015</td>\n",
       "      <td>24</td>\n",
       "      <td>7</td>\n",
       "      <td>9</td>\n",
       "      <td>4</td>\n",
       "      <td>6</td>\n",
       "      <td>10</td>\n",
       "      <td>7</td>\n",
       "      <td>138</td>\n",
       "      <td>0</td>\n",
       "      <td>0</td>\n",
       "      <td>1</td>\n",
       "      <td>362.367</td>\n",
       "      <td>0.38187</td>\n",
       "      <td>90.4296</td>\n",
       "      <td>157.76</td>\n",
       "    </tr>\n",
       "    <tr>\n",
       "      <th>1</th>\n",
       "      <td>CHEMBL3818159</td>\n",
       "      <td>O=C(O)C1=C[C@H](N)[C@@H](NC(=O)C)[C@@H](C1)COC...</td>\n",
       "      <td>0.000016</td>\n",
       "      <td>21</td>\n",
       "      <td>4</td>\n",
       "      <td>6</td>\n",
       "      <td>4</td>\n",
       "      <td>3</td>\n",
       "      <td>6</td>\n",
       "      <td>7</td>\n",
       "      <td>120</td>\n",
       "      <td>0</td>\n",
       "      <td>0</td>\n",
       "      <td>1</td>\n",
       "      <td>298.383</td>\n",
       "      <td>1.05450</td>\n",
       "      <td>79.7279</td>\n",
       "      <td>101.65</td>\n",
       "    </tr>\n",
       "    <tr>\n",
       "      <th>2</th>\n",
       "      <td>CHEMBL1956716</td>\n",
       "      <td>C=CC(=O)N[C@H]([C@H](C1)N)[C@@H](C=C1C([O-])=O...</td>\n",
       "      <td>0.000033</td>\n",
       "      <td>21</td>\n",
       "      <td>3</td>\n",
       "      <td>6</td>\n",
       "      <td>5</td>\n",
       "      <td>2</td>\n",
       "      <td>6</td>\n",
       "      <td>7</td>\n",
       "      <td>118</td>\n",
       "      <td>0</td>\n",
       "      <td>0</td>\n",
       "      <td>1</td>\n",
       "      <td>295.359</td>\n",
       "      <td>-0.36170</td>\n",
       "      <td>77.0531</td>\n",
       "      <td>104.48</td>\n",
       "    </tr>\n",
       "    <tr>\n",
       "      <th>3</th>\n",
       "      <td>CHEMBL1956715</td>\n",
       "      <td>CC(=O)N[C@H]([C@H](C1)N)[C@@H](C=C1C([O-])=O)O...</td>\n",
       "      <td>0.000032</td>\n",
       "      <td>20</td>\n",
       "      <td>3</td>\n",
       "      <td>6</td>\n",
       "      <td>5</td>\n",
       "      <td>2</td>\n",
       "      <td>6</td>\n",
       "      <td>6</td>\n",
       "      <td>114</td>\n",
       "      <td>0</td>\n",
       "      <td>0</td>\n",
       "      <td>1</td>\n",
       "      <td>283.348</td>\n",
       "      <td>-0.52780</td>\n",
       "      <td>72.5301</td>\n",
       "      <td>104.48</td>\n",
       "    </tr>\n",
       "    <tr>\n",
       "      <th>4</th>\n",
       "      <td>CHEMBL4444029</td>\n",
       "      <td>O=C(O)c1c(O)c(=O)cc([nH]1)-c(c2C)ccc(c2)-c3noc...</td>\n",
       "      <td>0.000041</td>\n",
       "      <td>24</td>\n",
       "      <td>4</td>\n",
       "      <td>9</td>\n",
       "      <td>6</td>\n",
       "      <td>4</td>\n",
       "      <td>9</td>\n",
       "      <td>3</td>\n",
       "      <td>122</td>\n",
       "      <td>3</td>\n",
       "      <td>0</td>\n",
       "      <td>3</td>\n",
       "      <td>329.268</td>\n",
       "      <td>1.09742</td>\n",
       "      <td>81.9775</td>\n",
       "      <td>149.28</td>\n",
       "    </tr>\n",
       "    <tr>\n",
       "      <th>...</th>\n",
       "      <td>...</td>\n",
       "      <td>...</td>\n",
       "      <td>...</td>\n",
       "      <td>...</td>\n",
       "      <td>...</td>\n",
       "      <td>...</td>\n",
       "      <td>...</td>\n",
       "      <td>...</td>\n",
       "      <td>...</td>\n",
       "      <td>...</td>\n",
       "      <td>...</td>\n",
       "      <td>...</td>\n",
       "      <td>...</td>\n",
       "      <td>...</td>\n",
       "      <td>...</td>\n",
       "      <td>...</td>\n",
       "      <td>...</td>\n",
       "      <td>...</td>\n",
       "    </tr>\n",
       "    <tr>\n",
       "      <th>36372</th>\n",
       "      <td>CHEMBL3699085</td>\n",
       "      <td>CC(=O)N[C@H]1CC[C@@H]([C@@H]12)[C@@H](O[Si](C)...</td>\n",
       "      <td>2366.790000</td>\n",
       "      <td>44</td>\n",
       "      <td>3</td>\n",
       "      <td>10</td>\n",
       "      <td>6</td>\n",
       "      <td>3</td>\n",
       "      <td>11</td>\n",
       "      <td>8</td>\n",
       "      <td>238</td>\n",
       "      <td>2</td>\n",
       "      <td>0</td>\n",
       "      <td>4</td>\n",
       "      <td>622.839</td>\n",
       "      <td>5.88880</td>\n",
       "      <td>171.2541</td>\n",
       "      <td>127.35</td>\n",
       "    </tr>\n",
       "    <tr>\n",
       "      <th>36373</th>\n",
       "      <td>CHEMBL109004</td>\n",
       "      <td>CC(=O)Nc(cc1)c(OC(=O)C)cc1C(=O)O</td>\n",
       "      <td>2372.100000</td>\n",
       "      <td>17</td>\n",
       "      <td>2</td>\n",
       "      <td>6</td>\n",
       "      <td>4</td>\n",
       "      <td>2</td>\n",
       "      <td>6</td>\n",
       "      <td>3</td>\n",
       "      <td>90</td>\n",
       "      <td>1</td>\n",
       "      <td>0</td>\n",
       "      <td>1</td>\n",
       "      <td>237.211</td>\n",
       "      <td>1.26850</td>\n",
       "      <td>59.0140</td>\n",
       "      <td>92.70</td>\n",
       "    </tr>\n",
       "    <tr>\n",
       "      <th>36374</th>\n",
       "      <td>CHEMBL2259758</td>\n",
       "      <td>c1cccc(c12)cccc2CNC(=O)CCCCCCO[C@]3(C(=O)O)C[C...</td>\n",
       "      <td>2600.970000</td>\n",
       "      <td>61</td>\n",
       "      <td>7</td>\n",
       "      <td>17</td>\n",
       "      <td>13</td>\n",
       "      <td>7</td>\n",
       "      <td>18</td>\n",
       "      <td>21</td>\n",
       "      <td>330</td>\n",
       "      <td>4</td>\n",
       "      <td>1</td>\n",
       "      <td>5</td>\n",
       "      <td>866.987</td>\n",
       "      <td>2.32120</td>\n",
       "      <td>224.7361</td>\n",
       "      <td>250.36</td>\n",
       "    </tr>\n",
       "    <tr>\n",
       "      <th>36375</th>\n",
       "      <td>CHEMBL109781</td>\n",
       "      <td>NCCCC(=O)Nc(c(cc1)NC(=O)C)cc1C(=O)O</td>\n",
       "      <td>2793.000000</td>\n",
       "      <td>20</td>\n",
       "      <td>5</td>\n",
       "      <td>7</td>\n",
       "      <td>4</td>\n",
       "      <td>4</td>\n",
       "      <td>7</td>\n",
       "      <td>6</td>\n",
       "      <td>108</td>\n",
       "      <td>1</td>\n",
       "      <td>0</td>\n",
       "      <td>1</td>\n",
       "      <td>279.296</td>\n",
       "      <td>1.02060</td>\n",
       "      <td>74.6231</td>\n",
       "      <td>121.52</td>\n",
       "    </tr>\n",
       "    <tr>\n",
       "      <th>36376</th>\n",
       "      <td>CHEMBL3699084</td>\n",
       "      <td>CC(=O)N[C@H]1CS(=O)(=O)[C@@H]([C@@H]12)[C@@H](...</td>\n",
       "      <td>3183.600000</td>\n",
       "      <td>21</td>\n",
       "      <td>6</td>\n",
       "      <td>9</td>\n",
       "      <td>5</td>\n",
       "      <td>5</td>\n",
       "      <td>10</td>\n",
       "      <td>3</td>\n",
       "      <td>118</td>\n",
       "      <td>0</td>\n",
       "      <td>1</td>\n",
       "      <td>2</td>\n",
       "      <td>318.355</td>\n",
       "      <td>-2.13953</td>\n",
       "      <td>73.2501</td>\n",
       "      <td>162.44</td>\n",
       "    </tr>\n",
       "  </tbody>\n",
       "</table>\n",
       "<p>36377 rows × 18 columns</p>\n",
       "</div>"
      ],
      "text/plain": [
       "               Title                                             SMILES   \n",
       "0      CHEMBL2206459  [H]\\N=C(N)\\N[C@@H](C1)[C@@H](NC(=O)C)[C@@H](C=...  \\\n",
       "1      CHEMBL3818159  O=C(O)C1=C[C@H](N)[C@@H](NC(=O)C)[C@@H](C1)COC...   \n",
       "2      CHEMBL1956716  C=CC(=O)N[C@H]([C@H](C1)N)[C@@H](C=C1C([O-])=O...   \n",
       "3      CHEMBL1956715  CC(=O)N[C@H]([C@H](C1)N)[C@@H](C=C1C([O-])=O)O...   \n",
       "4      CHEMBL4444029  O=C(O)c1c(O)c(=O)cc([nH]1)-c(c2C)ccc(c2)-c3noc...   \n",
       "...              ...                                                ...   \n",
       "36372  CHEMBL3699085  CC(=O)N[C@H]1CC[C@@H]([C@@H]12)[C@@H](O[Si](C)...   \n",
       "36373   CHEMBL109004                   CC(=O)Nc(cc1)c(OC(=O)C)cc1C(=O)O   \n",
       "36374  CHEMBL2259758  c1cccc(c12)cccc2CNC(=O)CCCCCCO[C@]3(C(=O)O)C[C...   \n",
       "36375   CHEMBL109781                NCCCC(=O)Nc(c(cc1)NC(=O)C)cc1C(=O)O   \n",
       "36376  CHEMBL3699084  CC(=O)N[C@H]1CS(=O)(=O)[C@@H]([C@@H]12)[C@@H](...   \n",
       "\n",
       "              IC50  HeavyAtomCount  NHOHCount  NOCount  NumHAcceptors   \n",
       "0         0.000015              24          7        9              4  \\\n",
       "1         0.000016              21          4        6              4   \n",
       "2         0.000033              21          3        6              5   \n",
       "3         0.000032              20          3        6              5   \n",
       "4         0.000041              24          4        9              6   \n",
       "...            ...             ...        ...      ...            ...   \n",
       "36372  2366.790000              44          3       10              6   \n",
       "36373  2372.100000              17          2        6              4   \n",
       "36374  2600.970000              61          7       17             13   \n",
       "36375  2793.000000              20          5        7              4   \n",
       "36376  3183.600000              21          6        9              5   \n",
       "\n",
       "       NumHDonors  NumHeteroatoms  NumRotatableBonds  NumValenceElectrons   \n",
       "0               6              10                  7                  138  \\\n",
       "1               3               6                  7                  120   \n",
       "2               2               6                  7                  118   \n",
       "3               2               6                  6                  114   \n",
       "4               4               9                  3                  122   \n",
       "...           ...             ...                ...                  ...   \n",
       "36372           3              11                  8                  238   \n",
       "36373           2               6                  3                   90   \n",
       "36374           7              18                 21                  330   \n",
       "36375           4               7                  6                  108   \n",
       "36376           5              10                  3                  118   \n",
       "\n",
       "       NumAromaticRings  NumAliphaticHeterocycles  RingCount       MW   \n",
       "0                     0                         0          1  362.367  \\\n",
       "1                     0                         0          1  298.383   \n",
       "2                     0                         0          1  295.359   \n",
       "3                     0                         0          1  283.348   \n",
       "4                     3                         0          3  329.268   \n",
       "...                 ...                       ...        ...      ...   \n",
       "36372                 2                         0          4  622.839   \n",
       "36373                 1                         0          1  237.211   \n",
       "36374                 4                         1          5  866.987   \n",
       "36375                 1                         0          1  279.296   \n",
       "36376                 0                         1          2  318.355   \n",
       "\n",
       "          LogP        MR    TPSA  \n",
       "0      0.38187   90.4296  157.76  \n",
       "1      1.05450   79.7279  101.65  \n",
       "2     -0.36170   77.0531  104.48  \n",
       "3     -0.52780   72.5301  104.48  \n",
       "4      1.09742   81.9775  149.28  \n",
       "...        ...       ...     ...  \n",
       "36372  5.88880  171.2541  127.35  \n",
       "36373  1.26850   59.0140   92.70  \n",
       "36374  2.32120  224.7361  250.36  \n",
       "36375  1.02060   74.6231  121.52  \n",
       "36376 -2.13953   73.2501  162.44  \n",
       "\n",
       "[36377 rows x 18 columns]"
      ]
     },
     "execution_count": 4,
     "metadata": {},
     "output_type": "execute_result"
    }
   ],
   "source": [
    "data_dsc"
   ]
  },
  {
   "cell_type": "code",
   "execution_count": 5,
   "metadata": {
    "tags": []
   },
   "outputs": [],
   "source": [
    "x, y = data_dsc.drop(columns=['Title', 'SMILES', 'IC50']), data_dsc['IC50']"
   ]
  },
  {
   "cell_type": "code",
   "execution_count": 6,
   "metadata": {
    "tags": []
   },
   "outputs": [],
   "source": [
    "from sklearn.model_selection import train_test_split"
   ]
  },
  {
   "cell_type": "code",
   "execution_count": 7,
   "metadata": {
    "tags": []
   },
   "outputs": [],
   "source": [
    "x_train, x_test, y_train, y_test = train_test_split(x, y)"
   ]
  },
  {
   "cell_type": "code",
   "execution_count": 8,
   "metadata": {
    "tags": []
   },
   "outputs": [],
   "source": [
    "from catboost import CatBoostRegressor"
   ]
  },
  {
   "cell_type": "code",
   "execution_count": 9,
   "metadata": {
    "tags": []
   },
   "outputs": [],
   "source": [
    "cb = CatBoostRegressor(verbose=100, task_type='CPU', loss_function='RMSE', eval_metric='R2')"
   ]
  },
  {
   "cell_type": "code",
   "execution_count": 10,
   "metadata": {
    "tags": []
   },
   "outputs": [
    {
     "name": "stdout",
     "output_type": "stream",
     "text": [
      "Learning rate set to 0.085571\n",
      "0:\tlearn: 0.0119448\ttest: 0.0000101\tbest: 0.0000101 (0)\ttotal: 162ms\tremaining: 2m 41s\n",
      "100:\tlearn: 0.4152909\ttest: -0.4398710\tbest: 0.0136328 (7)\ttotal: 536ms\tremaining: 4.77s\n",
      "200:\tlearn: 0.5357876\ttest: -0.6761682\tbest: 0.0136328 (7)\ttotal: 892ms\tremaining: 3.55s\n",
      "300:\tlearn: 0.6201801\ttest: -0.7818011\tbest: 0.0136328 (7)\ttotal: 1.25s\tremaining: 2.9s\n",
      "400:\tlearn: 0.6799376\ttest: -0.9104370\tbest: 0.0136328 (7)\ttotal: 1.6s\tremaining: 2.4s\n",
      "500:\tlearn: 0.7262149\ttest: -1.0304158\tbest: 0.0136328 (7)\ttotal: 1.96s\tremaining: 1.96s\n",
      "600:\tlearn: 0.7596492\ttest: -1.1393606\tbest: 0.0136328 (7)\ttotal: 2.32s\tremaining: 1.54s\n",
      "700:\tlearn: 0.7850367\ttest: -1.2348512\tbest: 0.0136328 (7)\ttotal: 2.68s\tremaining: 1.14s\n",
      "800:\tlearn: 0.7987940\ttest: -1.2802035\tbest: 0.0136328 (7)\ttotal: 3.04s\tremaining: 755ms\n",
      "900:\tlearn: 0.8120605\ttest: -1.3126428\tbest: 0.0136328 (7)\ttotal: 3.4s\tremaining: 373ms\n",
      "999:\tlearn: 0.8202029\ttest: -1.3415430\tbest: 0.0136328 (7)\ttotal: 3.76s\tremaining: 0us\n",
      "\n",
      "bestTest = 0.01363283514\n",
      "bestIteration = 7\n",
      "\n",
      "Shrink model to first 8 iterations.\n"
     ]
    },
    {
     "data": {
      "text/plain": [
       "<catboost.core.CatBoostRegressor at 0x1feb9aedd80>"
      ]
     },
     "execution_count": 10,
     "metadata": {},
     "output_type": "execute_result"
    }
   ],
   "source": [
    "cb.fit(x_train, y_train, eval_set=(x_test, y_test))"
   ]
  },
  {
   "cell_type": "code",
   "execution_count": 11,
   "metadata": {
    "tags": []
   },
   "outputs": [],
   "source": [
    "from sklearn.linear_model import LinearRegression\n",
    "from sklearn.metrics import r2_score"
   ]
  },
  {
   "cell_type": "code",
   "execution_count": 12,
   "metadata": {
    "tags": []
   },
   "outputs": [],
   "source": [
    "linreg = LinearRegression()"
   ]
  },
  {
   "cell_type": "code",
   "execution_count": 13,
   "metadata": {
    "tags": []
   },
   "outputs": [
    {
     "data": {
      "text/html": [
       "<style>#sk-container-id-1 {color: black;background-color: white;}#sk-container-id-1 pre{padding: 0;}#sk-container-id-1 div.sk-toggleable {background-color: white;}#sk-container-id-1 label.sk-toggleable__label {cursor: pointer;display: block;width: 100%;margin-bottom: 0;padding: 0.3em;box-sizing: border-box;text-align: center;}#sk-container-id-1 label.sk-toggleable__label-arrow:before {content: \"▸\";float: left;margin-right: 0.25em;color: #696969;}#sk-container-id-1 label.sk-toggleable__label-arrow:hover:before {color: black;}#sk-container-id-1 div.sk-estimator:hover label.sk-toggleable__label-arrow:before {color: black;}#sk-container-id-1 div.sk-toggleable__content {max-height: 0;max-width: 0;overflow: hidden;text-align: left;background-color: #f0f8ff;}#sk-container-id-1 div.sk-toggleable__content pre {margin: 0.2em;color: black;border-radius: 0.25em;background-color: #f0f8ff;}#sk-container-id-1 input.sk-toggleable__control:checked~div.sk-toggleable__content {max-height: 200px;max-width: 100%;overflow: auto;}#sk-container-id-1 input.sk-toggleable__control:checked~label.sk-toggleable__label-arrow:before {content: \"▾\";}#sk-container-id-1 div.sk-estimator input.sk-toggleable__control:checked~label.sk-toggleable__label {background-color: #d4ebff;}#sk-container-id-1 div.sk-label input.sk-toggleable__control:checked~label.sk-toggleable__label {background-color: #d4ebff;}#sk-container-id-1 input.sk-hidden--visually {border: 0;clip: rect(1px 1px 1px 1px);clip: rect(1px, 1px, 1px, 1px);height: 1px;margin: -1px;overflow: hidden;padding: 0;position: absolute;width: 1px;}#sk-container-id-1 div.sk-estimator {font-family: monospace;background-color: #f0f8ff;border: 1px dotted black;border-radius: 0.25em;box-sizing: border-box;margin-bottom: 0.5em;}#sk-container-id-1 div.sk-estimator:hover {background-color: #d4ebff;}#sk-container-id-1 div.sk-parallel-item::after {content: \"\";width: 100%;border-bottom: 1px solid gray;flex-grow: 1;}#sk-container-id-1 div.sk-label:hover label.sk-toggleable__label {background-color: #d4ebff;}#sk-container-id-1 div.sk-serial::before {content: \"\";position: absolute;border-left: 1px solid gray;box-sizing: border-box;top: 0;bottom: 0;left: 50%;z-index: 0;}#sk-container-id-1 div.sk-serial {display: flex;flex-direction: column;align-items: center;background-color: white;padding-right: 0.2em;padding-left: 0.2em;position: relative;}#sk-container-id-1 div.sk-item {position: relative;z-index: 1;}#sk-container-id-1 div.sk-parallel {display: flex;align-items: stretch;justify-content: center;background-color: white;position: relative;}#sk-container-id-1 div.sk-item::before, #sk-container-id-1 div.sk-parallel-item::before {content: \"\";position: absolute;border-left: 1px solid gray;box-sizing: border-box;top: 0;bottom: 0;left: 50%;z-index: -1;}#sk-container-id-1 div.sk-parallel-item {display: flex;flex-direction: column;z-index: 1;position: relative;background-color: white;}#sk-container-id-1 div.sk-parallel-item:first-child::after {align-self: flex-end;width: 50%;}#sk-container-id-1 div.sk-parallel-item:last-child::after {align-self: flex-start;width: 50%;}#sk-container-id-1 div.sk-parallel-item:only-child::after {width: 0;}#sk-container-id-1 div.sk-dashed-wrapped {border: 1px dashed gray;margin: 0 0.4em 0.5em 0.4em;box-sizing: border-box;padding-bottom: 0.4em;background-color: white;}#sk-container-id-1 div.sk-label label {font-family: monospace;font-weight: bold;display: inline-block;line-height: 1.2em;}#sk-container-id-1 div.sk-label-container {text-align: center;}#sk-container-id-1 div.sk-container {/* jupyter's `normalize.less` sets `[hidden] { display: none; }` but bootstrap.min.css set `[hidden] { display: none !important; }` so we also need the `!important` here to be able to override the default hidden behavior on the sphinx rendered scikit-learn.org. See: https://github.com/scikit-learn/scikit-learn/issues/21755 */display: inline-block !important;position: relative;}#sk-container-id-1 div.sk-text-repr-fallback {display: none;}</style><div id=\"sk-container-id-1\" class=\"sk-top-container\"><div class=\"sk-text-repr-fallback\"><pre>LinearRegression()</pre><b>In a Jupyter environment, please rerun this cell to show the HTML representation or trust the notebook. <br />On GitHub, the HTML representation is unable to render, please try loading this page with nbviewer.org.</b></div><div class=\"sk-container\" hidden><div class=\"sk-item\"><div class=\"sk-estimator sk-toggleable\"><input class=\"sk-toggleable__control sk-hidden--visually\" id=\"sk-estimator-id-1\" type=\"checkbox\" checked><label for=\"sk-estimator-id-1\" class=\"sk-toggleable__label sk-toggleable__label-arrow\">LinearRegression</label><div class=\"sk-toggleable__content\"><pre>LinearRegression()</pre></div></div></div></div></div>"
      ],
      "text/plain": [
       "LinearRegression()"
      ]
     },
     "execution_count": 13,
     "metadata": {},
     "output_type": "execute_result"
    }
   ],
   "source": [
    "linreg.fit(x_train, y_train)"
   ]
  },
  {
   "cell_type": "code",
   "execution_count": 14,
   "metadata": {
    "tags": []
   },
   "outputs": [
    {
     "data": {
      "text/plain": [
       "-0.02150295018926074"
      ]
     },
     "execution_count": 14,
     "metadata": {},
     "output_type": "execute_result"
    }
   ],
   "source": [
    "r2_score(y_test, linreg.predict(x_test))"
   ]
  },
  {
   "cell_type": "code",
   "execution_count": 15,
   "metadata": {
    "tags": []
   },
   "outputs": [],
   "source": [
    "from sklearn.ensemble import RandomForestRegressor"
   ]
  },
  {
   "cell_type": "code",
   "execution_count": 20,
   "metadata": {
    "tags": []
   },
   "outputs": [
    {
     "name": "stderr",
     "output_type": "stream",
     "text": [
      "[Parallel(n_jobs=-1)]: Using backend ThreadingBackend with 24 concurrent workers.\n"
     ]
    },
    {
     "name": "stdout",
     "output_type": "stream",
     "text": [
      "building tree 1 of 100\n",
      "building tree 2 of 100\n",
      "building tree 3 of 100\n",
      "building tree 4 of 100\n",
      "building tree 5 of 100\n",
      "building tree 6 of 100\n",
      "building tree 7 of 100\n",
      "building tree 8 of 100\n",
      "building tree 9 of 100\n",
      "building tree 10 of 100\n",
      "building tree 11 of 100\n",
      "building tree 12 of 100\n",
      "building tree 13 of 100\n",
      "building tree 14 of 100\n",
      "building tree 15 of 100\n",
      "building tree 16 of 100\n",
      "building tree 17 of 100\n",
      "building tree 18 of 100\n",
      "building tree 19 of 100\n",
      "building tree 20 of 100\n",
      "building tree 21 of 100\n",
      "building tree 22 of 100\n",
      "building tree 23 of 100\n",
      "building tree 24 of 100\n",
      "building tree 25 of 100\n",
      "building tree 26 of 100\n",
      "building tree 27 of 100\n",
      "building tree 28 of 100\n",
      "building tree 29 of 100\n",
      "building tree 30 of 100\n",
      "building tree 31 of 100\n",
      "building tree 32 of 100\n",
      "building tree 33 of 100\n",
      "building tree 34 of 100\n",
      "building tree 35 of 100\n",
      "building tree 36 of 100\n",
      "building tree 37 of 100\n",
      "building tree 38 of 100\n",
      "building tree 39 of 100\n",
      "building tree 40 of 100\n",
      "building tree 41 of 100\n",
      "building tree 42 of 100\n",
      "building tree 43 of 100\n",
      "building tree 44 of 100\n",
      "building tree 45 of 100\n",
      "building tree 46 of 100\n",
      "building tree 47 of 100\n",
      "building tree 48 of 100\n",
      "building tree 49 of 100\n",
      "building tree 50 of 100\n",
      "building tree 51 of 100\n",
      "building tree 52 of 100\n",
      "building tree 53 of 100\n",
      "building tree 54 of 100\n",
      "building tree 55 of 100\n",
      "building tree 56 of 100\n",
      "building tree 57 of 100\n",
      "building tree 58 of 100\n",
      "building tree 59 of 100\n",
      "building tree 60 of 100\n",
      "building tree 61 of 100\n",
      "building tree 62 of 100\n",
      "building tree 63 of 100\n",
      "building tree 64 of 100\n",
      "building tree 65 of 100\n",
      "building tree 66 of 100\n",
      "building tree 67 of 100\n",
      "building tree 68 of 100\n",
      "building tree 69 of 100\n",
      "building tree 70 of 100\n",
      "building tree 71 of 100\n",
      "building tree 72 of 100\n",
      "building tree 73 of 100\n",
      "building tree 74 of 100\n",
      "building tree 75 of 100\n",
      "building tree 76 of 100\n",
      "building tree 77 of 100\n",
      "building tree 78 of 100\n",
      "building tree 79 of 100\n",
      "building tree 80 of 100\n",
      "building tree 81 of 100\n",
      "building tree 82 of 100\n",
      "building tree 83 of 100\n",
      "building tree 84 of 100\n",
      "building tree 85 of 100\n",
      "building tree 86 of 100\n",
      "building tree 87 of 100\n",
      "building tree 88 of 100\n",
      "building tree 89 of 100\n",
      "building tree 90 of 100\n",
      "building tree 91 of 100\n",
      "building tree 92 of 100\n",
      "building tree 93 of 100\n",
      "building tree 94 of 100\n",
      "building tree 95 of 100\n",
      "building tree 96 of 100\n",
      "building tree 97 of 100\n",
      "building tree 98 of 100\n",
      "building tree 99 of 100\n",
      "building tree 100 of 100\n"
     ]
    },
    {
     "name": "stderr",
     "output_type": "stream",
     "text": [
      "[Parallel(n_jobs=-1)]: Done  87 out of 100 | elapsed:    1.7s remaining:    0.2s\n",
      "[Parallel(n_jobs=-1)]: Done 100 out of 100 | elapsed:    1.9s finished\n"
     ]
    },
    {
     "data": {
      "text/html": [
       "<style>#sk-container-id-3 {color: black;background-color: white;}#sk-container-id-3 pre{padding: 0;}#sk-container-id-3 div.sk-toggleable {background-color: white;}#sk-container-id-3 label.sk-toggleable__label {cursor: pointer;display: block;width: 100%;margin-bottom: 0;padding: 0.3em;box-sizing: border-box;text-align: center;}#sk-container-id-3 label.sk-toggleable__label-arrow:before {content: \"▸\";float: left;margin-right: 0.25em;color: #696969;}#sk-container-id-3 label.sk-toggleable__label-arrow:hover:before {color: black;}#sk-container-id-3 div.sk-estimator:hover label.sk-toggleable__label-arrow:before {color: black;}#sk-container-id-3 div.sk-toggleable__content {max-height: 0;max-width: 0;overflow: hidden;text-align: left;background-color: #f0f8ff;}#sk-container-id-3 div.sk-toggleable__content pre {margin: 0.2em;color: black;border-radius: 0.25em;background-color: #f0f8ff;}#sk-container-id-3 input.sk-toggleable__control:checked~div.sk-toggleable__content {max-height: 200px;max-width: 100%;overflow: auto;}#sk-container-id-3 input.sk-toggleable__control:checked~label.sk-toggleable__label-arrow:before {content: \"▾\";}#sk-container-id-3 div.sk-estimator input.sk-toggleable__control:checked~label.sk-toggleable__label {background-color: #d4ebff;}#sk-container-id-3 div.sk-label input.sk-toggleable__control:checked~label.sk-toggleable__label {background-color: #d4ebff;}#sk-container-id-3 input.sk-hidden--visually {border: 0;clip: rect(1px 1px 1px 1px);clip: rect(1px, 1px, 1px, 1px);height: 1px;margin: -1px;overflow: hidden;padding: 0;position: absolute;width: 1px;}#sk-container-id-3 div.sk-estimator {font-family: monospace;background-color: #f0f8ff;border: 1px dotted black;border-radius: 0.25em;box-sizing: border-box;margin-bottom: 0.5em;}#sk-container-id-3 div.sk-estimator:hover {background-color: #d4ebff;}#sk-container-id-3 div.sk-parallel-item::after {content: \"\";width: 100%;border-bottom: 1px solid gray;flex-grow: 1;}#sk-container-id-3 div.sk-label:hover label.sk-toggleable__label {background-color: #d4ebff;}#sk-container-id-3 div.sk-serial::before {content: \"\";position: absolute;border-left: 1px solid gray;box-sizing: border-box;top: 0;bottom: 0;left: 50%;z-index: 0;}#sk-container-id-3 div.sk-serial {display: flex;flex-direction: column;align-items: center;background-color: white;padding-right: 0.2em;padding-left: 0.2em;position: relative;}#sk-container-id-3 div.sk-item {position: relative;z-index: 1;}#sk-container-id-3 div.sk-parallel {display: flex;align-items: stretch;justify-content: center;background-color: white;position: relative;}#sk-container-id-3 div.sk-item::before, #sk-container-id-3 div.sk-parallel-item::before {content: \"\";position: absolute;border-left: 1px solid gray;box-sizing: border-box;top: 0;bottom: 0;left: 50%;z-index: -1;}#sk-container-id-3 div.sk-parallel-item {display: flex;flex-direction: column;z-index: 1;position: relative;background-color: white;}#sk-container-id-3 div.sk-parallel-item:first-child::after {align-self: flex-end;width: 50%;}#sk-container-id-3 div.sk-parallel-item:last-child::after {align-self: flex-start;width: 50%;}#sk-container-id-3 div.sk-parallel-item:only-child::after {width: 0;}#sk-container-id-3 div.sk-dashed-wrapped {border: 1px dashed gray;margin: 0 0.4em 0.5em 0.4em;box-sizing: border-box;padding-bottom: 0.4em;background-color: white;}#sk-container-id-3 div.sk-label label {font-family: monospace;font-weight: bold;display: inline-block;line-height: 1.2em;}#sk-container-id-3 div.sk-label-container {text-align: center;}#sk-container-id-3 div.sk-container {/* jupyter's `normalize.less` sets `[hidden] { display: none; }` but bootstrap.min.css set `[hidden] { display: none !important; }` so we also need the `!important` here to be able to override the default hidden behavior on the sphinx rendered scikit-learn.org. See: https://github.com/scikit-learn/scikit-learn/issues/21755 */display: inline-block !important;position: relative;}#sk-container-id-3 div.sk-text-repr-fallback {display: none;}</style><div id=\"sk-container-id-3\" class=\"sk-top-container\"><div class=\"sk-text-repr-fallback\"><pre>RandomForestRegressor(n_jobs=-1, verbose=3)</pre><b>In a Jupyter environment, please rerun this cell to show the HTML representation or trust the notebook. <br />On GitHub, the HTML representation is unable to render, please try loading this page with nbviewer.org.</b></div><div class=\"sk-container\" hidden><div class=\"sk-item\"><div class=\"sk-estimator sk-toggleable\"><input class=\"sk-toggleable__control sk-hidden--visually\" id=\"sk-estimator-id-3\" type=\"checkbox\" checked><label for=\"sk-estimator-id-3\" class=\"sk-toggleable__label sk-toggleable__label-arrow\">RandomForestRegressor</label><div class=\"sk-toggleable__content\"><pre>RandomForestRegressor(n_jobs=-1, verbose=3)</pre></div></div></div></div></div>"
      ],
      "text/plain": [
       "RandomForestRegressor(n_jobs=-1, verbose=3)"
      ]
     },
     "execution_count": 20,
     "metadata": {},
     "output_type": "execute_result"
    }
   ],
   "source": [
    "rf = RandomForestRegressor(n_jobs=-1, criterion='squared_error', verbose=3)\n",
    "rf.fit(x_train, y_train)\n"
   ]
  },
  {
   "cell_type": "code",
   "execution_count": 21,
   "metadata": {
    "tags": []
   },
   "outputs": [
    {
     "name": "stderr",
     "output_type": "stream",
     "text": [
      "[Parallel(n_jobs=24)]: Using backend ThreadingBackend with 24 concurrent workers.\n",
      "[Parallel(n_jobs=24)]: Done  87 out of 100 | elapsed:    0.0s remaining:    0.0s\n",
      "[Parallel(n_jobs=24)]: Done 100 out of 100 | elapsed:    0.0s finished\n"
     ]
    },
    {
     "data": {
      "text/plain": [
       "-0.35715432635511735"
      ]
     },
     "execution_count": 21,
     "metadata": {},
     "output_type": "execute_result"
    }
   ],
   "source": [
    "r2_score(y_test, rf.predict(x_test))"
   ]
  },
  {
   "cell_type": "code",
   "execution_count": 1,
   "metadata": {
    "tags": []
   },
   "outputs": [
    {
     "ename": "ModuleNotFoundError",
     "evalue": "No module named 'torch'",
     "output_type": "error",
     "traceback": [
      "\u001b[1;31m---------------------------------------------------------------------------\u001b[0m",
      "\u001b[1;31mModuleNotFoundError\u001b[0m                       Traceback (most recent call last)",
      "Cell \u001b[1;32mIn[1], line 1\u001b[0m\n\u001b[1;32m----> 1\u001b[0m \u001b[38;5;28;01mfrom\u001b[39;00m \u001b[38;5;21;01mtorch\u001b[39;00m \u001b[38;5;28;01mimport\u001b[39;00m nn\n",
      "\u001b[1;31mModuleNotFoundError\u001b[0m: No module named 'torch'"
     ]
    }
   ],
   "source": [
    "from torch import nn"
   ]
  },
  {
   "cell_type": "code",
   "execution_count": 3,
   "metadata": {
    "tags": []
   },
   "outputs": [
    {
     "ename": "NameError",
     "evalue": "name 'nn' is not defined",
     "output_type": "error",
     "traceback": [
      "\u001b[1;31m---------------------------------------------------------------------------\u001b[0m",
      "\u001b[1;31mNameError\u001b[0m                                 Traceback (most recent call last)",
      "Cell \u001b[1;32mIn[3], line 1\u001b[0m\n\u001b[1;32m----> 1\u001b[0m \u001b[38;5;28;01mclass\u001b[39;00m \u001b[38;5;21;01mMLP\u001b[39;00m(\u001b[43mnn\u001b[49m\u001b[38;5;241m.\u001b[39mModule):\n\u001b[0;32m      2\u001b[0m     \u001b[38;5;28;01mdef\u001b[39;00m \u001b[38;5;21m__init__\u001b[39m(\u001b[38;5;28mself\u001b[39m, input_dim, hidden_dim, n_layers):\n\u001b[0;32m      3\u001b[0m         \u001b[38;5;28msuper\u001b[39m()\u001b[38;5;241m.\u001b[39m\u001b[38;5;21m__init__\u001b[39m()\n",
      "\u001b[1;31mNameError\u001b[0m: name 'nn' is not defined"
     ]
    }
   ],
   "source": [
    "class MLP(nn.Module):\n",
    "    def __init__(self, input_dim, hidden_dim, n_layers):\n",
    "        super().__init__()\n",
    "        self.input_layer = nn.Sequential(nn.Linear(input_dim, hidden_dim), nn.ReLU())\n",
    "        self.hidden_layers = nn.ModuleList()\n",
    "        for i in n_layers:\n",
    "            self.layers.append(nn.Sequential(nn.Linear(hidden_dim, hidden_dim), nn.ReLU()))\n",
    "        self.output_layer = nn.Linear(hidden_dim, 1)\n",
    "    def forward(self, x):\n",
    "        x = self.input_layer(x)\n",
    "        for layer in self.hidden_layers:\n",
    "            x = layer(x)\n",
    "        return self.output_layer(x)"
   ]
  },
  {
   "cell_type": "code",
   "execution_count": 13,
   "metadata": {
    "id": "LmGAM0dRLx7N",
    "tags": []
   },
   "outputs": [],
   "source": [
    "import pandas as pd\n",
    "import numpy as np\n",
    "from rdkit import Chem, DataStructs\n",
    "from rdkit.Chem import Descriptors, AllChem\n",
    "\n",
    "\n",
    "def rdkit_fp(smiles_column: pd.Series, radius=3, nBits=2048, useChirality=False):\n",
    "    # morganFP_rdkit\n",
    "    def desc_gen(mol):\n",
    "        mol = Chem.MolFromSmiles(mol)\n",
    "        bit_vec = np.zeros((1,), np.int16)\n",
    "        DataStructs.ConvertToNumpyArray(\n",
    "            AllChem.GetMorganFingerprintAsBitVect(mol, radius=radius, nBits=nBits, useChirality=useChirality), bit_vec)\n",
    "        return bit_vec\n",
    "\n",
    "    return pd.DataFrame.from_records(smiles_column.apply(func=desc_gen), columns=[f'bit_id_{i}' for i in range(nBits)])\n",
    "\n",
    "\n",
    "def rdkit_2d(smiles_column: pd.Series):\n",
    "    # 2d_rdkit\n",
    "    descriptors = {i[0]: i[1] for i in Descriptors._descList}\n",
    "    return pd.DataFrame({k: f(Chem.MolFromSmiles(m)) for k, f in descriptors.items()} for m in smiles_column)"
   ]
  },
  {
   "cell_type": "code",
   "execution_count": 14,
   "metadata": {
    "colab": {
     "base_uri": "https://localhost:8080/",
     "height": 256
    },
    "id": "WOwjQJnCPx_M",
    "outputId": "cffa14b4-ebf0-4b95-d0ec-845493b8f755",
    "tags": []
   },
   "outputs": [
    {
     "name": "stderr",
     "output_type": "stream",
     "text": [
      "[22:47:27] Conflicting single bond directions around double bond at index 55.\n",
      "[22:47:27]   BondStereo set to STEREONONE and single bond directions set to NONE.\n",
      "[22:47:37] Conflicting single bond directions around double bond at index 7.\n",
      "[22:47:37]   BondStereo set to STEREONONE and single bond directions set to NONE.\n"
     ]
    },
    {
     "data": {
      "text/html": [
       "<div>\n",
       "<style scoped>\n",
       "    .dataframe tbody tr th:only-of-type {\n",
       "        vertical-align: middle;\n",
       "    }\n",
       "\n",
       "    .dataframe tbody tr th {\n",
       "        vertical-align: top;\n",
       "    }\n",
       "\n",
       "    .dataframe thead th {\n",
       "        text-align: right;\n",
       "    }\n",
       "</style>\n",
       "<table border=\"1\" class=\"dataframe\">\n",
       "  <thead>\n",
       "    <tr style=\"text-align: right;\">\n",
       "      <th></th>\n",
       "      <th>bit_id_0</th>\n",
       "      <th>bit_id_1</th>\n",
       "      <th>bit_id_2</th>\n",
       "      <th>bit_id_3</th>\n",
       "      <th>bit_id_4</th>\n",
       "      <th>bit_id_5</th>\n",
       "      <th>bit_id_6</th>\n",
       "      <th>bit_id_7</th>\n",
       "      <th>bit_id_8</th>\n",
       "      <th>bit_id_9</th>\n",
       "      <th>...</th>\n",
       "      <th>bit_id_2038</th>\n",
       "      <th>bit_id_2039</th>\n",
       "      <th>bit_id_2040</th>\n",
       "      <th>bit_id_2041</th>\n",
       "      <th>bit_id_2042</th>\n",
       "      <th>bit_id_2043</th>\n",
       "      <th>bit_id_2044</th>\n",
       "      <th>bit_id_2045</th>\n",
       "      <th>bit_id_2046</th>\n",
       "      <th>bit_id_2047</th>\n",
       "    </tr>\n",
       "  </thead>\n",
       "  <tbody>\n",
       "    <tr>\n",
       "      <th>0</th>\n",
       "      <td>0</td>\n",
       "      <td>1</td>\n",
       "      <td>0</td>\n",
       "      <td>0</td>\n",
       "      <td>0</td>\n",
       "      <td>0</td>\n",
       "      <td>0</td>\n",
       "      <td>0</td>\n",
       "      <td>0</td>\n",
       "      <td>0</td>\n",
       "      <td>...</td>\n",
       "      <td>1</td>\n",
       "      <td>0</td>\n",
       "      <td>0</td>\n",
       "      <td>0</td>\n",
       "      <td>0</td>\n",
       "      <td>0</td>\n",
       "      <td>0</td>\n",
       "      <td>0</td>\n",
       "      <td>0</td>\n",
       "      <td>0</td>\n",
       "    </tr>\n",
       "    <tr>\n",
       "      <th>1</th>\n",
       "      <td>0</td>\n",
       "      <td>1</td>\n",
       "      <td>0</td>\n",
       "      <td>0</td>\n",
       "      <td>0</td>\n",
       "      <td>0</td>\n",
       "      <td>0</td>\n",
       "      <td>0</td>\n",
       "      <td>0</td>\n",
       "      <td>0</td>\n",
       "      <td>...</td>\n",
       "      <td>0</td>\n",
       "      <td>0</td>\n",
       "      <td>0</td>\n",
       "      <td>0</td>\n",
       "      <td>0</td>\n",
       "      <td>0</td>\n",
       "      <td>0</td>\n",
       "      <td>0</td>\n",
       "      <td>0</td>\n",
       "      <td>0</td>\n",
       "    </tr>\n",
       "    <tr>\n",
       "      <th>2</th>\n",
       "      <td>0</td>\n",
       "      <td>1</td>\n",
       "      <td>0</td>\n",
       "      <td>0</td>\n",
       "      <td>0</td>\n",
       "      <td>0</td>\n",
       "      <td>0</td>\n",
       "      <td>0</td>\n",
       "      <td>0</td>\n",
       "      <td>0</td>\n",
       "      <td>...</td>\n",
       "      <td>0</td>\n",
       "      <td>0</td>\n",
       "      <td>0</td>\n",
       "      <td>0</td>\n",
       "      <td>0</td>\n",
       "      <td>0</td>\n",
       "      <td>0</td>\n",
       "      <td>0</td>\n",
       "      <td>0</td>\n",
       "      <td>0</td>\n",
       "    </tr>\n",
       "    <tr>\n",
       "      <th>3</th>\n",
       "      <td>0</td>\n",
       "      <td>1</td>\n",
       "      <td>0</td>\n",
       "      <td>0</td>\n",
       "      <td>0</td>\n",
       "      <td>0</td>\n",
       "      <td>0</td>\n",
       "      <td>0</td>\n",
       "      <td>0</td>\n",
       "      <td>0</td>\n",
       "      <td>...</td>\n",
       "      <td>0</td>\n",
       "      <td>0</td>\n",
       "      <td>0</td>\n",
       "      <td>0</td>\n",
       "      <td>0</td>\n",
       "      <td>0</td>\n",
       "      <td>0</td>\n",
       "      <td>0</td>\n",
       "      <td>0</td>\n",
       "      <td>0</td>\n",
       "    </tr>\n",
       "    <tr>\n",
       "      <th>4</th>\n",
       "      <td>0</td>\n",
       "      <td>0</td>\n",
       "      <td>0</td>\n",
       "      <td>0</td>\n",
       "      <td>0</td>\n",
       "      <td>0</td>\n",
       "      <td>0</td>\n",
       "      <td>0</td>\n",
       "      <td>0</td>\n",
       "      <td>0</td>\n",
       "      <td>...</td>\n",
       "      <td>0</td>\n",
       "      <td>0</td>\n",
       "      <td>0</td>\n",
       "      <td>0</td>\n",
       "      <td>0</td>\n",
       "      <td>0</td>\n",
       "      <td>0</td>\n",
       "      <td>0</td>\n",
       "      <td>0</td>\n",
       "      <td>0</td>\n",
       "    </tr>\n",
       "  </tbody>\n",
       "</table>\n",
       "<p>5 rows × 2048 columns</p>\n",
       "</div>"
      ],
      "text/plain": [
       "   bit_id_0  bit_id_1  bit_id_2  bit_id_3  bit_id_4  bit_id_5  bit_id_6   \n",
       "0         0         1         0         0         0         0         0  \\\n",
       "1         0         1         0         0         0         0         0   \n",
       "2         0         1         0         0         0         0         0   \n",
       "3         0         1         0         0         0         0         0   \n",
       "4         0         0         0         0         0         0         0   \n",
       "\n",
       "   bit_id_7  bit_id_8  bit_id_9  ...  bit_id_2038  bit_id_2039  bit_id_2040   \n",
       "0         0         0         0  ...            1            0            0  \\\n",
       "1         0         0         0  ...            0            0            0   \n",
       "2         0         0         0  ...            0            0            0   \n",
       "3         0         0         0  ...            0            0            0   \n",
       "4         0         0         0  ...            0            0            0   \n",
       "\n",
       "   bit_id_2041  bit_id_2042  bit_id_2043  bit_id_2044  bit_id_2045   \n",
       "0            0            0            0            0            0  \\\n",
       "1            0            0            0            0            0   \n",
       "2            0            0            0            0            0   \n",
       "3            0            0            0            0            0   \n",
       "4            0            0            0            0            0   \n",
       "\n",
       "   bit_id_2046  bit_id_2047  \n",
       "0            0            0  \n",
       "1            0            0  \n",
       "2            0            0  \n",
       "3            0            0  \n",
       "4            0            0  \n",
       "\n",
       "[5 rows x 2048 columns]"
      ]
     },
     "execution_count": 14,
     "metadata": {},
     "output_type": "execute_result"
    }
   ],
   "source": [
    "Y = rdkit_fp(data['SMILES'])\n",
    "Y.head()"
   ]
  },
  {
   "cell_type": "code",
   "execution_count": 15,
   "metadata": {
    "colab": {
     "base_uri": "https://localhost:8080/",
     "height": 464
    },
    "id": "7vnEM9cQQpjd",
    "outputId": "d6f11c71-0d91-4939-8d4e-ea9580505e98",
    "tags": []
   },
   "outputs": [
    {
     "data": {
      "text/html": [
       "<div>\n",
       "<style scoped>\n",
       "    .dataframe tbody tr th:only-of-type {\n",
       "        vertical-align: middle;\n",
       "    }\n",
       "\n",
       "    .dataframe tbody tr th {\n",
       "        vertical-align: top;\n",
       "    }\n",
       "\n",
       "    .dataframe thead th {\n",
       "        text-align: right;\n",
       "    }\n",
       "</style>\n",
       "<table border=\"1\" class=\"dataframe\">\n",
       "  <thead>\n",
       "    <tr style=\"text-align: right;\">\n",
       "      <th></th>\n",
       "      <th>Title</th>\n",
       "      <th>SMILES</th>\n",
       "      <th>IC50</th>\n",
       "      <th>bit_id_0</th>\n",
       "      <th>bit_id_1</th>\n",
       "      <th>bit_id_2</th>\n",
       "      <th>bit_id_3</th>\n",
       "      <th>bit_id_4</th>\n",
       "      <th>bit_id_5</th>\n",
       "      <th>bit_id_6</th>\n",
       "      <th>...</th>\n",
       "      <th>bit_id_2038</th>\n",
       "      <th>bit_id_2039</th>\n",
       "      <th>bit_id_2040</th>\n",
       "      <th>bit_id_2041</th>\n",
       "      <th>bit_id_2042</th>\n",
       "      <th>bit_id_2043</th>\n",
       "      <th>bit_id_2044</th>\n",
       "      <th>bit_id_2045</th>\n",
       "      <th>bit_id_2046</th>\n",
       "      <th>bit_id_2047</th>\n",
       "    </tr>\n",
       "  </thead>\n",
       "  <tbody>\n",
       "    <tr>\n",
       "      <th>0</th>\n",
       "      <td>CHEMBL2206459</td>\n",
       "      <td>[H]\\N=C(N)\\N[C@@H](C1)[C@@H](NC(=O)C)[C@@H](C=...</td>\n",
       "      <td>0.000015</td>\n",
       "      <td>0</td>\n",
       "      <td>1</td>\n",
       "      <td>0</td>\n",
       "      <td>0</td>\n",
       "      <td>0</td>\n",
       "      <td>0</td>\n",
       "      <td>0</td>\n",
       "      <td>...</td>\n",
       "      <td>1</td>\n",
       "      <td>0</td>\n",
       "      <td>0</td>\n",
       "      <td>0</td>\n",
       "      <td>0</td>\n",
       "      <td>0</td>\n",
       "      <td>0</td>\n",
       "      <td>0</td>\n",
       "      <td>0</td>\n",
       "      <td>0</td>\n",
       "    </tr>\n",
       "    <tr>\n",
       "      <th>1</th>\n",
       "      <td>CHEMBL3818159</td>\n",
       "      <td>O=C(O)C1=C[C@H](N)[C@@H](NC(=O)C)[C@@H](C1)COC...</td>\n",
       "      <td>0.000016</td>\n",
       "      <td>0</td>\n",
       "      <td>1</td>\n",
       "      <td>0</td>\n",
       "      <td>0</td>\n",
       "      <td>0</td>\n",
       "      <td>0</td>\n",
       "      <td>0</td>\n",
       "      <td>...</td>\n",
       "      <td>0</td>\n",
       "      <td>0</td>\n",
       "      <td>0</td>\n",
       "      <td>0</td>\n",
       "      <td>0</td>\n",
       "      <td>0</td>\n",
       "      <td>0</td>\n",
       "      <td>0</td>\n",
       "      <td>0</td>\n",
       "      <td>0</td>\n",
       "    </tr>\n",
       "    <tr>\n",
       "      <th>2</th>\n",
       "      <td>CHEMBL1956716</td>\n",
       "      <td>C=CC(=O)N[C@H]([C@H](C1)N)[C@@H](C=C1C([O-])=O...</td>\n",
       "      <td>0.000033</td>\n",
       "      <td>0</td>\n",
       "      <td>1</td>\n",
       "      <td>0</td>\n",
       "      <td>0</td>\n",
       "      <td>0</td>\n",
       "      <td>0</td>\n",
       "      <td>0</td>\n",
       "      <td>...</td>\n",
       "      <td>0</td>\n",
       "      <td>0</td>\n",
       "      <td>0</td>\n",
       "      <td>0</td>\n",
       "      <td>0</td>\n",
       "      <td>0</td>\n",
       "      <td>0</td>\n",
       "      <td>0</td>\n",
       "      <td>0</td>\n",
       "      <td>0</td>\n",
       "    </tr>\n",
       "    <tr>\n",
       "      <th>3</th>\n",
       "      <td>CHEMBL1956715</td>\n",
       "      <td>CC(=O)N[C@H]([C@H](C1)N)[C@@H](C=C1C([O-])=O)O...</td>\n",
       "      <td>0.000032</td>\n",
       "      <td>0</td>\n",
       "      <td>1</td>\n",
       "      <td>0</td>\n",
       "      <td>0</td>\n",
       "      <td>0</td>\n",
       "      <td>0</td>\n",
       "      <td>0</td>\n",
       "      <td>...</td>\n",
       "      <td>0</td>\n",
       "      <td>0</td>\n",
       "      <td>0</td>\n",
       "      <td>0</td>\n",
       "      <td>0</td>\n",
       "      <td>0</td>\n",
       "      <td>0</td>\n",
       "      <td>0</td>\n",
       "      <td>0</td>\n",
       "      <td>0</td>\n",
       "    </tr>\n",
       "    <tr>\n",
       "      <th>4</th>\n",
       "      <td>CHEMBL4444029</td>\n",
       "      <td>O=C(O)c1c(O)c(=O)cc([nH]1)-c(c2C)ccc(c2)-c3noc...</td>\n",
       "      <td>0.000041</td>\n",
       "      <td>0</td>\n",
       "      <td>0</td>\n",
       "      <td>0</td>\n",
       "      <td>0</td>\n",
       "      <td>0</td>\n",
       "      <td>0</td>\n",
       "      <td>0</td>\n",
       "      <td>...</td>\n",
       "      <td>0</td>\n",
       "      <td>0</td>\n",
       "      <td>0</td>\n",
       "      <td>0</td>\n",
       "      <td>0</td>\n",
       "      <td>0</td>\n",
       "      <td>0</td>\n",
       "      <td>0</td>\n",
       "      <td>0</td>\n",
       "      <td>0</td>\n",
       "    </tr>\n",
       "  </tbody>\n",
       "</table>\n",
       "<p>5 rows × 2051 columns</p>\n",
       "</div>"
      ],
      "text/plain": [
       "           Title                                             SMILES      IC50   \n",
       "0  CHEMBL2206459  [H]\\N=C(N)\\N[C@@H](C1)[C@@H](NC(=O)C)[C@@H](C=...  0.000015  \\\n",
       "1  CHEMBL3818159  O=C(O)C1=C[C@H](N)[C@@H](NC(=O)C)[C@@H](C1)COC...  0.000016   \n",
       "2  CHEMBL1956716  C=CC(=O)N[C@H]([C@H](C1)N)[C@@H](C=C1C([O-])=O...  0.000033   \n",
       "3  CHEMBL1956715  CC(=O)N[C@H]([C@H](C1)N)[C@@H](C=C1C([O-])=O)O...  0.000032   \n",
       "4  CHEMBL4444029  O=C(O)c1c(O)c(=O)cc([nH]1)-c(c2C)ccc(c2)-c3noc...  0.000041   \n",
       "\n",
       "   bit_id_0  bit_id_1  bit_id_2  bit_id_3  bit_id_4  bit_id_5  bit_id_6  ...   \n",
       "0         0         1         0         0         0         0         0  ...  \\\n",
       "1         0         1         0         0         0         0         0  ...   \n",
       "2         0         1         0         0         0         0         0  ...   \n",
       "3         0         1         0         0         0         0         0  ...   \n",
       "4         0         0         0         0         0         0         0  ...   \n",
       "\n",
       "   bit_id_2038  bit_id_2039  bit_id_2040  bit_id_2041  bit_id_2042   \n",
       "0            1            0            0            0            0  \\\n",
       "1            0            0            0            0            0   \n",
       "2            0            0            0            0            0   \n",
       "3            0            0            0            0            0   \n",
       "4            0            0            0            0            0   \n",
       "\n",
       "   bit_id_2043  bit_id_2044  bit_id_2045  bit_id_2046  bit_id_2047  \n",
       "0            0            0            0            0            0  \n",
       "1            0            0            0            0            0  \n",
       "2            0            0            0            0            0  \n",
       "3            0            0            0            0            0  \n",
       "4            0            0            0            0            0  \n",
       "\n",
       "[5 rows x 2051 columns]"
      ]
     },
     "execution_count": 15,
     "metadata": {},
     "output_type": "execute_result"
    }
   ],
   "source": [
    "data_fp = data.join(Y)\n",
    "data_fp.head()"
   ]
  },
  {
   "cell_type": "code",
   "execution_count": 18,
   "metadata": {
    "id": "jJhGdYqbR3cC",
    "tags": []
   },
   "outputs": [],
   "source": [
    "data_fp.to_csv('data_fp.csv')"
   ]
  },
  {
   "cell_type": "code",
   "execution_count": null,
   "metadata": {
    "colab": {
     "base_uri": "https://localhost:8080/",
     "height": 256
    },
    "id": "vAUBHlAKUyWA",
    "outputId": "4440d370-3341-4c0d-b30a-d3ee21a3eec7",
    "tags": []
   },
   "outputs": [],
   "source": [
    "Z = rdkit_2d(data['SMILES'])\n",
    "Z.head()"
   ]
  },
  {
   "cell_type": "code",
   "execution_count": 20,
   "metadata": {
    "colab": {
     "base_uri": "https://localhost:8080/",
     "height": 464
    },
    "id": "TINOOrlxVDId",
    "outputId": "c72cf118-26c8-479a-ca32-978a9ec3e78d",
    "tags": []
   },
   "outputs": [
    {
     "ename": "NameError",
     "evalue": "name 'Z' is not defined",
     "output_type": "error",
     "traceback": [
      "\u001b[1;31m---------------------------------------------------------------------------\u001b[0m",
      "\u001b[1;31mNameError\u001b[0m                                 Traceback (most recent call last)",
      "Cell \u001b[1;32mIn[20], line 1\u001b[0m\n\u001b[1;32m----> 1\u001b[0m data_2d \u001b[38;5;241m=\u001b[39m data\u001b[38;5;241m.\u001b[39mjoin(\u001b[43mZ\u001b[49m)\n\u001b[0;32m      2\u001b[0m data_2d\u001b[38;5;241m.\u001b[39mhead()\n",
      "\u001b[1;31mNameError\u001b[0m: name 'Z' is not defined"
     ]
    }
   ],
   "source": [
    "data_2d = data.join(Z)\n",
    "data_2d.head()"
   ]
  },
  {
   "cell_type": "code",
   "execution_count": null,
   "metadata": {
    "id": "sXHcfqzbV35I",
    "tags": []
   },
   "outputs": [],
   "source": [
    "data_2d.to_csv('data_2d.csv')"
   ]
  },
  {
   "cell_type": "code",
   "execution_count": 16,
   "metadata": {
    "tags": []
   },
   "outputs": [
    {
     "name": "stdout",
     "output_type": "stream",
     "text": [
      "^C\n",
      "Note: you may need to restart the kernel to use updated packages.\n"
     ]
    }
   ],
   "source": []
  },
  {
   "cell_type": "code",
   "execution_count": null,
   "metadata": {},
   "outputs": [],
   "source": []
  },
  {
   "cell_type": "code",
   "execution_count": null,
   "metadata": {},
   "outputs": [],
   "source": [
    "cat_columns = ['']"
   ]
  }
 ],
 "metadata": {
  "colab": {
   "provenance": []
  },
  "kernelspec": {
   "display_name": "Python 3 (ipykernel)",
   "language": "python",
   "name": "python3"
  },
  "language_info": {
   "codemirror_mode": {
    "name": "ipython",
    "version": 3
   },
   "file_extension": ".py",
   "mimetype": "text/x-python",
   "name": "python",
   "nbconvert_exporter": "python",
   "pygments_lexer": "ipython3",
   "version": "3.10.10"
  }
 },
 "nbformat": 4,
 "nbformat_minor": 4
}
