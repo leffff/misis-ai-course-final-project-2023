{
 "cells": [
  {
   "cell_type": "markdown",
   "id": "1ebc4008-116f-45d5-a022-412e35d29cec",
   "metadata": {},
   "source": [
    "# Libraries"
   ]
  },
  {
   "cell_type": "code",
   "execution_count": 3,
   "id": "cef59150-b13e-40c3-9f61-f848a2e5b214",
   "metadata": {},
   "outputs": [
    {
     "name": "stderr",
     "output_type": "stream",
     "text": [
      "/home/leffff/PycharmProjects/misis-ai-course-final-project-2023/.venv/lib/python3.10/site-packages/tqdm/auto.py:21: TqdmWarning: IProgress not found. Please update jupyter and ipywidgets. See https://ipywidgets.readthedocs.io/en/stable/user_install.html\n",
      "  from .autonotebook import tqdm as notebook_tqdm\n"
     ]
    }
   ],
   "source": [
    "import random\n",
    "\n",
    "from tqdm.auto import tqdm\n",
    "import numpy as np\n",
    "import pandas as pd\n",
    "import torch\n",
    "from torch.utils.data import Subset\n",
    "from torch.optim import AdamW\n",
    "\n",
    "from transformers.optimization import get_cosine_schedule_with_warmup\n",
    "import torch_geometric as pyg\n",
    "from torch_geometric.nn.pool import global_mean_pool\n",
    "from torch_geometric.data import Dataset, DataLoader\n",
    "from sklearn.model_selection import train_test_split\n",
    "from sklearn.metrics import r2_score"
   ]
  },
  {
   "cell_type": "markdown",
   "id": "9f7dcd04-cc86-477b-bf5c-0a863ca5a454",
   "metadata": {},
   "source": [
    "# Config"
   ]
  },
  {
   "cell_type": "code",
   "execution_count": 4,
   "id": "24fa92b6-c00c-4832-8572-023ec0476eb0",
   "metadata": {},
   "outputs": [],
   "source": [
    "def seed_everything(seed_value):\n",
    "    random.seed(seed_value)\n",
    "    np.random.seed(seed_value)\n",
    "    torch.manual_seed(seed_value)\n",
    "    if torch.cuda.is_available():\n",
    "        torch.cuda.manual_seed(seed_value)\n",
    "        torch.cuda.manual_seed_all(seed_value)\n",
    "        # torch.backends.cudnn.benchmark = True\n",
    "        torch.backends.cudnn.deterministic = False\n",
    "        \n"
   ]
  },
  {
   "cell_type": "code",
   "execution_count": 5,
   "id": "3515f89e-c9c2-42eb-830a-46ce3ae2b1a9",
   "metadata": {},
   "outputs": [],
   "source": [
    "from dataclasses import dataclass\n",
    "from typing import Tuple\n",
    "\n",
    "@dataclass\n",
    "class TrainingConfig:\n",
    "    # Training\n",
    "    batch_size = 2048\n",
    "    epochs = 50\n",
    "    learning_rate = 1e-2\n",
    "    lr_warmup_steps = 500\n",
    "\n",
    "    device = \"cuda\"\n",
    "    random_state = 42\n",
    "\n",
    "\n",
    "config = TrainingConfig()\n",
    "seed_everything(config.random_state)"
   ]
  },
  {
   "cell_type": "markdown",
   "id": "9a734c24-6592-4239-8894-df3fd58b7645",
   "metadata": {},
   "source": [
    "# Data"
   ]
  },
  {
   "cell_type": "code",
   "execution_count": 6,
   "id": "5dfec7b9-27e9-4ae2-89f5-e5f22081954e",
   "metadata": {},
   "outputs": [
    {
     "data": {
      "text/html": [
       "<div>\n",
       "<style scoped>\n",
       "    .dataframe tbody tr th:only-of-type {\n",
       "        vertical-align: middle;\n",
       "    }\n",
       "\n",
       "    .dataframe tbody tr th {\n",
       "        vertical-align: top;\n",
       "    }\n",
       "\n",
       "    .dataframe thead th {\n",
       "        text-align: right;\n",
       "    }\n",
       "</style>\n",
       "<table border=\"1\" class=\"dataframe\">\n",
       "  <thead>\n",
       "    <tr style=\"text-align: right;\">\n",
       "      <th></th>\n",
       "      <th>Title</th>\n",
       "      <th>IC50</th>\n",
       "      <th>SMILES</th>\n",
       "    </tr>\n",
       "  </thead>\n",
       "  <tbody>\n",
       "    <tr>\n",
       "      <th>0</th>\n",
       "      <td>CHEMBL2206459</td>\n",
       "      <td>0.000015</td>\n",
       "      <td>[H]\\N=C(N)\\N[C@@H](C1)[C@@H](NC(=O)C)[C@@H](C=...</td>\n",
       "    </tr>\n",
       "    <tr>\n",
       "      <th>1</th>\n",
       "      <td>CHEMBL3818159</td>\n",
       "      <td>0.000016</td>\n",
       "      <td>O=C(O)C1=C[C@H](N)[C@@H](NC(=O)C)[C@@H](C1)COC...</td>\n",
       "    </tr>\n",
       "    <tr>\n",
       "      <th>2</th>\n",
       "      <td>CHEMBL1956716</td>\n",
       "      <td>0.000033</td>\n",
       "      <td>C=CC(=O)N[C@H]([C@H](C1)N)[C@@H](C=C1C([O-])=O...</td>\n",
       "    </tr>\n",
       "    <tr>\n",
       "      <th>3</th>\n",
       "      <td>CHEMBL1956715</td>\n",
       "      <td>0.000032</td>\n",
       "      <td>CC(=O)N[C@H]([C@H](C1)N)[C@@H](C=C1C([O-])=O)O...</td>\n",
       "    </tr>\n",
       "    <tr>\n",
       "      <th>4</th>\n",
       "      <td>CHEMBL4444029</td>\n",
       "      <td>0.000041</td>\n",
       "      <td>O=C(O)c1c(O)c(=O)cc([nH]1)-c(c2C)ccc(c2)-c3noc...</td>\n",
       "    </tr>\n",
       "    <tr>\n",
       "      <th>...</th>\n",
       "      <td>...</td>\n",
       "      <td>...</td>\n",
       "      <td>...</td>\n",
       "    </tr>\n",
       "    <tr>\n",
       "      <th>36372</th>\n",
       "      <td>CHEMBL3699085</td>\n",
       "      <td>2366.790000</td>\n",
       "      <td>CC(=O)N[C@H]1CC[C@@H]([C@@H]12)[C@@H](O[Si](C)...</td>\n",
       "    </tr>\n",
       "    <tr>\n",
       "      <th>36373</th>\n",
       "      <td>CHEMBL109004</td>\n",
       "      <td>2372.100000</td>\n",
       "      <td>CC(=O)Nc(cc1)c(OC(=O)C)cc1C(=O)O</td>\n",
       "    </tr>\n",
       "    <tr>\n",
       "      <th>36374</th>\n",
       "      <td>CHEMBL2259758</td>\n",
       "      <td>2600.970000</td>\n",
       "      <td>c1cccc(c12)cccc2CNC(=O)CCCCCCO[C@]3(C(=O)O)C[C...</td>\n",
       "    </tr>\n",
       "    <tr>\n",
       "      <th>36375</th>\n",
       "      <td>CHEMBL109781</td>\n",
       "      <td>2793.000000</td>\n",
       "      <td>NCCCC(=O)Nc(c(cc1)NC(=O)C)cc1C(=O)O</td>\n",
       "    </tr>\n",
       "    <tr>\n",
       "      <th>36376</th>\n",
       "      <td>CHEMBL3699084</td>\n",
       "      <td>3183.600000</td>\n",
       "      <td>CC(=O)N[C@H]1CS(=O)(=O)[C@@H]([C@@H]12)[C@@H](...</td>\n",
       "    </tr>\n",
       "  </tbody>\n",
       "</table>\n",
       "<p>36377 rows × 3 columns</p>\n",
       "</div>"
      ],
      "text/plain": [
       "               Title         IC50  \\\n",
       "0      CHEMBL2206459     0.000015   \n",
       "1      CHEMBL3818159     0.000016   \n",
       "2      CHEMBL1956716     0.000033   \n",
       "3      CHEMBL1956715     0.000032   \n",
       "4      CHEMBL4444029     0.000041   \n",
       "...              ...          ...   \n",
       "36372  CHEMBL3699085  2366.790000   \n",
       "36373   CHEMBL109004  2372.100000   \n",
       "36374  CHEMBL2259758  2600.970000   \n",
       "36375   CHEMBL109781  2793.000000   \n",
       "36376  CHEMBL3699084  3183.600000   \n",
       "\n",
       "                                                  SMILES  \n",
       "0      [H]\\N=C(N)\\N[C@@H](C1)[C@@H](NC(=O)C)[C@@H](C=...  \n",
       "1      O=C(O)C1=C[C@H](N)[C@@H](NC(=O)C)[C@@H](C1)COC...  \n",
       "2      C=CC(=O)N[C@H]([C@H](C1)N)[C@@H](C=C1C([O-])=O...  \n",
       "3      CC(=O)N[C@H]([C@H](C1)N)[C@@H](C=C1C([O-])=O)O...  \n",
       "4      O=C(O)c1c(O)c(=O)cc([nH]1)-c(c2C)ccc(c2)-c3noc...  \n",
       "...                                                  ...  \n",
       "36372  CC(=O)N[C@H]1CC[C@@H]([C@@H]12)[C@@H](O[Si](C)...  \n",
       "36373                   CC(=O)Nc(cc1)c(OC(=O)C)cc1C(=O)O  \n",
       "36374  c1cccc(c12)cccc2CNC(=O)CCCCCCO[C@]3(C(=O)O)C[C...  \n",
       "36375                NCCCC(=O)Nc(c(cc1)NC(=O)C)cc1C(=O)O  \n",
       "36376  CC(=O)N[C@H]1CS(=O)(=O)[C@@H]([C@@H]12)[C@@H](...  \n",
       "\n",
       "[36377 rows x 3 columns]"
      ]
     },
     "execution_count": 6,
     "metadata": {},
     "output_type": "execute_result"
    }
   ],
   "source": [
    "df = pd.read_excel(\"data/19_35000.xlsx\", index_col=0).reset_index(drop=True)\n",
    "df"
   ]
  },
  {
   "cell_type": "markdown",
   "id": "460a9046-1d2e-41ed-ba06-25345776a84a",
   "metadata": {},
   "source": [
    "## Clean"
   ]
  },
  {
   "cell_type": "code",
   "execution_count": 7,
   "id": "ec1428fb-9024-4627-9c9c-a27b480d86dd",
   "metadata": {},
   "outputs": [
    {
     "data": {
      "text/plain": [
       "18.60923999999996"
      ]
     },
     "execution_count": 7,
     "metadata": {},
     "output_type": "execute_result"
    }
   ],
   "source": [
    "perc = np.percentile(df[\"IC50\"], 96.5)\n",
    "perc"
   ]
  },
  {
   "cell_type": "code",
   "execution_count": 8,
   "id": "207763c1-a17e-47a4-9ea1-ea40d7b1c521",
   "metadata": {},
   "outputs": [
    {
     "data": {
      "text/plain": [
       "<seaborn.axisgrid.FacetGrid at 0x7e8f428c57e0>"
      ]
     },
     "execution_count": 8,
     "metadata": {},
     "output_type": "execute_result"
    },
    {
     "data": {
      "image/png": "[encoded data removed]",
      "text/plain": [
       "<Figure size 500x500 with 1 Axes>"
      ]
     },
     "metadata": {},
     "output_type": "display_data"
    }
   ],
   "source": [
    "import seaborn as sns\n",
    "sns.displot(df[\"IC50\"][df[\"IC50\"] <= perc])"
   ]
  },
  {
   "cell_type": "code",
   "execution_count": 9,
   "id": "36aa6ca3-b795-4f07-8682-415dc54991d2",
   "metadata": {},
   "outputs": [],
   "source": [
    "df = df[df[\"IC50\"] <= perc]"
   ]
  },
  {
   "cell_type": "code",
   "execution_count": 10,
   "id": "9217b3cd-24a3-4900-9382-fe3e42c1fe66",
   "metadata": {},
   "outputs": [
    {
     "data": {
      "image/jpeg": "[encoded data removed]",
      "image/png": "[encoded data removed]",
      "text/plain": [
       "<PIL.PngImagePlugin.PngImageFile image mode=RGB size=300x300>"
      ]
     },
     "execution_count": 10,
     "metadata": {},
     "output_type": "execute_result"
    }
   ],
   "source": [
    "from rdkit import Chem\n",
    "from rdkit.Chem import Draw\n",
    "\n",
    "m = Chem.MolFromSmiles(df[\"SMILES\"].tolist()[1])\n",
    "img = Draw.MolToImage(m)\n",
    "img"
   ]
  },
  {
   "cell_type": "code",
   "execution_count": 11,
   "id": "5f030c57-6676-4fc3-89cc-e1d9d8073835",
   "metadata": {},
   "outputs": [],
   "source": [
    "x = pyg.utils.smiles.from_smiles(df[\"SMILES\"].tolist()[1])"
   ]
  },
  {
   "cell_type": "code",
   "execution_count": 12,
   "id": "18c891e7-9ed5-42ea-827c-84e8f9b7b464",
   "metadata": {},
   "outputs": [],
   "source": [
    "class MolDataset(Dataset):\n",
    "    def __init__(self, df):\n",
    "        super(MolDataset, self).__init__()\n",
    "        self.smiles = df[\"SMILES\"].tolist()\n",
    "        self.target = df[\"IC50\"].tolist()\n",
    "        \n",
    "    def __len__(self):\n",
    "        return len(self.smiles)\n",
    "        \n",
    "        \n",
    "    def __getitem__(self, idx):\n",
    "        x = pyg.utils.smiles.from_smiles(self.smiles[idx])\n",
    "        return x, self.target[idx]"
   ]
  },
  {
   "cell_type": "code",
   "execution_count": 13,
   "id": "ffd2ada7-9338-4c18-84c6-7b52e62f8ae0",
   "metadata": {
    "scrolled": true
   },
   "outputs": [
    {
     "data": {
      "text/plain": [
       "array([30180, 34316, 16570, ..., 11284,   860, 15795])"
      ]
     },
     "execution_count": 13,
     "metadata": {},
     "output_type": "execute_result"
    }
   ],
   "source": [
    "train_inds, test_inds = train_test_split(np.arange(df.shape[0]))\n",
    "train_inds"
   ]
  },
  {
   "cell_type": "code",
   "execution_count": 14,
   "id": "98d8897b-6df0-427b-a694-ffa31df8d674",
   "metadata": {},
   "outputs": [
    {
     "name": "stderr",
     "output_type": "stream",
     "text": [
      "/home/leffff/PycharmProjects/misis-ai-course-final-project-2023/.venv/lib/python3.10/site-packages/torch_geometric/deprecation.py:26: UserWarning: 'data.DataLoader' is deprecated, use 'loader.DataLoader' instead\n",
      "  warnings.warn(out)\n"
     ]
    }
   ],
   "source": [
    "dataset = MolDataset(df)\n",
    "\n",
    "train_loader = DataLoader(\n",
    "    Subset(dataset, train_inds),\n",
    "    shuffle=True,\n",
    "    batch_size=config.batch_size\n",
    ")\n",
    "\n",
    "eval_loader = DataLoader(\n",
    "    Subset(dataset, test_inds),\n",
    "    shuffle=True,\n",
    "    batch_size=config.batch_size\n",
    ")"
   ]
  },
  {
   "cell_type": "code",
   "execution_count": 15,
   "id": "b8332d51-2ebc-41be-9e7b-098f6cec119b",
   "metadata": {},
   "outputs": [
    {
     "name": "stderr",
     "output_type": "stream",
     "text": [
      "100%|█████████████████████████████████████████████████████████████████████████████████████████████████████████████████████████████████████████████████████████████████████████████| 35103/35103 [00:35<00:00, 991.23it/s]\n"
     ]
    }
   ],
   "source": [
    "all_node_features = []\n",
    "all_edge_features = []\n",
    "\n",
    "for i in tqdm(range(len(dataset))):\n",
    "    all_node_features.append(dataset[i][0].x)\n",
    "    all_edge_features.append(dataset[i][0].edge_attr)\n",
    "\n",
    "all_node_features = torch.cat(all_node_features, dim=0)\n",
    "all_edge_features = torch.cat(all_edge_features, dim=0)"
   ]
  },
  {
   "cell_type": "code",
   "execution_count": 16,
   "id": "f349d02d-14cc-4170-85e4-1b6b337dbedf",
   "metadata": {},
   "outputs": [
    {
     "data": {
      "text/plain": [
       "torch.Size([878736, 9])"
      ]
     },
     "execution_count": 16,
     "metadata": {},
     "output_type": "execute_result"
    }
   ],
   "source": [
    "all_node_features.shape"
   ]
  },
  {
   "cell_type": "code",
   "execution_count": 17,
   "id": "dae0c112-2a48-42ee-9feb-bd5d18225658",
   "metadata": {},
   "outputs": [
    {
     "name": "stdout",
     "output_type": "stream",
     "text": [
      "tensor([ 1,  5,  6,  7,  8,  9, 11, 14, 15, 16, 17, 30, 34, 35, 53])\n",
      "tensor([0, 1, 2])\n",
      "tensor([0, 1, 2, 3, 4])\n",
      "tensor([4, 5, 6, 7])\n",
      "tensor([0, 1, 2, 3])\n",
      "tensor([0])\n",
      "tensor([1, 2, 3, 4])\n",
      "tensor([0, 1])\n",
      "tensor([0, 1])\n"
     ]
    },
    {
     "data": {
      "text/plain": [
       "[54, 3, 5, 8, 4, 1, 5, 2, 2]"
      ]
     },
     "execution_count": 17,
     "metadata": {},
     "output_type": "execute_result"
    }
   ],
   "source": [
    "node_vocab_sizes = []\n",
    "\n",
    "for i in range(9):\n",
    "    inds, counts = all_node_features[:, i].unique(return_counts=True)\n",
    "    print(inds)\n",
    "    node_vocab_sizes.append(inds.max().item() + 1)\n",
    "\n",
    "node_vocab_sizes"
   ]
  },
  {
   "cell_type": "code",
   "execution_count": 18,
   "id": "ba3eb88e-c645-4ad0-b9e7-f189ef242c53",
   "metadata": {},
   "outputs": [
    {
     "name": "stdout",
     "output_type": "stream",
     "text": [
      "tensor([ 1,  2,  3, 12])\n",
      "tensor([0, 2, 3])\n",
      "tensor([0, 1])\n"
     ]
    },
    {
     "data": {
      "text/plain": [
       "[13, 4, 2]"
      ]
     },
     "execution_count": 18,
     "metadata": {},
     "output_type": "execute_result"
    }
   ],
   "source": [
    "edge_vocab_sizes = []\n",
    "\n",
    "for i in range(3):\n",
    "    inds, counts = all_edge_features[:, i].unique(return_counts=True)\n",
    "    print(inds)\n",
    "    edge_vocab_sizes.append(inds.max().item() + 1)\n",
    "\n",
    "edge_vocab_sizes"
   ]
  },
  {
   "cell_type": "markdown",
   "id": "f2fec7dc-fbcf-4bc1-8b78-2ff81a3dd90f",
   "metadata": {},
   "source": [
    "# Model"
   ]
  },
  {
   "cell_type": "code",
   "execution_count": 19,
   "id": "7bd08aec-9cd3-4b23-b6ae-21826313db11",
   "metadata": {},
   "outputs": [
    {
     "data": {
      "text/plain": [
       "RegresisionGNN(\n",
       "  (node_encoders): ModuleList(\n",
       "    (0): Embedding(54, 64)\n",
       "    (1): Embedding(3, 64)\n",
       "    (2): Embedding(5, 64)\n",
       "    (3): Embedding(8, 64)\n",
       "    (4): Embedding(4, 64)\n",
       "    (5): Embedding(1, 64)\n",
       "    (6): Embedding(5, 64)\n",
       "    (7-8): 2 x Embedding(2, 64)\n",
       "  )\n",
       "  (edge_encoders): ModuleList(\n",
       "    (0): Embedding(13, 64)\n",
       "    (1): Embedding(4, 64)\n",
       "    (2): Embedding(2, 64)\n",
       "  )\n",
       "  (backbone): GAT(576, 64, num_layers=8)\n",
       "  (out): Linear(64, 1, bias=True)\n",
       ")"
      ]
     },
     "execution_count": 19,
     "metadata": {},
     "output_type": "execute_result"
    }
   ],
   "source": [
    "from torch import nn\n",
    "\n",
    "class RegresisionGNN(torch.nn.Module):\n",
    "    def __init__(self, node_vocab_sizes, edge_vocab_sizes, backbone, hidden_dim, backbone_dim, pooling_f=global_mean_pool):\n",
    "        super(RegresisionGNN, self).__init__()\n",
    "        self.node_vocab_sizes, self.edge_vocab_sizes = node_vocab_sizes, edge_vocab_sizes\n",
    "        self.node_encoders = nn.ModuleList([nn.Embedding(size, hidden_dim) for size in node_vocab_sizes])\n",
    "        self.edge_encoders = nn.ModuleList([nn.Embedding(size, hidden_dim) for size in edge_vocab_sizes])\n",
    "        \n",
    "        self.backbone = backbone\n",
    "        self.pooling = pooling_f\n",
    "        self.out = pyg.nn.Linear(backbone_dim, 1)\n",
    "\n",
    "    def forward(self, data):\n",
    "        x, edge_index, edge_attr, batch = data.x, data.edge_index, data.edge_attr, data.batch\n",
    "\n",
    "        x = torch.cat([self.node_encoders[i](x[:, i]) for i in range(x.shape[1])], dim=1)\n",
    "        edge_attr = torch.cat([self.edge_encoders[i](edge_attr[:, i]) for i in range(edge_attr.shape[1])], dim=1)\n",
    "        \n",
    "        node_features = self.backbone(\n",
    "            x=x, \n",
    "            edge_index=edge_index, \n",
    "            edge_attr=edge_attr\n",
    "        )\n",
    "\n",
    "        batch_features = self.pooling(node_features, batch)\n",
    "        \n",
    "        return self.out(batch_features)\n",
    "\n",
    "hidden_dim = 64\n",
    "backbone = pyg.nn.models.GAT(in_channels=hidden_dim * 9, hidden_channels=hidden_dim * 2, num_layers=8, out_channels=hidden_dim)\n",
    "model = RegresisionGNN(node_vocab_sizes, edge_vocab_sizes, backbone, hidden_dim=hidden_dim, backbone_dim=hidden_dim)\n",
    "model"
   ]
  },
  {
   "cell_type": "code",
   "execution_count": 20,
   "id": "d496812c-9b82-491c-91d3-204d89ab5acb",
   "metadata": {},
   "outputs": [],
   "source": [
    "optimizer = AdamW(model.parameters(), lr=config.learning_rate)\n",
    "\n",
    "scheduler = get_cosine_schedule_with_warmup(\n",
    "    optimizer=optimizer,\n",
    "    num_warmup_steps=config.lr_warmup_steps,\n",
    "    num_training_steps=(len(train_loader) * config.epochs),\n",
    ")\n",
    "\n",
    "loss_function = torch.nn.L1Loss()"
   ]
  },
  {
   "cell_type": "markdown",
   "id": "a1925f62-5f17-4f91-b3a4-aca03161d86c",
   "metadata": {},
   "source": [
    "# Let's Train"
   ]
  },
  {
   "cell_type": "code",
   "execution_count": 21,
   "id": "5e927538-9813-4dc1-9d13-8e5896095350",
   "metadata": {},
   "outputs": [],
   "source": [
    "def train_epoch(model, loader, loss_function, optimizer, scheduler, device):\n",
    "    model.train()\n",
    "    model.to(device)\n",
    "    loss_function.to(device)\n",
    "    \n",
    "    preds = []\n",
    "    targets = []\n",
    "    total_loss = 0.\n",
    "    \n",
    "    for batch in tqdm(loader):\n",
    "        data, y = batch\n",
    "        data, y = data.to(device), y.to(device)\n",
    "        output = model(data)\n",
    "        \n",
    "        loss = loss_function(output.flatten(),y.flatten())\n",
    "        \n",
    "        total_loss += loss.item()\n",
    "        \n",
    "        loss.backward()\n",
    "        torch.nn.utils.clip_grad_norm_(model.parameters(), 1.0)\n",
    "        optimizer.step()\n",
    "        scheduler.step()\n",
    "        optimizer.zero_grad()\n",
    "\n",
    "        preds.append(output.flatten())\n",
    "        targets.append(y.flatten())\n",
    "    \n",
    "    preds = torch.cat(preds, dim=0).sigmoid().detach().cpu()\n",
    "    targets = torch.cat(targets, dim=0).detach().cpu()\n",
    "    mae = loss_function(targets, preds).item()\n",
    "\n",
    "    return {\"TRAIN Loss\": {total_loss / len(loader)}, \"MAE\": {mae}, \"R2\": r2_score(targets.numpy(), preds.numpy())}\n",
    "        \n",
    "        \n",
    "def eval_epoch(model, loader, loss_function, device):\n",
    "    model.eval()\n",
    "    model.to(device)\n",
    "    loss_function.to(device)\n",
    "    \n",
    "    preds = []\n",
    "    targets = []\n",
    "    total_loss = 0.\n",
    "    \n",
    "    for batch in tqdm(loader):\n",
    "        data, y = batch\n",
    "        data, y = data.to(device), y.to(device)\n",
    "        \n",
    "        with torch.no_grad():\n",
    "            output = model(data)\n",
    "        \n",
    "        loss = loss_function(output.flatten(),y.flatten())\n",
    "        \n",
    "        total_loss += loss.item()\n",
    "        \n",
    "        preds.append(output.flatten())\n",
    "        targets.append(y.flatten())\n",
    "    \n",
    "    preds = torch.cat(preds, dim=0).sigmoid().detach().cpu()\n",
    "    targets = torch.cat(targets, dim=0).detach().cpu()\n",
    "    mae = loss_function(targets, preds).item()\n",
    "\n",
    "    return {\"EVAL Loss\": {total_loss / len(loader)}, \"MAE\": {mae}, \"R2\": r2_score(targets.numpy(), preds.numpy())}"
   ]
  },
  {
   "cell_type": "code",
   "execution_count": null,
   "id": "567a2647-3aa4-44ad-bb5d-d5041c725608",
   "metadata": {
    "scrolled": true
   },
   "outputs": [
    {
     "name": "stderr",
     "output_type": "stream",
     "text": [
      "100%|████████████████████████████████████████████████████████████████████████████████████████████████████████████████████████████████████████████████████████████████████████████████████| 13/13 [00:15<00:00,  1.16s/it]\n",
      "100%|██████████████████████████████████████████████████████████████████████████████████████████████████████████████████████████████████████████████████████████████████████████████████████| 5/5 [00:04<00:00,  1.07it/s]\n"
     ]
    },
    {
     "name": "stdout",
     "output_type": "stream",
     "text": [
      "{'TRAIN Loss': {3.8340923969562235}, 'MAE': {3.4734015464782715}, 'R2': -1.3936500568759573} {'EVAL Loss': {3.428259181976318}, 'MAE': {3.38666033744812}, 'R2': -1.2951836542414967}\n"
     ]
    },
    {
     "name": "stderr",
     "output_type": "stream",
     "text": [
      "100%|████████████████████████████████████████████████████████████████████████████████████████████████████████████████████████████████████████████████████████████████████████████████████| 13/13 [00:14<00:00,  1.10s/it]\n",
      "100%|██████████████████████████████████████████████████████████████████████████████████████████████████████████████████████████████████████████████████████████████████████████████████████| 5/5 [00:04<00:00,  1.09it/s]\n"
     ]
    },
    {
     "name": "stdout",
     "output_type": "stream",
     "text": [
      "{'TRAIN Loss': {2.7605194862072286}, 'MAE': {3.2127327919006348}, 'R2': -1.1267231779013467} {'EVAL Loss': {2.959074068069458}, 'MAE': {3.1367979049682617}, 'R2': -1.0368442509652804}\n"
     ]
    },
    {
     "name": "stderr",
     "output_type": "stream",
     "text": [
      "100%|████████████████████████████████████████████████████████████████████████████████████████████████████████████████████████████████████████████████████████████████████████████████████| 13/13 [00:14<00:00,  1.11s/it]\n",
      "100%|██████████████████████████████████████████████████████████████████████████████████████████████████████████████████████████████████████████████████████████████████████████████████████| 5/5 [00:04<00:00,  1.04it/s]\n"
     ]
    },
    {
     "name": "stdout",
     "output_type": "stream",
     "text": [
      "{'TRAIN Loss': {2.4009743470412035}, 'MAE': {3.144059181213379}, 'R2': -1.055461999518824} {'EVAL Loss': {2.283462715148926}, 'MAE': {3.1455187797546387}, 'R2': -1.0461164515977215}\n"
     ]
    },
    {
     "name": "stderr",
     "output_type": "stream",
     "text": [
      "100%|████████████████████████████████████████████████████████████████████████████████████████████████████████████████████████████████████████████████████████████████████████████████████| 13/13 [00:14<00:00,  1.12s/it]\n",
      "100%|██████████████████████████████████████████████████████████████████████████████████████████████████████████████████████████████████████████████████████████████████████████████████████| 5/5 [00:04<00:00,  1.04it/s]\n"
     ]
    },
    {
     "name": "stdout",
     "output_type": "stream",
     "text": [
      "{'TRAIN Loss': {2.24080281991225}, 'MAE': {3.143326997756958}, 'R2': -1.054748962345451} {'EVAL Loss': {2.241265869140625}, 'MAE': {3.155529260635376}, 'R2': -1.056681980888356}\n"
     ]
    },
    {
     "name": "stderr",
     "output_type": "stream",
     "text": [
      "100%|████████████████████████████████████████████████████████████████████████████████████████████████████████████████████████████████████████████████████████████████████████████████████| 13/13 [00:14<00:00,  1.12s/it]\n",
      "100%|██████████████████████████████████████████████████████████████████████████████████████████████████████████████████████████████████████████████████████████████████████████████████████| 5/5 [00:04<00:00,  1.04it/s]\n"
     ]
    },
    {
     "name": "stdout",
     "output_type": "stream",
     "text": [
      "{'TRAIN Loss': {2.219804433675913}, 'MAE': {3.1434028148651123}, 'R2': -1.0548596128686052} {'EVAL Loss': {2.2296630859375}, 'MAE': {3.150761604309082}, 'R2': -1.0517997755277033}\n"
     ]
    },
    {
     "name": "stderr",
     "output_type": "stream",
     "text": [
      "100%|████████████████████████████████████████████████████████████████████████████████████████████████████████████████████████████████████████████████████████████████████████████████████| 13/13 [00:13<00:00,  1.07s/it]\n",
      "100%|██████████████████████████████████████████████████████████████████████████████████████████████████████████████████████████████████████████████████████████████████████████████████████| 5/5 [00:04<00:00,  1.06it/s]\n"
     ]
    },
    {
     "name": "stdout",
     "output_type": "stream",
     "text": [
      "{'TRAIN Loss': {2.2154713043799767}, 'MAE': {3.1445560455322266}, 'R2': -1.0562603696057669} {'EVAL Loss': {2.2570724964141844}, 'MAE': {3.1601929664611816}, 'R2': -1.062145115266686}\n"
     ]
    },
    {
     "name": "stderr",
     "output_type": "stream",
     "text": [
      "100%|████████████████████████████████████████████████████████████████████████████████████████████████████████████████████████████████████████████████████████████████████████████████████| 13/13 [00:13<00:00,  1.05s/it]\n",
      "100%|██████████████████████████████████████████████████████████████████████████████████████████████████████████████████████████████████████████████████████████████████████████████████████| 5/5 [00:04<00:00,  1.08it/s]\n"
     ]
    },
    {
     "name": "stdout",
     "output_type": "stream",
     "text": [
      "{'TRAIN Loss': {2.2064348000746508}, 'MAE': {3.145014762878418}, 'R2': -1.0572232985778665} {'EVAL Loss': {2.2146088600158693}, 'MAE': {3.1571364402770996}, 'R2': -1.0596389619811473}\n"
     ]
    },
    {
     "name": "stderr",
     "output_type": "stream",
     "text": [
      "100%|████████████████████████████████████████████████████████████████████████████████████████████████████████████████████████████████████████████████████████████████████████████████████| 13/13 [00:13<00:00,  1.06s/it]\n",
      "100%|██████████████████████████████████████████████████████████████████████████████████████████████████████████████████████████████████████████████████████████████████████████████████████| 5/5 [00:04<00:00,  1.07it/s]\n"
     ]
    },
    {
     "name": "stdout",
     "output_type": "stream",
     "text": [
      "{'TRAIN Loss': {2.189027877954336}, 'MAE': {3.143913507461548}, 'R2': -1.0566837244698366} {'EVAL Loss': {2.246701192855835}, 'MAE': {3.1648552417755127}, 'R2': -1.069312442449804}\n"
     ]
    },
    {
     "name": "stderr",
     "output_type": "stream",
     "text": [
      "100%|████████████████████████████████████████████████████████████████████████████████████████████████████████████████████████████████████████████████████████████████████████████████████| 13/13 [00:13<00:00,  1.07s/it]\n",
      "100%|██████████████████████████████████████████████████████████████████████████████████████████████████████████████████████████████████████████████████████████████████████████████████████| 5/5 [00:04<00:00,  1.10it/s]\n"
     ]
    },
    {
     "name": "stdout",
     "output_type": "stream",
     "text": [
      "{'TRAIN Loss': {2.206583151450524}, 'MAE': {3.1427135467529297}, 'R2': -1.0565482008273466} {'EVAL Loss': {2.1926233768463135}, 'MAE': {3.151038408279419}, 'R2': -1.0534261606792081}\n"
     ]
    },
    {
     "name": "stderr",
     "output_type": "stream",
     "text": [
      "100%|████████████████████████████████████████████████████████████████████████████████████████████████████████████████████████████████████████████████████████████████████████████████████| 13/13 [00:13<00:00,  1.06s/it]\n",
      "100%|██████████████████████████████████████████████████████████████████████████████████████████████████████████████████████████████████████████████████████████████████████████████████████| 5/5 [00:04<00:00,  1.09it/s]\n"
     ]
    },
    {
     "name": "stdout",
     "output_type": "stream",
     "text": [
      "{'TRAIN Loss': {2.1775500040787916}, 'MAE': {3.1433322429656982}, 'R2': -1.0567836364974839} {'EVAL Loss': {2.2112693309783937}, 'MAE': {3.146209239959717}, 'R2': -1.0486154465984603}\n"
     ]
    },
    {
     "name": "stderr",
     "output_type": "stream",
     "text": [
      "100%|████████████████████████████████████████████████████████████████████████████████████████████████████████████████████████████████████████████████████████████████████████████████████| 13/13 [00:13<00:00,  1.04s/it]\n",
      "100%|██████████████████████████████████████████████████████████████████████████████████████████████████████████████████████████████████████████████████████████████████████████████████████| 5/5 [00:04<00:00,  1.11it/s]\n"
     ]
    },
    {
     "name": "stdout",
     "output_type": "stream",
     "text": [
      "{'TRAIN Loss': {2.1728112514202413}, 'MAE': {3.1421704292297363}, 'R2': -1.0560477273453936} {'EVAL Loss': {2.229667043685913}, 'MAE': {3.144850730895996}, 'R2': -1.0475930164636749}\n"
     ]
    },
    {
     "name": "stderr",
     "output_type": "stream",
     "text": [
      "100%|████████████████████████████████████████████████████████████████████████████████████████████████████████████████████████████████████████████████████████████████████████████████████| 13/13 [00:13<00:00,  1.05s/it]\n",
      "100%|██████████████████████████████████████████████████████████████████████████████████████████████████████████████████████████████████████████████████████████████████████████████████████| 5/5 [00:04<00:00,  1.10it/s]\n"
     ]
    },
    {
     "name": "stdout",
     "output_type": "stream",
     "text": [
      "{'TRAIN Loss': {2.1784920325646033}, 'MAE': {3.1434545516967773}, 'R2': -1.05744372189446} {'EVAL Loss': {2.220305061340332}, 'MAE': {3.145524740219116}, 'R2': -1.0486271894927244}\n"
     ]
    },
    {
     "name": "stderr",
     "output_type": "stream",
     "text": [
      "100%|████████████████████████████████████████████████████████████████████████████████████████████████████████████████████████████████████████████████████████████████████████████████████| 13/13 [00:13<00:00,  1.05s/it]\n",
      "100%|██████████████████████████████████████████████████████████████████████████████████████████████████████████████████████████████████████████████████████████████████████████████████████| 5/5 [00:04<00:00,  1.09it/s]\n"
     ]
    },
    {
     "name": "stdout",
     "output_type": "stream",
     "text": [
      "{'TRAIN Loss': {2.179720401763916}, 'MAE': {3.143705368041992}, 'R2': -1.0576575188315434} {'EVAL Loss': {2.1786598205566405}, 'MAE': {3.147510290145874}, 'R2': -1.0506387334765095}\n"
     ]
    },
    {
     "name": "stderr",
     "output_type": "stream",
     "text": [
      "100%|████████████████████████████████████████████████████████████████████████████████████████████████████████████████████████████████████████████████████████████████████████████████████| 13/13 [00:13<00:00,  1.05s/it]\n",
      "100%|██████████████████████████████████████████████████████████████████████████████████████████████████████████████████████████████████████████████████████████████████████████████████████| 5/5 [00:04<00:00,  1.07it/s]\n"
     ]
    },
    {
     "name": "stdout",
     "output_type": "stream",
     "text": [
      "{'TRAIN Loss': {2.1802007785210242}, 'MAE': {3.1409642696380615}, 'R2': -1.054741852546349} {'EVAL Loss': {2.217214822769165}, 'MAE': {3.1625523567199707}, 'R2': -1.0675769749736639}\n"
     ]
    },
    {
     "name": "stderr",
     "output_type": "stream",
     "text": [
      "100%|████████████████████████████████████████████████████████████████████████████████████████████████████████████████████████████████████████████████████████████████████████████████████| 13/13 [00:14<00:00,  1.08s/it]\n",
      "100%|██████████████████████████████████████████████████████████████████████████████████████████████████████████████████████████████████████████████████████████████████████████████████████| 5/5 [00:04<00:00,  1.10it/s]\n"
     ]
    },
    {
     "name": "stdout",
     "output_type": "stream",
     "text": [
      "{'TRAIN Loss': {2.170202090190007}, 'MAE': {3.144186496734619}, 'R2': -1.0583366409978634} {'EVAL Loss': {2.217888116836548}, 'MAE': {3.14664888381958}, 'R2': -1.0498046381014796}\n"
     ]
    },
    {
     "name": "stderr",
     "output_type": "stream",
     "text": [
      "100%|████████████████████████████████████████████████████████████████████████████████████████████████████████████████████████████████████████████████████████████████████████████████████| 13/13 [00:13<00:00,  1.04s/it]\n",
      "100%|██████████████████████████████████████████████████████████████████████████████████████████████████████████████████████████████████████████████████████████████████████████████████████| 5/5 [00:04<00:00,  1.10it/s]\n"
     ]
    },
    {
     "name": "stdout",
     "output_type": "stream",
     "text": [
      "{'TRAIN Loss': {2.1832956167367787}, 'MAE': {3.1445302963256836}, 'R2': -1.0580585780225342} {'EVAL Loss': {2.19089035987854}, 'MAE': {3.1477231979370117}, 'R2': -1.0510420000626812}\n"
     ]
    },
    {
     "name": "stderr",
     "output_type": "stream",
     "text": [
      "100%|████████████████████████████████████████████████████████████████████████████████████████████████████████████████████████████████████████████████████████████████████████████████████| 13/13 [00:13<00:00,  1.07s/it]\n",
      "100%|██████████████████████████████████████████████████████████████████████████████████████████████████████████████████████████████████████████████████████████████████████████████████████| 5/5 [00:04<00:00,  1.07it/s]\n"
     ]
    },
    {
     "name": "stdout",
     "output_type": "stream",
     "text": [
      "{'TRAIN Loss': {2.177892428178054}, 'MAE': {3.14331316947937}, 'R2': -1.0570221971243896} {'EVAL Loss': {2.1932419776916503}, 'MAE': {3.1647539138793945}, 'R2': -1.0692795081508288}\n"
     ]
    },
    {
     "name": "stderr",
     "output_type": "stream",
     "text": [
      "100%|████████████████████████████████████████████████████████████████████████████████████████████████████████████████████████████████████████████████████████████████████████████████████| 13/13 [00:14<00:00,  1.09s/it]\n",
      "100%|██████████████████████████████████████████████████████████████████████████████████████████████████████████████████████████████████████████████████████████████████████████████████████| 5/5 [00:04<00:00,  1.07it/s]\n"
     ]
    },
    {
     "name": "stdout",
     "output_type": "stream",
     "text": [
      "{'TRAIN Loss': {2.1758470902076135}, 'MAE': {3.14485239982605}, 'R2': -1.0589461872936785} {'EVAL Loss': {2.171287679672241}, 'MAE': {3.1514410972595215}, 'R2': -1.0545930006241888}\n"
     ]
    },
    {
     "name": "stderr",
     "output_type": "stream",
     "text": [
      "100%|████████████████████████████████████████████████████████████████████████████████████████████████████████████████████████████████████████████████████████████████████████████████████| 13/13 [00:13<00:00,  1.07s/it]\n",
      "100%|██████████████████████████████████████████████████████████████████████████████████████████████████████████████████████████████████████████████████████████████████████████████████████| 5/5 [00:04<00:00,  1.07it/s]\n"
     ]
    },
    {
     "name": "stdout",
     "output_type": "stream",
     "text": [
      "{'TRAIN Loss': {2.1681272249955397}, 'MAE': {3.14201283454895}, 'R2': -1.0558002800009616} {'EVAL Loss': {2.178820991516113}, 'MAE': {3.1566402912139893}, 'R2': -1.0613624612513357}\n"
     ]
    },
    {
     "name": "stderr",
     "output_type": "stream",
     "text": [
      "100%|████████████████████████████████████████████████████████████████████████████████████████████████████████████████████████████████████████████████████████████████████████████████████| 13/13 [00:14<00:00,  1.09s/it]\n",
      "100%|██████████████████████████████████████████████████████████████████████████████████████████████████████████████████████████████████████████████████████████████████████████████████████| 5/5 [00:04<00:00,  1.07it/s]\n"
     ]
    },
    {
     "name": "stdout",
     "output_type": "stream",
     "text": [
      "{'TRAIN Loss': {2.1735957585848293}, 'MAE': {3.141399621963501}, 'R2': -1.0551532162858206} {'EVAL Loss': {2.2271424770355224}, 'MAE': {3.1450047492980957}, 'R2': -1.048233514165695}\n"
     ]
    },
    {
     "name": "stderr",
     "output_type": "stream",
     "text": [
      "100%|████████████████████████████████████████████████████████████████████████████████████████████████████████████████████████████████████████████████████████████████████████████████████| 13/13 [00:13<00:00,  1.07s/it]\n",
      "100%|██████████████████████████████████████████████████████████████████████████████████████████████████████████████████████████████████████████████████████████████████████████████████████| 5/5 [00:04<00:00,  1.08it/s]\n"
     ]
    },
    {
     "name": "stdout",
     "output_type": "stream",
     "text": [
      "{'TRAIN Loss': {2.1789948573479285}, 'MAE': {3.143522262573242}, 'R2': -1.0573959863810165} {'EVAL Loss': {2.210606908798218}, 'MAE': {3.163572311401367}, 'R2': -1.0676096105599844}\n"
     ]
    },
    {
     "name": "stderr",
     "output_type": "stream",
     "text": [
      "100%|████████████████████████████████████████████████████████████████████████████████████████████████████████████████████████████████████████████████████████████████████████████████████| 13/13 [00:14<00:00,  1.09s/it]\n",
      "100%|██████████████████████████████████████████████████████████████████████████████████████████████████████████████████████████████████████████████████████████████████████████████████████| 5/5 [00:04<00:00,  1.11it/s]\n"
     ]
    },
    {
     "name": "stdout",
     "output_type": "stream",
     "text": [
      "{'TRAIN Loss': {2.2034084796905518}, 'MAE': {3.1433045864105225}, 'R2': -1.0570097126320608} {'EVAL Loss': {2.196172523498535}, 'MAE': {3.158012866973877}, 'R2': -1.0609859868739626}\n"
     ]
    },
    {
     "name": "stderr",
     "output_type": "stream",
     "text": [
      "100%|████████████████████████████████████████████████████████████████████████████████████████████████████████████████████████████████████████████████████████████████████████████████████| 13/13 [00:13<00:00,  1.07s/it]\n",
      "100%|██████████████████████████████████████████████████████████████████████████████████████████████████████████████████████████████████████████████████████████████████████████████████████| 5/5 [00:04<00:00,  1.07it/s]\n"
     ]
    },
    {
     "name": "stdout",
     "output_type": "stream",
     "text": [
      "{'TRAIN Loss': {2.212987624681913}, 'MAE': {3.1417782306671143}, 'R2': -1.0550973747445669} {'EVAL Loss': {2.2197389602661133}, 'MAE': {3.167172908782959}, 'R2': -1.071355633325242}\n"
     ]
    },
    {
     "name": "stderr",
     "output_type": "stream",
     "text": [
      "100%|████████████████████████████████████████████████████████████████████████████████████████████████████████████████████████████████████████████████████████████████████████████████████| 13/13 [00:14<00:00,  1.08s/it]\n",
      "100%|██████████████████████████████████████████████████████████████████████████████████████████████████████████████████████████████████████████████████████████████████████████████████████| 5/5 [00:04<00:00,  1.07it/s]\n"
     ]
    },
    {
     "name": "stdout",
     "output_type": "stream",
     "text": [
      "{'TRAIN Loss': {2.1992726509387674}, 'MAE': {3.1464333534240723}, 'R2': -1.059882183948234} {'EVAL Loss': {2.1732242107391357}, 'MAE': {3.1497886180877686}, 'R2': -1.052230714325097}\n"
     ]
    },
    {
     "name": "stderr",
     "output_type": "stream",
     "text": [
      "100%|████████████████████████████████████████████████████████████████████████████████████████████████████████████████████████████████████████████████████████████████████████████████████| 13/13 [00:13<00:00,  1.06s/it]\n",
      "100%|██████████████████████████████████████████████████████████████████████████████████████████████████████████████████████████████████████████████████████████████████████████████████████| 5/5 [00:04<00:00,  1.13it/s]\n"
     ]
    },
    {
     "name": "stdout",
     "output_type": "stream",
     "text": [
      "{'TRAIN Loss': {2.191974456493671}, 'MAE': {3.145066499710083}, 'R2': -1.0584693777780227} {'EVAL Loss': {2.1980727195739744}, 'MAE': {3.1475160121917725}, 'R2': -1.0499861197659417}\n"
     ]
    },
    {
     "name": "stderr",
     "output_type": "stream",
     "text": [
      "100%|████████████████████████████████████████████████████████████████████████████████████████████████████████████████████████████████████████████████████████████████████████████████████| 13/13 [00:13<00:00,  1.07s/it]\n",
      "100%|██████████████████████████████████████████████████████████████████████████████████████████████████████████████████████████████████████████████████████████████████████████████████████| 5/5 [00:04<00:00,  1.06it/s]\n"
     ]
    },
    {
     "name": "stdout",
     "output_type": "stream",
     "text": [
      "{'TRAIN Loss': {2.2004088438474216}, 'MAE': {3.1456122398376465}, 'R2': -1.0585906147678195} {'EVAL Loss': {2.221844959259033}, 'MAE': {3.146693468093872}, 'R2': -1.048925957007202}\n"
     ]
    },
    {
     "name": "stderr",
     "output_type": "stream",
     "text": [
      "100%|████████████████████████████████████████████████████████████████████████████████████████████████████████████████████████████████████████████████████████████████████████████████████| 13/13 [00:14<00:00,  1.08s/it]\n",
      "100%|██████████████████████████████████████████████████████████████████████████████████████████████████████████████████████████████████████████████████████████████████████████████████████| 5/5 [00:04<00:00,  1.07it/s]\n"
     ]
    },
    {
     "name": "stdout",
     "output_type": "stream",
     "text": [
      "{'TRAIN Loss': {2.2039440595186672}, 'MAE': {3.145488739013672}, 'R2': -1.0579245686910088} {'EVAL Loss': {2.1870014667510986}, 'MAE': {3.1507110595703125}, 'R2': -1.052053446520238}\n"
     ]
    },
    {
     "name": "stderr",
     "output_type": "stream",
     "text": [
      "100%|████████████████████████████████████████████████████████████████████████████████████████████████████████████████████████████████████████████████████████████████████████████████████| 13/13 [00:13<00:00,  1.05s/it]\n",
      "100%|██████████████████████████████████████████████████████████████████████████████████████████████████████████████████████████████████████████████████████████████████████████████████████| 5/5 [00:04<00:00,  1.10it/s]\n"
     ]
    },
    {
     "name": "stdout",
     "output_type": "stream",
     "text": [
      "{'TRAIN Loss': {2.17666717676016}, 'MAE': {3.143953323364258}, 'R2': -1.0553529526789691} {'EVAL Loss': {2.1963797092437742}, 'MAE': {3.159027576446533}, 'R2': -1.0605667418708995}\n"
     ]
    },
    {
     "name": "stderr",
     "output_type": "stream",
     "text": [
      "100%|████████████████████████████████████████████████████████████████████████████████████████████████████████████████████████████████████████████████████████████████████████████████████| 13/13 [00:13<00:00,  1.04s/it]\n",
      "100%|██████████████████████████████████████████████████████████████████████████████████████████████████████████████████████████████████████████████████████████████████████████████████████| 5/5 [00:04<00:00,  1.10it/s]\n"
     ]
    },
    {
     "name": "stdout",
     "output_type": "stream",
     "text": [
      "{'TRAIN Loss': {2.248050653017484}, 'MAE': {3.1460795402526855}, 'R2': -1.0577165035694307} {'EVAL Loss': {2.2747793197631836}, 'MAE': {3.145216464996338}, 'R2': -1.0458741124850892}\n"
     ]
    },
    {
     "name": "stderr",
     "output_type": "stream",
     "text": [
      "100%|████████████████████████████████████████████████████████████████████████████████████████████████████████████████████████████████████████████████████████████████████████████████████| 13/13 [00:14<00:00,  1.08s/it]\n",
      "100%|██████████████████████████████████████████████████████████████████████████████████████████████████████████████████████████████████████████████████████████████████████████████████████| 5/5 [00:04<00:00,  1.07it/s]\n"
     ]
    },
    {
     "name": "stdout",
     "output_type": "stream",
     "text": [
      "{'TRAIN Loss': {2.2105247240800123}, 'MAE': {3.1444242000579834}, 'R2': -1.0556474905746693} {'EVAL Loss': {2.183080244064331}, 'MAE': {3.1522796154022217}, 'R2': -1.0534047208808603}\n"
     ]
    },
    {
     "name": "stderr",
     "output_type": "stream",
     "text": [
      "100%|████████████████████████████████████████████████████████████████████████████████████████████████████████████████████████████████████████████████████████████████████████████████████| 13/13 [00:13<00:00,  1.06s/it]\n",
      "100%|██████████████████████████████████████████████████████████████████████████████████████████████████████████████████████████████████████████████████████████████████████████████████████| 5/5 [00:04<00:00,  1.11it/s]\n"
     ]
    },
    {
     "name": "stdout",
     "output_type": "stream",
     "text": [
      "{'TRAIN Loss': {2.221877794999343}, 'MAE': {3.1488611698150635}, 'R2': -1.06126237598854} {'EVAL Loss': {2.182588577270508}, 'MAE': {3.1582999229431152}, 'R2': -1.0603047516881619}\n"
     ]
    },
    {
     "name": "stderr",
     "output_type": "stream",
     "text": [
      "100%|████████████████████████████████████████████████████████████████████████████████████████████████████████████████████████████████████████████████████████████████████████████████████| 13/13 [00:13<00:00,  1.06s/it]\n",
      "100%|██████████████████████████████████████████████████████████████████████████████████████████████████████████████████████████████████████████████████████████████████████████████████████| 5/5 [00:04<00:00,  1.10it/s]\n"
     ]
    },
    {
     "name": "stdout",
     "output_type": "stream",
     "text": [
      "{'TRAIN Loss': {2.2293993142934947}, 'MAE': {3.147892713546753}, 'R2': -1.0602919642131048} {'EVAL Loss': {2.172911596298218}, 'MAE': {3.1525661945343018}, 'R2': -1.0537680035880603}\n"
     ]
    },
    {
     "name": "stderr",
     "output_type": "stream",
     "text": [
      "100%|████████████████████████████████████████████████████████████████████████████████████████████████████████████████████████████████████████████████████████████████████████████████████| 13/13 [00:13<00:00,  1.08s/it]\n",
      "100%|██████████████████████████████████████████████████████████████████████████████████████████████████████████████████████████████████████████████████████████████████████████████████████| 5/5 [00:04<00:00,  1.04it/s]\n"
     ]
    },
    {
     "name": "stdout",
     "output_type": "stream",
     "text": [
      "{'TRAIN Loss': {2.2227306916163516}, 'MAE': {3.145894765853882}, 'R2': -1.0571652096363016} {'EVAL Loss': {2.1951076984405518}, 'MAE': {3.155404806137085}, 'R2': -1.0571331784868407}\n"
     ]
    },
    {
     "name": "stderr",
     "output_type": "stream",
     "text": [
      "100%|████████████████████████████████████████████████████████████████████████████████████████████████████████████████████████████████████████████████████████████████████████████████████| 13/13 [00:13<00:00,  1.07s/it]\n",
      "100%|██████████████████████████████████████████████████████████████████████████████████████████████████████████████████████████████████████████████████████████████████████████████████████| 5/5 [00:04<00:00,  1.08it/s]\n"
     ]
    },
    {
     "name": "stdout",
     "output_type": "stream",
     "text": [
      "{'TRAIN Loss': {2.180184034200815}, 'MAE': {3.143261432647705}, 'R2': -1.055478099144513} {'EVAL Loss': {2.222938871383667}, 'MAE': {3.1661598682403564}, 'R2': -1.0689076863212588}\n"
     ]
    },
    {
     "name": "stderr",
     "output_type": "stream",
     "text": [
      " 23%|█████████████████████████████████████████▊                                                                                                                                           | 3/13 [00:03<00:10,  1.10s/it]"
     ]
    }
   ],
   "source": [
    "train_logs, eval_logs = [], []\n",
    "\n",
    "for i in range(config.epochs):\n",
    "    train_log = train_epoch(\n",
    "        model=model, \n",
    "        loader=train_loader, \n",
    "        loss_function=loss_function, \n",
    "        optimizer=optimizer,\n",
    "        scheduler=scheduler,\n",
    "        device=config.device\n",
    "    )\n",
    "    \n",
    "    eval_log = eval_epoch(\n",
    "        model=model, \n",
    "        loader=eval_loader, \n",
    "        loss_function=loss_function, \n",
    "        device=config.device\n",
    "    )\n",
    "\n",
    "    print(train_log, eval_log)\n",
    "    \n",
    "    train_logs.append(train_log)\n",
    "    eval_logs.append(eval_log)"
   ]
  },
  {
   "cell_type": "code",
   "execution_count": null,
   "id": "f715adc3-6b79-4c51-a93a-ab42ce20e6f1",
   "metadata": {},
   "outputs": [],
   "source": []
  },
  {
   "cell_type": "code",
   "execution_count": null,
   "id": "da71e1d5-47d8-4382-95a1-2f96ed293734",
   "metadata": {},
   "outputs": [],
   "source": []
  }
 ],
 "metadata": {
  "kernelspec": {
   "display_name": "Python 3 (ipykernel)",
   "language": "python",
   "name": "python3"
  },
  "language_info": {
   "codemirror_mode": {
    "name": "ipython",
    "version": 3
   },
   "file_extension": ".py",
   "mimetype": "text/x-python",
   "name": "python",
   "nbconvert_exporter": "python",
   "pygments_lexer": "ipython3",
   "version": "3.10.12"
  }
 },
 "nbformat": 4,
 "nbformat_minor": 5
}
